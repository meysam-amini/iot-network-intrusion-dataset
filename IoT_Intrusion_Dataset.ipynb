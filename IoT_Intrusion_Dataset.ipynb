{
  "nbformat": 4,
  "nbformat_minor": 0,
  "metadata": {
    "accelerator": "GPU",
    "colab": {
      "name": "IoT Intrusion Dataset.ipynb",
      "provenance": [],
      "collapsed_sections": []
    },
    "kernelspec": {
      "display_name": "Python 3",
      "name": "python3"
    },
    "language_info": {
      "name": "python"
    },
    "widgets": {
      "application/vnd.jupyter.widget-state+json": {
        "1979e81e9b894cb5a7250e6945ee47ea": {
          "model_module": "@jupyter-widgets/controls",
          "model_name": "HBoxModel",
          "model_module_version": "1.5.0",
          "state": {
            "_view_name": "HBoxView",
            "_dom_classes": [],
            "_model_name": "HBoxModel",
            "_view_module": "@jupyter-widgets/controls",
            "_model_module_version": "1.5.0",
            "_view_count": null,
            "_view_module_version": "1.5.0",
            "box_style": "",
            "layout": "IPY_MODEL_bec5c071f3e54b0389dfd130878ea1e5",
            "_model_module": "@jupyter-widgets/controls",
            "children": [
              "IPY_MODEL_2d48d55755c046b98ffcccabaa996f37",
              "IPY_MODEL_ef0b39932aae4171a7827b5b8e0f6a57",
              "IPY_MODEL_da71f55682364f58979caf45b6230f06"
            ]
          }
        },
        "bec5c071f3e54b0389dfd130878ea1e5": {
          "model_module": "@jupyter-widgets/base",
          "model_name": "LayoutModel",
          "model_module_version": "1.2.0",
          "state": {
            "_view_name": "LayoutView",
            "grid_template_rows": null,
            "right": null,
            "justify_content": null,
            "_view_module": "@jupyter-widgets/base",
            "overflow": null,
            "_model_module_version": "1.2.0",
            "_view_count": null,
            "flex_flow": null,
            "width": null,
            "min_width": null,
            "border": null,
            "align_items": null,
            "bottom": null,
            "_model_module": "@jupyter-widgets/base",
            "top": null,
            "grid_column": null,
            "overflow_y": null,
            "overflow_x": null,
            "grid_auto_flow": null,
            "grid_area": null,
            "grid_template_columns": null,
            "flex": null,
            "_model_name": "LayoutModel",
            "justify_items": null,
            "grid_row": null,
            "max_height": null,
            "align_content": null,
            "visibility": null,
            "align_self": null,
            "height": null,
            "min_height": null,
            "padding": null,
            "grid_auto_rows": null,
            "grid_gap": null,
            "max_width": null,
            "order": null,
            "_view_module_version": "1.2.0",
            "grid_template_areas": null,
            "object_position": null,
            "object_fit": null,
            "grid_auto_columns": null,
            "margin": null,
            "display": null,
            "left": null
          }
        },
        "2d48d55755c046b98ffcccabaa996f37": {
          "model_module": "@jupyter-widgets/controls",
          "model_name": "HTMLModel",
          "model_module_version": "1.5.0",
          "state": {
            "_view_name": "HTMLView",
            "style": "IPY_MODEL_c7584dc7ccb446dda1a17ccad088a3fd",
            "_dom_classes": [],
            "description": "",
            "_model_name": "HTMLModel",
            "placeholder": "​",
            "_view_module": "@jupyter-widgets/controls",
            "_model_module_version": "1.5.0",
            "value": "100%",
            "_view_count": null,
            "_view_module_version": "1.5.0",
            "description_tooltip": null,
            "_model_module": "@jupyter-widgets/controls",
            "layout": "IPY_MODEL_8914e245867f459b939314e15cce4977"
          }
        },
        "ef0b39932aae4171a7827b5b8e0f6a57": {
          "model_module": "@jupyter-widgets/controls",
          "model_name": "FloatProgressModel",
          "model_module_version": "1.5.0",
          "state": {
            "_view_name": "ProgressView",
            "style": "IPY_MODEL_82b2eade1b2242f8825304a391114905",
            "_dom_classes": [],
            "description": "",
            "_model_name": "FloatProgressModel",
            "bar_style": "success",
            "max": 10,
            "_view_module": "@jupyter-widgets/controls",
            "_model_module_version": "1.5.0",
            "value": 10,
            "_view_count": null,
            "_view_module_version": "1.5.0",
            "orientation": "horizontal",
            "min": 0,
            "description_tooltip": null,
            "_model_module": "@jupyter-widgets/controls",
            "layout": "IPY_MODEL_52eaf4922c554a839923b45bfa910943"
          }
        },
        "da71f55682364f58979caf45b6230f06": {
          "model_module": "@jupyter-widgets/controls",
          "model_name": "HTMLModel",
          "model_module_version": "1.5.0",
          "state": {
            "_view_name": "HTMLView",
            "style": "IPY_MODEL_6b631ce59ffa4066b5d470fd284d4cb7",
            "_dom_classes": [],
            "description": "",
            "_model_name": "HTMLModel",
            "placeholder": "​",
            "_view_module": "@jupyter-widgets/controls",
            "_model_module_version": "1.5.0",
            "value": " 10/10 [00:14&lt;00:00,  1.43s/it]",
            "_view_count": null,
            "_view_module_version": "1.5.0",
            "description_tooltip": null,
            "_model_module": "@jupyter-widgets/controls",
            "layout": "IPY_MODEL_2fff803d58c348eabf5f0cc729f59e72"
          }
        },
        "c7584dc7ccb446dda1a17ccad088a3fd": {
          "model_module": "@jupyter-widgets/controls",
          "model_name": "DescriptionStyleModel",
          "model_module_version": "1.5.0",
          "state": {
            "_view_name": "StyleView",
            "_model_name": "DescriptionStyleModel",
            "description_width": "",
            "_view_module": "@jupyter-widgets/base",
            "_model_module_version": "1.5.0",
            "_view_count": null,
            "_view_module_version": "1.2.0",
            "_model_module": "@jupyter-widgets/controls"
          }
        },
        "8914e245867f459b939314e15cce4977": {
          "model_module": "@jupyter-widgets/base",
          "model_name": "LayoutModel",
          "model_module_version": "1.2.0",
          "state": {
            "_view_name": "LayoutView",
            "grid_template_rows": null,
            "right": null,
            "justify_content": null,
            "_view_module": "@jupyter-widgets/base",
            "overflow": null,
            "_model_module_version": "1.2.0",
            "_view_count": null,
            "flex_flow": null,
            "width": null,
            "min_width": null,
            "border": null,
            "align_items": null,
            "bottom": null,
            "_model_module": "@jupyter-widgets/base",
            "top": null,
            "grid_column": null,
            "overflow_y": null,
            "overflow_x": null,
            "grid_auto_flow": null,
            "grid_area": null,
            "grid_template_columns": null,
            "flex": null,
            "_model_name": "LayoutModel",
            "justify_items": null,
            "grid_row": null,
            "max_height": null,
            "align_content": null,
            "visibility": null,
            "align_self": null,
            "height": null,
            "min_height": null,
            "padding": null,
            "grid_auto_rows": null,
            "grid_gap": null,
            "max_width": null,
            "order": null,
            "_view_module_version": "1.2.0",
            "grid_template_areas": null,
            "object_position": null,
            "object_fit": null,
            "grid_auto_columns": null,
            "margin": null,
            "display": null,
            "left": null
          }
        },
        "82b2eade1b2242f8825304a391114905": {
          "model_module": "@jupyter-widgets/controls",
          "model_name": "ProgressStyleModel",
          "model_module_version": "1.5.0",
          "state": {
            "_view_name": "StyleView",
            "_model_name": "ProgressStyleModel",
            "description_width": "",
            "_view_module": "@jupyter-widgets/base",
            "_model_module_version": "1.5.0",
            "_view_count": null,
            "_view_module_version": "1.2.0",
            "bar_color": null,
            "_model_module": "@jupyter-widgets/controls"
          }
        },
        "52eaf4922c554a839923b45bfa910943": {
          "model_module": "@jupyter-widgets/base",
          "model_name": "LayoutModel",
          "model_module_version": "1.2.0",
          "state": {
            "_view_name": "LayoutView",
            "grid_template_rows": null,
            "right": null,
            "justify_content": null,
            "_view_module": "@jupyter-widgets/base",
            "overflow": null,
            "_model_module_version": "1.2.0",
            "_view_count": null,
            "flex_flow": null,
            "width": null,
            "min_width": null,
            "border": null,
            "align_items": null,
            "bottom": null,
            "_model_module": "@jupyter-widgets/base",
            "top": null,
            "grid_column": null,
            "overflow_y": null,
            "overflow_x": null,
            "grid_auto_flow": null,
            "grid_area": null,
            "grid_template_columns": null,
            "flex": null,
            "_model_name": "LayoutModel",
            "justify_items": null,
            "grid_row": null,
            "max_height": null,
            "align_content": null,
            "visibility": null,
            "align_self": null,
            "height": null,
            "min_height": null,
            "padding": null,
            "grid_auto_rows": null,
            "grid_gap": null,
            "max_width": null,
            "order": null,
            "_view_module_version": "1.2.0",
            "grid_template_areas": null,
            "object_position": null,
            "object_fit": null,
            "grid_auto_columns": null,
            "margin": null,
            "display": null,
            "left": null
          }
        },
        "6b631ce59ffa4066b5d470fd284d4cb7": {
          "model_module": "@jupyter-widgets/controls",
          "model_name": "DescriptionStyleModel",
          "model_module_version": "1.5.0",
          "state": {
            "_view_name": "StyleView",
            "_model_name": "DescriptionStyleModel",
            "description_width": "",
            "_view_module": "@jupyter-widgets/base",
            "_model_module_version": "1.5.0",
            "_view_count": null,
            "_view_module_version": "1.2.0",
            "_model_module": "@jupyter-widgets/controls"
          }
        },
        "2fff803d58c348eabf5f0cc729f59e72": {
          "model_module": "@jupyter-widgets/base",
          "model_name": "LayoutModel",
          "model_module_version": "1.2.0",
          "state": {
            "_view_name": "LayoutView",
            "grid_template_rows": null,
            "right": null,
            "justify_content": null,
            "_view_module": "@jupyter-widgets/base",
            "overflow": null,
            "_model_module_version": "1.2.0",
            "_view_count": null,
            "flex_flow": null,
            "width": null,
            "min_width": null,
            "border": null,
            "align_items": null,
            "bottom": null,
            "_model_module": "@jupyter-widgets/base",
            "top": null,
            "grid_column": null,
            "overflow_y": null,
            "overflow_x": null,
            "grid_auto_flow": null,
            "grid_area": null,
            "grid_template_columns": null,
            "flex": null,
            "_model_name": "LayoutModel",
            "justify_items": null,
            "grid_row": null,
            "max_height": null,
            "align_content": null,
            "visibility": null,
            "align_self": null,
            "height": null,
            "min_height": null,
            "padding": null,
            "grid_auto_rows": null,
            "grid_gap": null,
            "max_width": null,
            "order": null,
            "_view_module_version": "1.2.0",
            "grid_template_areas": null,
            "object_position": null,
            "object_fit": null,
            "grid_auto_columns": null,
            "margin": null,
            "display": null,
            "left": null
          }
        },
        "ba9fb97ad1ee4d59815bddc60a40e7a1": {
          "model_module": "@jupyter-widgets/controls",
          "model_name": "HBoxModel",
          "model_module_version": "1.5.0",
          "state": {
            "_view_name": "HBoxView",
            "_dom_classes": [],
            "_model_name": "HBoxModel",
            "_view_module": "@jupyter-widgets/controls",
            "_model_module_version": "1.5.0",
            "_view_count": null,
            "_view_module_version": "1.5.0",
            "box_style": "",
            "layout": "IPY_MODEL_d345ed466157453892fd287b1a0e54fe",
            "_model_module": "@jupyter-widgets/controls",
            "children": [
              "IPY_MODEL_d35ba57f12114289b7b2a560eda91069",
              "IPY_MODEL_5cbf1420864d49a39176015257dd369b",
              "IPY_MODEL_bb7c212f016947638251bfc12cc9d702"
            ]
          }
        },
        "d345ed466157453892fd287b1a0e54fe": {
          "model_module": "@jupyter-widgets/base",
          "model_name": "LayoutModel",
          "model_module_version": "1.2.0",
          "state": {
            "_view_name": "LayoutView",
            "grid_template_rows": null,
            "right": null,
            "justify_content": null,
            "_view_module": "@jupyter-widgets/base",
            "overflow": null,
            "_model_module_version": "1.2.0",
            "_view_count": null,
            "flex_flow": null,
            "width": null,
            "min_width": null,
            "border": null,
            "align_items": null,
            "bottom": null,
            "_model_module": "@jupyter-widgets/base",
            "top": null,
            "grid_column": null,
            "overflow_y": null,
            "overflow_x": null,
            "grid_auto_flow": null,
            "grid_area": null,
            "grid_template_columns": null,
            "flex": null,
            "_model_name": "LayoutModel",
            "justify_items": null,
            "grid_row": null,
            "max_height": null,
            "align_content": null,
            "visibility": null,
            "align_self": null,
            "height": null,
            "min_height": null,
            "padding": null,
            "grid_auto_rows": null,
            "grid_gap": null,
            "max_width": null,
            "order": null,
            "_view_module_version": "1.2.0",
            "grid_template_areas": null,
            "object_position": null,
            "object_fit": null,
            "grid_auto_columns": null,
            "margin": null,
            "display": null,
            "left": null
          }
        },
        "d35ba57f12114289b7b2a560eda91069": {
          "model_module": "@jupyter-widgets/controls",
          "model_name": "HTMLModel",
          "model_module_version": "1.5.0",
          "state": {
            "_view_name": "HTMLView",
            "style": "IPY_MODEL_2035d79bf0ca4420a7701daa22683ff6",
            "_dom_classes": [],
            "description": "",
            "_model_name": "HTMLModel",
            "placeholder": "​",
            "_view_module": "@jupyter-widgets/controls",
            "_model_module_version": "1.5.0",
            "value": "100%",
            "_view_count": null,
            "_view_module_version": "1.5.0",
            "description_tooltip": null,
            "_model_module": "@jupyter-widgets/controls",
            "layout": "IPY_MODEL_fff75c0d7fbc450eac263011057ad4f2"
          }
        },
        "5cbf1420864d49a39176015257dd369b": {
          "model_module": "@jupyter-widgets/controls",
          "model_name": "FloatProgressModel",
          "model_module_version": "1.5.0",
          "state": {
            "_view_name": "ProgressView",
            "style": "IPY_MODEL_cd5cfcd02c7d4d588a9197797ddfa9d3",
            "_dom_classes": [],
            "description": "",
            "_model_name": "FloatProgressModel",
            "bar_style": "success",
            "max": 4,
            "_view_module": "@jupyter-widgets/controls",
            "_model_module_version": "1.5.0",
            "value": 4,
            "_view_count": null,
            "_view_module_version": "1.5.0",
            "orientation": "horizontal",
            "min": 0,
            "description_tooltip": null,
            "_model_module": "@jupyter-widgets/controls",
            "layout": "IPY_MODEL_35153daa4efd4661ba3049297418c234"
          }
        },
        "bb7c212f016947638251bfc12cc9d702": {
          "model_module": "@jupyter-widgets/controls",
          "model_name": "HTMLModel",
          "model_module_version": "1.5.0",
          "state": {
            "_view_name": "HTMLView",
            "style": "IPY_MODEL_8b214fe447944b1f85854b785c217f7d",
            "_dom_classes": [],
            "description": "",
            "_model_name": "HTMLModel",
            "placeholder": "​",
            "_view_module": "@jupyter-widgets/controls",
            "_model_module_version": "1.5.0",
            "value": " 4/4 [03:52&lt;00:00, 44.76s/it]",
            "_view_count": null,
            "_view_module_version": "1.5.0",
            "description_tooltip": null,
            "_model_module": "@jupyter-widgets/controls",
            "layout": "IPY_MODEL_337bb536f3b74d1a963f98b6f8b23524"
          }
        },
        "2035d79bf0ca4420a7701daa22683ff6": {
          "model_module": "@jupyter-widgets/controls",
          "model_name": "DescriptionStyleModel",
          "model_module_version": "1.5.0",
          "state": {
            "_view_name": "StyleView",
            "_model_name": "DescriptionStyleModel",
            "description_width": "",
            "_view_module": "@jupyter-widgets/base",
            "_model_module_version": "1.5.0",
            "_view_count": null,
            "_view_module_version": "1.2.0",
            "_model_module": "@jupyter-widgets/controls"
          }
        },
        "fff75c0d7fbc450eac263011057ad4f2": {
          "model_module": "@jupyter-widgets/base",
          "model_name": "LayoutModel",
          "model_module_version": "1.2.0",
          "state": {
            "_view_name": "LayoutView",
            "grid_template_rows": null,
            "right": null,
            "justify_content": null,
            "_view_module": "@jupyter-widgets/base",
            "overflow": null,
            "_model_module_version": "1.2.0",
            "_view_count": null,
            "flex_flow": null,
            "width": null,
            "min_width": null,
            "border": null,
            "align_items": null,
            "bottom": null,
            "_model_module": "@jupyter-widgets/base",
            "top": null,
            "grid_column": null,
            "overflow_y": null,
            "overflow_x": null,
            "grid_auto_flow": null,
            "grid_area": null,
            "grid_template_columns": null,
            "flex": null,
            "_model_name": "LayoutModel",
            "justify_items": null,
            "grid_row": null,
            "max_height": null,
            "align_content": null,
            "visibility": null,
            "align_self": null,
            "height": null,
            "min_height": null,
            "padding": null,
            "grid_auto_rows": null,
            "grid_gap": null,
            "max_width": null,
            "order": null,
            "_view_module_version": "1.2.0",
            "grid_template_areas": null,
            "object_position": null,
            "object_fit": null,
            "grid_auto_columns": null,
            "margin": null,
            "display": null,
            "left": null
          }
        },
        "cd5cfcd02c7d4d588a9197797ddfa9d3": {
          "model_module": "@jupyter-widgets/controls",
          "model_name": "ProgressStyleModel",
          "model_module_version": "1.5.0",
          "state": {
            "_view_name": "StyleView",
            "_model_name": "ProgressStyleModel",
            "description_width": "",
            "_view_module": "@jupyter-widgets/base",
            "_model_module_version": "1.5.0",
            "_view_count": null,
            "_view_module_version": "1.2.0",
            "bar_color": null,
            "_model_module": "@jupyter-widgets/controls"
          }
        },
        "35153daa4efd4661ba3049297418c234": {
          "model_module": "@jupyter-widgets/base",
          "model_name": "LayoutModel",
          "model_module_version": "1.2.0",
          "state": {
            "_view_name": "LayoutView",
            "grid_template_rows": null,
            "right": null,
            "justify_content": null,
            "_view_module": "@jupyter-widgets/base",
            "overflow": null,
            "_model_module_version": "1.2.0",
            "_view_count": null,
            "flex_flow": null,
            "width": null,
            "min_width": null,
            "border": null,
            "align_items": null,
            "bottom": null,
            "_model_module": "@jupyter-widgets/base",
            "top": null,
            "grid_column": null,
            "overflow_y": null,
            "overflow_x": null,
            "grid_auto_flow": null,
            "grid_area": null,
            "grid_template_columns": null,
            "flex": null,
            "_model_name": "LayoutModel",
            "justify_items": null,
            "grid_row": null,
            "max_height": null,
            "align_content": null,
            "visibility": null,
            "align_self": null,
            "height": null,
            "min_height": null,
            "padding": null,
            "grid_auto_rows": null,
            "grid_gap": null,
            "max_width": null,
            "order": null,
            "_view_module_version": "1.2.0",
            "grid_template_areas": null,
            "object_position": null,
            "object_fit": null,
            "grid_auto_columns": null,
            "margin": null,
            "display": null,
            "left": null
          }
        },
        "8b214fe447944b1f85854b785c217f7d": {
          "model_module": "@jupyter-widgets/controls",
          "model_name": "DescriptionStyleModel",
          "model_module_version": "1.5.0",
          "state": {
            "_view_name": "StyleView",
            "_model_name": "DescriptionStyleModel",
            "description_width": "",
            "_view_module": "@jupyter-widgets/base",
            "_model_module_version": "1.5.0",
            "_view_count": null,
            "_view_module_version": "1.2.0",
            "_model_module": "@jupyter-widgets/controls"
          }
        },
        "337bb536f3b74d1a963f98b6f8b23524": {
          "model_module": "@jupyter-widgets/base",
          "model_name": "LayoutModel",
          "model_module_version": "1.2.0",
          "state": {
            "_view_name": "LayoutView",
            "grid_template_rows": null,
            "right": null,
            "justify_content": null,
            "_view_module": "@jupyter-widgets/base",
            "overflow": null,
            "_model_module_version": "1.2.0",
            "_view_count": null,
            "flex_flow": null,
            "width": null,
            "min_width": null,
            "border": null,
            "align_items": null,
            "bottom": null,
            "_model_module": "@jupyter-widgets/base",
            "top": null,
            "grid_column": null,
            "overflow_y": null,
            "overflow_x": null,
            "grid_auto_flow": null,
            "grid_area": null,
            "grid_template_columns": null,
            "flex": null,
            "_model_name": "LayoutModel",
            "justify_items": null,
            "grid_row": null,
            "max_height": null,
            "align_content": null,
            "visibility": null,
            "align_self": null,
            "height": null,
            "min_height": null,
            "padding": null,
            "grid_auto_rows": null,
            "grid_gap": null,
            "max_width": null,
            "order": null,
            "_view_module_version": "1.2.0",
            "grid_template_areas": null,
            "object_position": null,
            "object_fit": null,
            "grid_auto_columns": null,
            "margin": null,
            "display": null,
            "left": null
          }
        },
        "34c2e8da77114ca4b1be0c9cbff57d2d": {
          "model_module": "@jupyter-widgets/controls",
          "model_name": "HBoxModel",
          "model_module_version": "1.5.0",
          "state": {
            "_view_name": "HBoxView",
            "_dom_classes": [],
            "_model_name": "HBoxModel",
            "_view_module": "@jupyter-widgets/controls",
            "_model_module_version": "1.5.0",
            "_view_count": null,
            "_view_module_version": "1.5.0",
            "box_style": "",
            "layout": "IPY_MODEL_6a296807ec384a77be1ac739c279f276",
            "_model_module": "@jupyter-widgets/controls",
            "children": [
              "IPY_MODEL_e5a1bc0340d14a5397fe202f4bac86d8",
              "IPY_MODEL_3e62523ecf0f42e99387a3b0f1d5a730",
              "IPY_MODEL_71a11f1b2a3844c88483089b4fb5b84e"
            ]
          }
        },
        "6a296807ec384a77be1ac739c279f276": {
          "model_module": "@jupyter-widgets/base",
          "model_name": "LayoutModel",
          "model_module_version": "1.2.0",
          "state": {
            "_view_name": "LayoutView",
            "grid_template_rows": null,
            "right": null,
            "justify_content": null,
            "_view_module": "@jupyter-widgets/base",
            "overflow": null,
            "_model_module_version": "1.2.0",
            "_view_count": null,
            "flex_flow": null,
            "width": null,
            "min_width": null,
            "border": null,
            "align_items": null,
            "bottom": null,
            "_model_module": "@jupyter-widgets/base",
            "top": null,
            "grid_column": null,
            "overflow_y": null,
            "overflow_x": null,
            "grid_auto_flow": null,
            "grid_area": null,
            "grid_template_columns": null,
            "flex": null,
            "_model_name": "LayoutModel",
            "justify_items": null,
            "grid_row": null,
            "max_height": null,
            "align_content": null,
            "visibility": null,
            "align_self": null,
            "height": null,
            "min_height": null,
            "padding": null,
            "grid_auto_rows": null,
            "grid_gap": null,
            "max_width": null,
            "order": null,
            "_view_module_version": "1.2.0",
            "grid_template_areas": null,
            "object_position": null,
            "object_fit": null,
            "grid_auto_columns": null,
            "margin": null,
            "display": null,
            "left": null
          }
        },
        "e5a1bc0340d14a5397fe202f4bac86d8": {
          "model_module": "@jupyter-widgets/controls",
          "model_name": "HTMLModel",
          "model_module_version": "1.5.0",
          "state": {
            "_view_name": "HTMLView",
            "style": "IPY_MODEL_f152e4817a754f99b72c430eadef3bf3",
            "_dom_classes": [],
            "description": "",
            "_model_name": "HTMLModel",
            "placeholder": "​",
            "_view_module": "@jupyter-widgets/controls",
            "_model_module_version": "1.5.0",
            "value": "100%",
            "_view_count": null,
            "_view_module_version": "1.5.0",
            "description_tooltip": null,
            "_model_module": "@jupyter-widgets/controls",
            "layout": "IPY_MODEL_6ce9c62f0e16498aa0b729d7bba64232"
          }
        },
        "3e62523ecf0f42e99387a3b0f1d5a730": {
          "model_module": "@jupyter-widgets/controls",
          "model_name": "FloatProgressModel",
          "model_module_version": "1.5.0",
          "state": {
            "_view_name": "ProgressView",
            "style": "IPY_MODEL_ed190bf392934579af42f00aca68c0f3",
            "_dom_classes": [],
            "description": "",
            "_model_name": "FloatProgressModel",
            "bar_style": "success",
            "max": 4,
            "_view_module": "@jupyter-widgets/controls",
            "_model_module_version": "1.5.0",
            "value": 4,
            "_view_count": null,
            "_view_module_version": "1.5.0",
            "orientation": "horizontal",
            "min": 0,
            "description_tooltip": null,
            "_model_module": "@jupyter-widgets/controls",
            "layout": "IPY_MODEL_355944b5b9d441fc8801a99a08858274"
          }
        },
        "71a11f1b2a3844c88483089b4fb5b84e": {
          "model_module": "@jupyter-widgets/controls",
          "model_name": "HTMLModel",
          "model_module_version": "1.5.0",
          "state": {
            "_view_name": "HTMLView",
            "style": "IPY_MODEL_a954051fcd40420c94f0ad2f69b37f82",
            "_dom_classes": [],
            "description": "",
            "_model_name": "HTMLModel",
            "placeholder": "​",
            "_view_module": "@jupyter-widgets/controls",
            "_model_module_version": "1.5.0",
            "value": " 4/4 [00:13&lt;00:00,  3.97s/it]",
            "_view_count": null,
            "_view_module_version": "1.5.0",
            "description_tooltip": null,
            "_model_module": "@jupyter-widgets/controls",
            "layout": "IPY_MODEL_070637514fd04642957a708ea360f28b"
          }
        },
        "f152e4817a754f99b72c430eadef3bf3": {
          "model_module": "@jupyter-widgets/controls",
          "model_name": "DescriptionStyleModel",
          "model_module_version": "1.5.0",
          "state": {
            "_view_name": "StyleView",
            "_model_name": "DescriptionStyleModel",
            "description_width": "",
            "_view_module": "@jupyter-widgets/base",
            "_model_module_version": "1.5.0",
            "_view_count": null,
            "_view_module_version": "1.2.0",
            "_model_module": "@jupyter-widgets/controls"
          }
        },
        "6ce9c62f0e16498aa0b729d7bba64232": {
          "model_module": "@jupyter-widgets/base",
          "model_name": "LayoutModel",
          "model_module_version": "1.2.0",
          "state": {
            "_view_name": "LayoutView",
            "grid_template_rows": null,
            "right": null,
            "justify_content": null,
            "_view_module": "@jupyter-widgets/base",
            "overflow": null,
            "_model_module_version": "1.2.0",
            "_view_count": null,
            "flex_flow": null,
            "width": null,
            "min_width": null,
            "border": null,
            "align_items": null,
            "bottom": null,
            "_model_module": "@jupyter-widgets/base",
            "top": null,
            "grid_column": null,
            "overflow_y": null,
            "overflow_x": null,
            "grid_auto_flow": null,
            "grid_area": null,
            "grid_template_columns": null,
            "flex": null,
            "_model_name": "LayoutModel",
            "justify_items": null,
            "grid_row": null,
            "max_height": null,
            "align_content": null,
            "visibility": null,
            "align_self": null,
            "height": null,
            "min_height": null,
            "padding": null,
            "grid_auto_rows": null,
            "grid_gap": null,
            "max_width": null,
            "order": null,
            "_view_module_version": "1.2.0",
            "grid_template_areas": null,
            "object_position": null,
            "object_fit": null,
            "grid_auto_columns": null,
            "margin": null,
            "display": null,
            "left": null
          }
        },
        "ed190bf392934579af42f00aca68c0f3": {
          "model_module": "@jupyter-widgets/controls",
          "model_name": "ProgressStyleModel",
          "model_module_version": "1.5.0",
          "state": {
            "_view_name": "StyleView",
            "_model_name": "ProgressStyleModel",
            "description_width": "",
            "_view_module": "@jupyter-widgets/base",
            "_model_module_version": "1.5.0",
            "_view_count": null,
            "_view_module_version": "1.2.0",
            "bar_color": null,
            "_model_module": "@jupyter-widgets/controls"
          }
        },
        "355944b5b9d441fc8801a99a08858274": {
          "model_module": "@jupyter-widgets/base",
          "model_name": "LayoutModel",
          "model_module_version": "1.2.0",
          "state": {
            "_view_name": "LayoutView",
            "grid_template_rows": null,
            "right": null,
            "justify_content": null,
            "_view_module": "@jupyter-widgets/base",
            "overflow": null,
            "_model_module_version": "1.2.0",
            "_view_count": null,
            "flex_flow": null,
            "width": null,
            "min_width": null,
            "border": null,
            "align_items": null,
            "bottom": null,
            "_model_module": "@jupyter-widgets/base",
            "top": null,
            "grid_column": null,
            "overflow_y": null,
            "overflow_x": null,
            "grid_auto_flow": null,
            "grid_area": null,
            "grid_template_columns": null,
            "flex": null,
            "_model_name": "LayoutModel",
            "justify_items": null,
            "grid_row": null,
            "max_height": null,
            "align_content": null,
            "visibility": null,
            "align_self": null,
            "height": null,
            "min_height": null,
            "padding": null,
            "grid_auto_rows": null,
            "grid_gap": null,
            "max_width": null,
            "order": null,
            "_view_module_version": "1.2.0",
            "grid_template_areas": null,
            "object_position": null,
            "object_fit": null,
            "grid_auto_columns": null,
            "margin": null,
            "display": null,
            "left": null
          }
        },
        "a954051fcd40420c94f0ad2f69b37f82": {
          "model_module": "@jupyter-widgets/controls",
          "model_name": "DescriptionStyleModel",
          "model_module_version": "1.5.0",
          "state": {
            "_view_name": "StyleView",
            "_model_name": "DescriptionStyleModel",
            "description_width": "",
            "_view_module": "@jupyter-widgets/base",
            "_model_module_version": "1.5.0",
            "_view_count": null,
            "_view_module_version": "1.2.0",
            "_model_module": "@jupyter-widgets/controls"
          }
        },
        "070637514fd04642957a708ea360f28b": {
          "model_module": "@jupyter-widgets/base",
          "model_name": "LayoutModel",
          "model_module_version": "1.2.0",
          "state": {
            "_view_name": "LayoutView",
            "grid_template_rows": null,
            "right": null,
            "justify_content": null,
            "_view_module": "@jupyter-widgets/base",
            "overflow": null,
            "_model_module_version": "1.2.0",
            "_view_count": null,
            "flex_flow": null,
            "width": null,
            "min_width": null,
            "border": null,
            "align_items": null,
            "bottom": null,
            "_model_module": "@jupyter-widgets/base",
            "top": null,
            "grid_column": null,
            "overflow_y": null,
            "overflow_x": null,
            "grid_auto_flow": null,
            "grid_area": null,
            "grid_template_columns": null,
            "flex": null,
            "_model_name": "LayoutModel",
            "justify_items": null,
            "grid_row": null,
            "max_height": null,
            "align_content": null,
            "visibility": null,
            "align_self": null,
            "height": null,
            "min_height": null,
            "padding": null,
            "grid_auto_rows": null,
            "grid_gap": null,
            "max_width": null,
            "order": null,
            "_view_module_version": "1.2.0",
            "grid_template_areas": null,
            "object_position": null,
            "object_fit": null,
            "grid_auto_columns": null,
            "margin": null,
            "display": null,
            "left": null
          }
        },
        "b005a51924f64961817c2c3f9d841f2a": {
          "model_module": "@jupyter-widgets/controls",
          "model_name": "HBoxModel",
          "model_module_version": "1.5.0",
          "state": {
            "_view_name": "HBoxView",
            "_dom_classes": [],
            "_model_name": "HBoxModel",
            "_view_module": "@jupyter-widgets/controls",
            "_model_module_version": "1.5.0",
            "_view_count": null,
            "_view_module_version": "1.5.0",
            "box_style": "",
            "layout": "IPY_MODEL_f74edaea5b8b485a98d5143077f50c4b",
            "_model_module": "@jupyter-widgets/controls",
            "children": [
              "IPY_MODEL_2d7b9a6787be498194186fb45e7ecb84",
              "IPY_MODEL_1b9065d56aaa423486cfc198396eca85",
              "IPY_MODEL_98153e148e0d4850b843da42c8f773d0"
            ]
          }
        },
        "f74edaea5b8b485a98d5143077f50c4b": {
          "model_module": "@jupyter-widgets/base",
          "model_name": "LayoutModel",
          "model_module_version": "1.2.0",
          "state": {
            "_view_name": "LayoutView",
            "grid_template_rows": null,
            "right": null,
            "justify_content": null,
            "_view_module": "@jupyter-widgets/base",
            "overflow": null,
            "_model_module_version": "1.2.0",
            "_view_count": null,
            "flex_flow": null,
            "width": null,
            "min_width": null,
            "border": null,
            "align_items": null,
            "bottom": null,
            "_model_module": "@jupyter-widgets/base",
            "top": null,
            "grid_column": null,
            "overflow_y": null,
            "overflow_x": null,
            "grid_auto_flow": null,
            "grid_area": null,
            "grid_template_columns": null,
            "flex": null,
            "_model_name": "LayoutModel",
            "justify_items": null,
            "grid_row": null,
            "max_height": null,
            "align_content": null,
            "visibility": null,
            "align_self": null,
            "height": null,
            "min_height": null,
            "padding": null,
            "grid_auto_rows": null,
            "grid_gap": null,
            "max_width": null,
            "order": null,
            "_view_module_version": "1.2.0",
            "grid_template_areas": null,
            "object_position": null,
            "object_fit": null,
            "grid_auto_columns": null,
            "margin": null,
            "display": null,
            "left": null
          }
        },
        "2d7b9a6787be498194186fb45e7ecb84": {
          "model_module": "@jupyter-widgets/controls",
          "model_name": "HTMLModel",
          "model_module_version": "1.5.0",
          "state": {
            "_view_name": "HTMLView",
            "style": "IPY_MODEL_172759338c344fa29072f2fed0db1437",
            "_dom_classes": [],
            "description": "",
            "_model_name": "HTMLModel",
            "placeholder": "​",
            "_view_module": "@jupyter-widgets/controls",
            "_model_module_version": "1.5.0",
            "value": "100%",
            "_view_count": null,
            "_view_module_version": "1.5.0",
            "description_tooltip": null,
            "_model_module": "@jupyter-widgets/controls",
            "layout": "IPY_MODEL_73395987e56c46568da3ac763c688e8f"
          }
        },
        "1b9065d56aaa423486cfc198396eca85": {
          "model_module": "@jupyter-widgets/controls",
          "model_name": "FloatProgressModel",
          "model_module_version": "1.5.0",
          "state": {
            "_view_name": "ProgressView",
            "style": "IPY_MODEL_832a9c4d957b41efbf40bb2863ee5b7c",
            "_dom_classes": [],
            "description": "",
            "_model_name": "FloatProgressModel",
            "bar_style": "success",
            "max": 5,
            "_view_module": "@jupyter-widgets/controls",
            "_model_module_version": "1.5.0",
            "value": 5,
            "_view_count": null,
            "_view_module_version": "1.5.0",
            "orientation": "horizontal",
            "min": 0,
            "description_tooltip": null,
            "_model_module": "@jupyter-widgets/controls",
            "layout": "IPY_MODEL_9a401614935946ea8f04b795eee766f7"
          }
        },
        "98153e148e0d4850b843da42c8f773d0": {
          "model_module": "@jupyter-widgets/controls",
          "model_name": "HTMLModel",
          "model_module_version": "1.5.0",
          "state": {
            "_view_name": "HTMLView",
            "style": "IPY_MODEL_6aebfcd2f020460bbc14ccf8341ab28f",
            "_dom_classes": [],
            "description": "",
            "_model_name": "HTMLModel",
            "placeholder": "​",
            "_view_module": "@jupyter-widgets/controls",
            "_model_module_version": "1.5.0",
            "value": " 5/5 [00:31&lt;00:00,  3.61s/it]",
            "_view_count": null,
            "_view_module_version": "1.5.0",
            "description_tooltip": null,
            "_model_module": "@jupyter-widgets/controls",
            "layout": "IPY_MODEL_e500b4c30c8d4c28b0dbef4b1ba83239"
          }
        },
        "172759338c344fa29072f2fed0db1437": {
          "model_module": "@jupyter-widgets/controls",
          "model_name": "DescriptionStyleModel",
          "model_module_version": "1.5.0",
          "state": {
            "_view_name": "StyleView",
            "_model_name": "DescriptionStyleModel",
            "description_width": "",
            "_view_module": "@jupyter-widgets/base",
            "_model_module_version": "1.5.0",
            "_view_count": null,
            "_view_module_version": "1.2.0",
            "_model_module": "@jupyter-widgets/controls"
          }
        },
        "73395987e56c46568da3ac763c688e8f": {
          "model_module": "@jupyter-widgets/base",
          "model_name": "LayoutModel",
          "model_module_version": "1.2.0",
          "state": {
            "_view_name": "LayoutView",
            "grid_template_rows": null,
            "right": null,
            "justify_content": null,
            "_view_module": "@jupyter-widgets/base",
            "overflow": null,
            "_model_module_version": "1.2.0",
            "_view_count": null,
            "flex_flow": null,
            "width": null,
            "min_width": null,
            "border": null,
            "align_items": null,
            "bottom": null,
            "_model_module": "@jupyter-widgets/base",
            "top": null,
            "grid_column": null,
            "overflow_y": null,
            "overflow_x": null,
            "grid_auto_flow": null,
            "grid_area": null,
            "grid_template_columns": null,
            "flex": null,
            "_model_name": "LayoutModel",
            "justify_items": null,
            "grid_row": null,
            "max_height": null,
            "align_content": null,
            "visibility": null,
            "align_self": null,
            "height": null,
            "min_height": null,
            "padding": null,
            "grid_auto_rows": null,
            "grid_gap": null,
            "max_width": null,
            "order": null,
            "_view_module_version": "1.2.0",
            "grid_template_areas": null,
            "object_position": null,
            "object_fit": null,
            "grid_auto_columns": null,
            "margin": null,
            "display": null,
            "left": null
          }
        },
        "832a9c4d957b41efbf40bb2863ee5b7c": {
          "model_module": "@jupyter-widgets/controls",
          "model_name": "ProgressStyleModel",
          "model_module_version": "1.5.0",
          "state": {
            "_view_name": "StyleView",
            "_model_name": "ProgressStyleModel",
            "description_width": "",
            "_view_module": "@jupyter-widgets/base",
            "_model_module_version": "1.5.0",
            "_view_count": null,
            "_view_module_version": "1.2.0",
            "bar_color": null,
            "_model_module": "@jupyter-widgets/controls"
          }
        },
        "9a401614935946ea8f04b795eee766f7": {
          "model_module": "@jupyter-widgets/base",
          "model_name": "LayoutModel",
          "model_module_version": "1.2.0",
          "state": {
            "_view_name": "LayoutView",
            "grid_template_rows": null,
            "right": null,
            "justify_content": null,
            "_view_module": "@jupyter-widgets/base",
            "overflow": null,
            "_model_module_version": "1.2.0",
            "_view_count": null,
            "flex_flow": null,
            "width": null,
            "min_width": null,
            "border": null,
            "align_items": null,
            "bottom": null,
            "_model_module": "@jupyter-widgets/base",
            "top": null,
            "grid_column": null,
            "overflow_y": null,
            "overflow_x": null,
            "grid_auto_flow": null,
            "grid_area": null,
            "grid_template_columns": null,
            "flex": null,
            "_model_name": "LayoutModel",
            "justify_items": null,
            "grid_row": null,
            "max_height": null,
            "align_content": null,
            "visibility": null,
            "align_self": null,
            "height": null,
            "min_height": null,
            "padding": null,
            "grid_auto_rows": null,
            "grid_gap": null,
            "max_width": null,
            "order": null,
            "_view_module_version": "1.2.0",
            "grid_template_areas": null,
            "object_position": null,
            "object_fit": null,
            "grid_auto_columns": null,
            "margin": null,
            "display": null,
            "left": null
          }
        },
        "6aebfcd2f020460bbc14ccf8341ab28f": {
          "model_module": "@jupyter-widgets/controls",
          "model_name": "DescriptionStyleModel",
          "model_module_version": "1.5.0",
          "state": {
            "_view_name": "StyleView",
            "_model_name": "DescriptionStyleModel",
            "description_width": "",
            "_view_module": "@jupyter-widgets/base",
            "_model_module_version": "1.5.0",
            "_view_count": null,
            "_view_module_version": "1.2.0",
            "_model_module": "@jupyter-widgets/controls"
          }
        },
        "e500b4c30c8d4c28b0dbef4b1ba83239": {
          "model_module": "@jupyter-widgets/base",
          "model_name": "LayoutModel",
          "model_module_version": "1.2.0",
          "state": {
            "_view_name": "LayoutView",
            "grid_template_rows": null,
            "right": null,
            "justify_content": null,
            "_view_module": "@jupyter-widgets/base",
            "overflow": null,
            "_model_module_version": "1.2.0",
            "_view_count": null,
            "flex_flow": null,
            "width": null,
            "min_width": null,
            "border": null,
            "align_items": null,
            "bottom": null,
            "_model_module": "@jupyter-widgets/base",
            "top": null,
            "grid_column": null,
            "overflow_y": null,
            "overflow_x": null,
            "grid_auto_flow": null,
            "grid_area": null,
            "grid_template_columns": null,
            "flex": null,
            "_model_name": "LayoutModel",
            "justify_items": null,
            "grid_row": null,
            "max_height": null,
            "align_content": null,
            "visibility": null,
            "align_self": null,
            "height": null,
            "min_height": null,
            "padding": null,
            "grid_auto_rows": null,
            "grid_gap": null,
            "max_width": null,
            "order": null,
            "_view_module_version": "1.2.0",
            "grid_template_areas": null,
            "object_position": null,
            "object_fit": null,
            "grid_auto_columns": null,
            "margin": null,
            "display": null,
            "left": null
          }
        }
      }
    }
  },
  "cells": [
    {
      "cell_type": "markdown",
      "metadata": {
        "id": "74mWrIsuWlXw"
      },
      "source": [
        "#             EDA On IoT Network Intrusion Dataset\n",
        "\n",
        "\n",
        "\n"
      ]
    },
    {
      "cell_type": "markdown",
      "metadata": {
        "id": "_9LotprGXUUx"
      },
      "source": [
        "### I got dataset from [here](https://ocslab.hksecurity.net/Datasets/iot-network-intrusion-dataset) , special thanks to Hyunjae Kang, Huy Kang Kim and their theam for creating this data.\n",
        "\n",
        "I downloaded all .pcap files to my pc and by applying filters of each type of attack(according to dataset discription.xlsx) in Wireshark and exporting just attack packets, I merged each group of exported pcap files and commpresed them as \"iot-pcaps.rar\" with Winrar, and uploaded to my GDrive to access it frome here. So, I think you should do this too.\n",
        "All aggregated pcap files:\n",
        "\n",
        "\n",
        "![Screenshot (804).png](data:image/png;base64,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)\n",
        "\n",
        "If there was any questions, feel free and contact me:\n",
        "meysamamini7394@gmail.com"
      ]
    },
    {
      "cell_type": "markdown",
      "metadata": {
        "id": "OeNO_fTH0_Zt"
      },
      "source": [
        "# Extracting network conversations from pcap files using Argus"
      ]
    },
    {
      "cell_type": "markdown",
      "metadata": {
        "id": "y9f1HErL9Jim"
      },
      "source": [
        "### In this step we will install Argus and use it for extracting network flows data. So befor this part, I highly recommend you to take a look at Argus documentations at [openargus.org](https://openargus.org/documentation).\n"
      ]
    },
    {
      "cell_type": "markdown",
      "metadata": {
        "id": "brJO1gh7WzVp"
      },
      "source": [
        " ## Mounting gdrive and copy pcaps to working directory:"
      ]
    },
    {
      "cell_type": "code",
      "metadata": {
        "colab": {
          "base_uri": "https://localhost:8080/"
        },
        "id": "lznNMHfLlv_e",
        "outputId": "964f06aa-25bb-47d3-8554-8868cf794510"
      },
      "source": [
        "from google.colab import drive\n",
        "from IPython.display import clear_output\n",
        "drive.mount('/gdrive')"
      ],
      "execution_count": null,
      "outputs": [
        {
          "output_type": "stream",
          "name": "stdout",
          "text": [
            "Mounted at /gdrive\n"
          ]
        }
      ]
    },
    {
      "cell_type": "code",
      "metadata": {
        "colab": {
          "base_uri": "https://localhost:8080/"
        },
        "id": "SaL_8fmBhzkU",
        "outputId": "d4cd1a0f-cbe9-4f2e-d86b-d5f9c971e2da"
      },
      "source": [
        "cd /content/sample_data"
      ],
      "execution_count": null,
      "outputs": [
        {
          "output_type": "stream",
          "name": "stdout",
          "text": [
            "/content/sample_data\n"
          ]
        }
      ]
    },
    {
      "cell_type": "code",
      "metadata": {
        "id": "8YeITm7NA9-i",
        "colab": {
          "base_uri": "https://localhost:8080/"
        },
        "outputId": "545ac63d-75d9-4448-d270-12c4cb62628b"
      },
      "source": [
        "!rm -r workspace"
      ],
      "execution_count": null,
      "outputs": [
        {
          "output_type": "stream",
          "name": "stdout",
          "text": [
            "rm: cannot remove 'workspace': No such file or directory\n"
          ]
        }
      ]
    },
    {
      "cell_type": "code",
      "metadata": {
        "id": "5tURBnr0irIi"
      },
      "source": [
        "!mkdir workspace"
      ],
      "execution_count": null,
      "outputs": []
    },
    {
      "cell_type": "code",
      "metadata": {
        "colab": {
          "base_uri": "https://localhost:8080/"
        },
        "id": "jswe-Qvrir7a",
        "outputId": "2edaaab9-42f1-4355-b99b-4c0226194880"
      },
      "source": [
        "cd workspace"
      ],
      "execution_count": null,
      "outputs": [
        {
          "output_type": "stream",
          "name": "stdout",
          "text": [
            "/content/sample_data/workspace\n"
          ]
        }
      ]
    },
    {
      "cell_type": "code",
      "metadata": {
        "id": "QAQlIJtxiQNV"
      },
      "source": [
        "!mkdir data"
      ],
      "execution_count": null,
      "outputs": []
    },
    {
      "cell_type": "code",
      "metadata": {
        "colab": {
          "base_uri": "https://localhost:8080/",
          "height": 36
        },
        "id": "8vmp-GkGngRr",
        "outputId": "841d5bbf-9567-4932-c400-97b2e703f021"
      },
      "source": [
        "pwd"
      ],
      "execution_count": null,
      "outputs": [
        {
          "output_type": "execute_result",
          "data": {
            "application/vnd.google.colaboratory.intrinsic+json": {
              "type": "string"
            },
            "text/plain": [
              "'/content/sample_data/workspace'"
            ]
          },
          "metadata": {},
          "execution_count": 14
        }
      ]
    },
    {
      "cell_type": "code",
      "metadata": {
        "colab": {
          "base_uri": "https://localhost:8080/"
        },
        "id": "DCpp5AhvjGya",
        "outputId": "2308f086-0776-4e67-9da8-a5bfcc407486"
      },
      "source": [
        "cd ../../../gdrive/MyDrive/"
      ],
      "execution_count": null,
      "outputs": [
        {
          "output_type": "stream",
          "text": [
            "[Errno 2] No such file or directory: '../../../gdrive/MyDrive/'\n",
            "/content/sample_data/workspace\n"
          ],
          "name": "stdout"
        }
      ]
    },
    {
      "cell_type": "code",
      "metadata": {
        "id": "F3VcVNoWjLKV",
        "colab": {
          "base_uri": "https://localhost:8080/"
        },
        "outputId": "b7c98295-04e2-4584-987e-4a030eb2b75d"
      },
      "source": [
        "!cp 'iot-pcaps.rar' '/content/sample_data/workspace/data/'"
      ],
      "execution_count": null,
      "outputs": [
        {
          "output_type": "stream",
          "text": [
            "cp: cannot stat 'iot-pcaps.rar': No such file or directory\n"
          ],
          "name": "stdout"
        }
      ]
    },
    {
      "cell_type": "markdown",
      "metadata": {
        "id": "c1tYec_MZHI4"
      },
      "source": [
        "## Getting Argus from [Qosient](https://qosient.com/argus/downloads.shtml) and installing needed libraries"
      ]
    },
    {
      "cell_type": "code",
      "metadata": {
        "colab": {
          "base_uri": "https://localhost:8080/"
        },
        "id": "wCNRrCFMwTx9",
        "outputId": "15a23bea-07d9-4c8f-ec17-77bbb7bef78c"
      },
      "source": [
        "cd /content/sample_data/"
      ],
      "execution_count": null,
      "outputs": [
        {
          "output_type": "stream",
          "name": "stdout",
          "text": [
            "/content/sample_data\n"
          ]
        }
      ]
    },
    {
      "cell_type": "code",
      "metadata": {
        "id": "iIAOrUTMAdqv"
      },
      "source": [
        "#argus:\n",
        "!wget http://qosient.com/argus/src/argus-3.0.8.2.tar.gz\n",
        "!tar -zxvf argus-3.0.8.2.tar.gz\n",
        "!rm argus-3.0.8.2.tar.gz\n",
        "clear_output()"
      ],
      "execution_count": null,
      "outputs": []
    },
    {
      "cell_type": "code",
      "metadata": {
        "id": "LaV3dfKqv7eJ"
      },
      "source": [
        "#argus clients , like ra , ra cluster , ...\n",
        "!wget http://qosient.com/argus/src/argus-clients-3.0.8.2.tar.gz\n",
        "!tar -zxvf argus-clients-3.0.8.2.tar.gz\n",
        "!rm argus-clients-3.0.8.2.tar.gz\n",
        "clear_output()"
      ],
      "execution_count": null,
      "outputs": []
    },
    {
      "cell_type": "code",
      "metadata": {
        "id": "8dpezEC3QHte"
      },
      "source": [
        "# Installing necessery libraries according to 'INSTALL' file \n",
        "! apt install flex bison libpcap-dev\n",
        "clear_output()"
      ],
      "execution_count": null,
      "outputs": []
    },
    {
      "cell_type": "markdown",
      "metadata": {
        "id": "RMlm8WT2ZlMW"
      },
      "source": [
        "### And finally building and installing Argus"
      ]
    },
    {
      "cell_type": "code",
      "metadata": {
        "colab": {
          "base_uri": "https://localhost:8080/"
        },
        "id": "spqJzAZZwpga",
        "outputId": "48044d1b-0139-47e6-9b35-478c1607c1cb"
      },
      "source": [
        "cd  /content/sample_data/argus-3.0.8.2"
      ],
      "execution_count": null,
      "outputs": [
        {
          "output_type": "stream",
          "name": "stdout",
          "text": [
            "/content/sample_data/argus-3.0.8.2\n"
          ]
        }
      ]
    },
    {
      "cell_type": "code",
      "metadata": {
        "id": "ymjOOP7MOcbE"
      },
      "source": [
        "! ./configure \n",
        "!make \n",
        "clear_output()"
      ],
      "execution_count": null,
      "outputs": []
    },
    {
      "cell_type": "code",
      "metadata": {
        "id": "FmOfOEiCD6_m"
      },
      "source": [
        "! make install\n",
        "clear_output()"
      ],
      "execution_count": null,
      "outputs": []
    },
    {
      "cell_type": "code",
      "metadata": {
        "colab": {
          "base_uri": "https://localhost:8080/"
        },
        "id": "mSKrbkGPwsr3",
        "outputId": "fe53b5cd-e05c-4c1e-b3fd-6d957b40972a"
      },
      "source": [
        "cd /content/sample_data/argus-clients-3.0.8.2"
      ],
      "execution_count": null,
      "outputs": [
        {
          "output_type": "stream",
          "name": "stdout",
          "text": [
            "/content/sample_data/argus-clients-3.0.8.2\n"
          ]
        }
      ]
    },
    {
      "cell_type": "code",
      "metadata": {
        "id": "1dCEvrYzwxt9"
      },
      "source": [
        "! ./configure \n",
        "!make\n",
        "clear_output()"
      ],
      "execution_count": null,
      "outputs": []
    },
    {
      "cell_type": "code",
      "metadata": {
        "id": "Y6yaCpwXxnUE"
      },
      "source": [
        "!make install\n",
        "clear_output()"
      ],
      "execution_count": null,
      "outputs": []
    },
    {
      "cell_type": "code",
      "metadata": {
        "colab": {
          "base_uri": "https://localhost:8080/",
          "height": 36
        },
        "id": "Nmwu9Pozbaz-",
        "outputId": "b60e9060-b109-4c56-8dfa-a1a9055ab0ca"
      },
      "source": [
        "pwd"
      ],
      "execution_count": null,
      "outputs": [
        {
          "output_type": "execute_result",
          "data": {
            "application/vnd.google.colaboratory.intrinsic+json": {
              "type": "string"
            },
            "text/plain": [
              "'/content/sample_data/workspace/argus-clients-3.0.8.2'"
            ]
          },
          "metadata": {},
          "execution_count": 48
        }
      ]
    },
    {
      "cell_type": "code",
      "metadata": {
        "id": "YVto1koLbxy0"
      },
      "source": [
        "!apt install axel\n",
        "clear_output()"
      ],
      "execution_count": null,
      "outputs": []
    },
    {
      "cell_type": "markdown",
      "metadata": {
        "id": "JRrSvcYOxAd6"
      },
      "source": [
        "### Unziping pcap files"
      ]
    },
    {
      "cell_type": "code",
      "metadata": {
        "colab": {
          "base_uri": "https://localhost:8080/"
        },
        "id": "9YJUPnJOfEMp",
        "outputId": "b865e2bc-f73e-4ca4-bf22-fb800e6e4d26"
      },
      "source": [
        "cd /content/sample_data/workspace/data/"
      ],
      "execution_count": null,
      "outputs": [
        {
          "output_type": "stream",
          "text": [
            "/content/sample_data/workspace/data\n"
          ],
          "name": "stdout"
        }
      ]
    },
    {
      "cell_type": "code",
      "metadata": {
        "id": "UGJ9vQHF72ZE"
      },
      "source": [
        "#crating a directory for csv files\n",
        "!mkdir csv"
      ],
      "execution_count": null,
      "outputs": []
    },
    {
      "cell_type": "code",
      "metadata": {
        "id": "7KL0WaEWhjx2"
      },
      "source": [
        "!unrar x 'iot-pcaps.rar'\n",
        "clear_output()"
      ],
      "execution_count": null,
      "outputs": []
    },
    {
      "cell_type": "code",
      "metadata": {
        "id": "8nAS3on5-nT1"
      },
      "source": [
        "#we dont need .rar file anymore\n",
        "! rm iot-pcaps.rar"
      ],
      "execution_count": null,
      "outputs": []
    },
    {
      "cell_type": "markdown",
      "metadata": {
        "id": "GgULthNXEm-p"
      },
      "source": [
        "## Now we have access to Argus and it's Clients, like 'ra'"
      ]
    },
    {
      "cell_type": "code",
      "metadata": {
        "id": "mvUSaJ9r_nsf"
      },
      "source": [
        "import os\n",
        "from glob import glob as g\n",
        "pcap_file=\"benign.pcap\"\n",
        "argus_file=\"benign.argus\"\n",
        "csv_file=\"benign.csv\"\n",
        "csv_directory_path=\"/content/sample_data/workspace/data/csv/\"\n",
        "output_path=os.path.join(csv_directory_path ,csv_file ) "
      ],
      "execution_count": null,
      "outputs": []
    },
    {
      "cell_type": "code",
      "metadata": {
        "id": "1gU6eJ_X5LCb"
      },
      "source": [
        "#creating a .argus file from a .pcap file and after that we can get traffic flows of 'benign-dec.pcap' in csv format\n",
        "! argus -r $pcap_file -w $argus_file"
      ],
      "execution_count": null,
      "outputs": []
    },
    {
      "cell_type": "code",
      "metadata": {
        "id": "UkAXGshwAw-H"
      },
      "source": [
        "# extracting flow records as csv from .argus file with 'ra' client, and here we are\n",
        "#just want default features of flows\n",
        "! ra -r $argus_file -c , > $output_path\n",
        "!rm $argus_file"
      ],
      "execution_count": null,
      "outputs": []
    },
    {
      "cell_type": "markdown",
      "metadata": {
        "id": "L5IzSWQYx_Bd"
      },
      "source": [
        "### We Made It \\\\( َ' o َ')/   this is just the beginning"
      ]
    },
    {
      "cell_type": "code",
      "metadata": {
        "colab": {
          "base_uri": "https://localhost:8080/",
          "height": 206
        },
        "id": "nyQ4rUJkBUPn",
        "outputId": "b9997228-0aa9-423b-b292-a2b02346013a"
      },
      "source": [
        "import pandas as pd\n",
        "from tqdm.notebook import tqdm\n",
        "benign=pd.read_csv(output_path)\n",
        "benign.head()"
      ],
      "execution_count": null,
      "outputs": [
        {
          "output_type": "execute_result",
          "data": {
            "text/html": [
              "<div>\n",
              "<style scoped>\n",
              "    .dataframe tbody tr th:only-of-type {\n",
              "        vertical-align: middle;\n",
              "    }\n",
              "\n",
              "    .dataframe tbody tr th {\n",
              "        vertical-align: top;\n",
              "    }\n",
              "\n",
              "    .dataframe thead th {\n",
              "        text-align: right;\n",
              "    }\n",
              "</style>\n",
              "<table border=\"1\" class=\"dataframe\">\n",
              "  <thead>\n",
              "    <tr style=\"text-align: right;\">\n",
              "      <th></th>\n",
              "      <th>StartTime</th>\n",
              "      <th>Flgs</th>\n",
              "      <th>Proto</th>\n",
              "      <th>SrcAddr</th>\n",
              "      <th>Sport</th>\n",
              "      <th>Dir</th>\n",
              "      <th>DstAddr</th>\n",
              "      <th>Dport</th>\n",
              "      <th>TotPkts</th>\n",
              "      <th>TotBytes</th>\n",
              "      <th>State</th>\n",
              "    </tr>\n",
              "  </thead>\n",
              "  <tbody>\n",
              "    <tr>\n",
              "      <th>0</th>\n",
              "      <td>08:56:14.859557</td>\n",
              "      <td>e s</td>\n",
              "      <td>tcp</td>\n",
              "      <td>192.168.0.13</td>\n",
              "      <td>9020</td>\n",
              "      <td>&lt;?&gt;</td>\n",
              "      <td>192.168.0.16</td>\n",
              "      <td>49784</td>\n",
              "      <td>1827</td>\n",
              "      <td>1584998</td>\n",
              "      <td>CON</td>\n",
              "    </tr>\n",
              "    <tr>\n",
              "      <th>1</th>\n",
              "      <td>08:56:15.320023</td>\n",
              "      <td>e</td>\n",
              "      <td>tcp</td>\n",
              "      <td>192.168.0.13</td>\n",
              "      <td>9020</td>\n",
              "      <td>?&gt;</td>\n",
              "      <td>192.168.0.16</td>\n",
              "      <td>49668</td>\n",
              "      <td>1</td>\n",
              "      <td>1506</td>\n",
              "      <td>RST</td>\n",
              "    </tr>\n",
              "    <tr>\n",
              "      <th>2</th>\n",
              "      <td>08:56:15.560491</td>\n",
              "      <td>e</td>\n",
              "      <td>udp</td>\n",
              "      <td>108.177.97.189</td>\n",
              "      <td>443</td>\n",
              "      <td>-&gt;</td>\n",
              "      <td>192.168.0.14</td>\n",
              "      <td>50510</td>\n",
              "      <td>1</td>\n",
              "      <td>110</td>\n",
              "      <td>INT</td>\n",
              "    </tr>\n",
              "    <tr>\n",
              "      <th>3</th>\n",
              "      <td>08:56:15.952551</td>\n",
              "      <td>e</td>\n",
              "      <td>tcp</td>\n",
              "      <td>192.168.0.13</td>\n",
              "      <td>169</td>\n",
              "      <td>?&gt;</td>\n",
              "      <td>248.250.9.234</td>\n",
              "      <td>40795</td>\n",
              "      <td>1</td>\n",
              "      <td>1502</td>\n",
              "      <td>RST</td>\n",
              "    </tr>\n",
              "    <tr>\n",
              "      <th>4</th>\n",
              "      <td>08:56:15.952631</td>\n",
              "      <td>e</td>\n",
              "      <td>tcp</td>\n",
              "      <td>190.12.178.12</td>\n",
              "      <td>9088</td>\n",
              "      <td>?&gt;</td>\n",
              "      <td>192.168.0.16</td>\n",
              "      <td>35229</td>\n",
              "      <td>1</td>\n",
              "      <td>1502</td>\n",
              "      <td>CON</td>\n",
              "    </tr>\n",
              "  </tbody>\n",
              "</table>\n",
              "</div>"
            ],
            "text/plain": [
              "         StartTime        Flgs Proto  ... TotPkts TotBytes State\n",
              "0  08:56:14.859557   e s         tcp  ...    1827  1584998   CON\n",
              "1  08:56:15.320023   e           tcp  ...       1     1506   RST\n",
              "2  08:56:15.560491   e           udp  ...       1      110   INT\n",
              "3  08:56:15.952551   e           tcp  ...       1     1502   RST\n",
              "4  08:56:15.952631   e           tcp  ...       1     1502   CON\n",
              "\n",
              "[5 rows x 11 columns]"
            ]
          },
          "metadata": {},
          "execution_count": 29
        }
      ]
    },
    {
      "cell_type": "code",
      "metadata": {
        "colab": {
          "base_uri": "https://localhost:8080/"
        },
        "id": "gbke9V8wHVqv",
        "outputId": "8eea5f9e-245f-4cee-9055-c73fb1a65cd5"
      },
      "source": [
        "benign.shape"
      ],
      "execution_count": null,
      "outputs": [
        {
          "output_type": "execute_result",
          "data": {
            "text/plain": [
              "(911, 11)"
            ]
          },
          "metadata": {},
          "execution_count": 30
        }
      ]
    },
    {
      "cell_type": "code",
      "metadata": {
        "id": "ULon6t0P-tYz"
      },
      "source": [
        "# Lets generates .csv file with whole(most of meaningful ones)desirable features:\n",
        "\n",
        "csv_file=\"benign_all_features.csv\"\n",
        "pcap_file=\"benign.pcap\"\n",
        "csv_directory_path=\"/content/sample_data/workspace/data/csv/\"\n",
        "output_path=os.path.join(csv_directory_path ,csv_file ) \n",
        "argus_file=\"benign_all_features.argus\"\n",
        "\n",
        "!argus -r $pcap_file -w $argus_file\n",
        "\n",
        "!ra -r $argus_file -z -s stos dtos \\\n",
        "saddr daddr flgs tcpopt sport \\\n",
        "dport bytes sbytes dbytes trans proto \\\n",
        "pkts spkts dpkts sload dload sloss dloss \\\n",
        "sretrans dretrans sgap dgap swin dwin \\\n",
        "tcprtt synack ackdat smeansz dmeansz \\\n",
        "state sttl dttl shops dhops dur mean sum \\\n",
        "srate drate -c , > $output_path\n",
        "\n",
        "!rm $argus_file"
      ],
      "execution_count": null,
      "outputs": []
    },
    {
      "cell_type": "code",
      "metadata": {
        "colab": {
          "base_uri": "https://localhost:8080/",
          "height": 226
        },
        "id": "lEGAmls7A5pQ",
        "outputId": "d43efcb4-2f9e-4677-f2b1-414f8c4fafa7"
      },
      "source": [
        "benign=pd.read_csv(output_path)\n",
        "benign.head()"
      ],
      "execution_count": null,
      "outputs": [
        {
          "output_type": "execute_result",
          "data": {
            "text/html": [
              "<div>\n",
              "<style scoped>\n",
              "    .dataframe tbody tr th:only-of-type {\n",
              "        vertical-align: middle;\n",
              "    }\n",
              "\n",
              "    .dataframe tbody tr th {\n",
              "        vertical-align: top;\n",
              "    }\n",
              "\n",
              "    .dataframe thead th {\n",
              "        text-align: right;\n",
              "    }\n",
              "</style>\n",
              "<table border=\"1\" class=\"dataframe\">\n",
              "  <thead>\n",
              "    <tr style=\"text-align: right;\">\n",
              "      <th></th>\n",
              "      <th>sTos</th>\n",
              "      <th>dTos</th>\n",
              "      <th>SrcAddr</th>\n",
              "      <th>DstAddr</th>\n",
              "      <th>Flgs</th>\n",
              "      <th>TcpOpt</th>\n",
              "      <th>Sport</th>\n",
              "      <th>Dport</th>\n",
              "      <th>TotBytes</th>\n",
              "      <th>SrcBytes</th>\n",
              "      <th>DstBytes</th>\n",
              "      <th>Trans</th>\n",
              "      <th>Proto</th>\n",
              "      <th>TotPkts</th>\n",
              "      <th>SrcPkts</th>\n",
              "      <th>DstPkts</th>\n",
              "      <th>SrcLoad</th>\n",
              "      <th>DstLoad</th>\n",
              "      <th>SrcLoss</th>\n",
              "      <th>DstLoss</th>\n",
              "      <th>SrcRetra</th>\n",
              "      <th>DstRetra</th>\n",
              "      <th>SrcGap</th>\n",
              "      <th>DstGap</th>\n",
              "      <th>SrcWin</th>\n",
              "      <th>DstWin</th>\n",
              "      <th>TcpRtt</th>\n",
              "      <th>SynAck</th>\n",
              "      <th>AckDat</th>\n",
              "      <th>sMeanPktSz</th>\n",
              "      <th>dMeanPktSz</th>\n",
              "      <th>State</th>\n",
              "      <th>sTtl</th>\n",
              "      <th>dTtl</th>\n",
              "      <th>sHops</th>\n",
              "      <th>dHops</th>\n",
              "      <th>Dur</th>\n",
              "      <th>Mean</th>\n",
              "      <th>Sum</th>\n",
              "      <th>SrcRate</th>\n",
              "      <th>DstRate</th>\n",
              "    </tr>\n",
              "  </thead>\n",
              "  <tbody>\n",
              "    <tr>\n",
              "      <th>0</th>\n",
              "      <td>2.0</td>\n",
              "      <td>0.0</td>\n",
              "      <td>192.168.0.13</td>\n",
              "      <td>192.168.0.16</td>\n",
              "      <td>e s</td>\n",
              "      <td>T</td>\n",
              "      <td>9020</td>\n",
              "      <td>49784</td>\n",
              "      <td>1584998</td>\n",
              "      <td>1520464</td>\n",
              "      <td>64534</td>\n",
              "      <td>1</td>\n",
              "      <td>tcp</td>\n",
              "      <td>1827</td>\n",
              "      <td>1254</td>\n",
              "      <td>573</td>\n",
              "      <td>2431064.75</td>\n",
              "      <td>103086.289062</td>\n",
              "      <td>607</td>\n",
              "      <td>0</td>\n",
              "      <td>0</td>\n",
              "      <td>0</td>\n",
              "      <td>0.0</td>\n",
              "      <td>6112419.0</td>\n",
              "      <td>1869.0</td>\n",
              "      <td>32715.0</td>\n",
              "      <td>0.0</td>\n",
              "      <td>0.0</td>\n",
              "      <td>0.0</td>\n",
              "      <td>1212.491211</td>\n",
              "      <td>112.624779</td>\n",
              "      <td>E</td>\n",
              "      <td>64.0</td>\n",
              "      <td>64.0</td>\n",
              "      <td>0.0</td>\n",
              "      <td>0.0</td>\n",
              "      <td>4.999462</td>\n",
              "      <td>4.999462</td>\n",
              "      <td>4.999462</td>\n",
              "      <td>250.626968</td>\n",
              "      <td>114.412308</td>\n",
              "    </tr>\n",
              "    <tr>\n",
              "      <th>1</th>\n",
              "      <td>2.0</td>\n",
              "      <td>NaN</td>\n",
              "      <td>192.168.0.13</td>\n",
              "      <td>192.168.0.16</td>\n",
              "      <td>e</td>\n",
              "      <td>NaN</td>\n",
              "      <td>9020</td>\n",
              "      <td>49668</td>\n",
              "      <td>1506</td>\n",
              "      <td>1506</td>\n",
              "      <td>0</td>\n",
              "      <td>1</td>\n",
              "      <td>tcp</td>\n",
              "      <td>1</td>\n",
              "      <td>1</td>\n",
              "      <td>0</td>\n",
              "      <td>0.00</td>\n",
              "      <td>0.000000</td>\n",
              "      <td>0</td>\n",
              "      <td>0</td>\n",
              "      <td>0</td>\n",
              "      <td>0</td>\n",
              "      <td>0.0</td>\n",
              "      <td>0.0</td>\n",
              "      <td>0.0</td>\n",
              "      <td>NaN</td>\n",
              "      <td>0.0</td>\n",
              "      <td>0.0</td>\n",
              "      <td>0.0</td>\n",
              "      <td>1506.000000</td>\n",
              "      <td>0.000000</td>\n",
              "      <td>R</td>\n",
              "      <td>64.0</td>\n",
              "      <td>NaN</td>\n",
              "      <td>0.0</td>\n",
              "      <td>NaN</td>\n",
              "      <td>0.000000</td>\n",
              "      <td>0.000000</td>\n",
              "      <td>0.000000</td>\n",
              "      <td>0.000000</td>\n",
              "      <td>0.000000</td>\n",
              "    </tr>\n",
              "    <tr>\n",
              "      <th>2</th>\n",
              "      <td>0.0</td>\n",
              "      <td>NaN</td>\n",
              "      <td>108.177.97.189</td>\n",
              "      <td>192.168.0.14</td>\n",
              "      <td>e</td>\n",
              "      <td>NaN</td>\n",
              "      <td>443</td>\n",
              "      <td>50510</td>\n",
              "      <td>110</td>\n",
              "      <td>110</td>\n",
              "      <td>0</td>\n",
              "      <td>1</td>\n",
              "      <td>udp</td>\n",
              "      <td>1</td>\n",
              "      <td>1</td>\n",
              "      <td>0</td>\n",
              "      <td>0.00</td>\n",
              "      <td>0.000000</td>\n",
              "      <td>0</td>\n",
              "      <td>0</td>\n",
              "      <td>0</td>\n",
              "      <td>0</td>\n",
              "      <td>NaN</td>\n",
              "      <td>NaN</td>\n",
              "      <td>NaN</td>\n",
              "      <td>NaN</td>\n",
              "      <td>0.0</td>\n",
              "      <td>0.0</td>\n",
              "      <td>0.0</td>\n",
              "      <td>110.000000</td>\n",
              "      <td>0.000000</td>\n",
              "      <td>INT</td>\n",
              "      <td>54.0</td>\n",
              "      <td>NaN</td>\n",
              "      <td>10.0</td>\n",
              "      <td>NaN</td>\n",
              "      <td>0.000000</td>\n",
              "      <td>0.000000</td>\n",
              "      <td>0.000000</td>\n",
              "      <td>0.000000</td>\n",
              "      <td>0.000000</td>\n",
              "    </tr>\n",
              "    <tr>\n",
              "      <th>3</th>\n",
              "      <td>2.0</td>\n",
              "      <td>NaN</td>\n",
              "      <td>192.168.0.13</td>\n",
              "      <td>248.250.9.234</td>\n",
              "      <td>e</td>\n",
              "      <td>NaN</td>\n",
              "      <td>169</td>\n",
              "      <td>40795</td>\n",
              "      <td>1502</td>\n",
              "      <td>1502</td>\n",
              "      <td>0</td>\n",
              "      <td>1</td>\n",
              "      <td>tcp</td>\n",
              "      <td>1</td>\n",
              "      <td>1</td>\n",
              "      <td>0</td>\n",
              "      <td>0.00</td>\n",
              "      <td>0.000000</td>\n",
              "      <td>0</td>\n",
              "      <td>0</td>\n",
              "      <td>0</td>\n",
              "      <td>0</td>\n",
              "      <td>0.0</td>\n",
              "      <td>0.0</td>\n",
              "      <td>0.0</td>\n",
              "      <td>NaN</td>\n",
              "      <td>0.0</td>\n",
              "      <td>0.0</td>\n",
              "      <td>0.0</td>\n",
              "      <td>1502.000000</td>\n",
              "      <td>0.000000</td>\n",
              "      <td>R</td>\n",
              "      <td>64.0</td>\n",
              "      <td>NaN</td>\n",
              "      <td>0.0</td>\n",
              "      <td>NaN</td>\n",
              "      <td>0.000000</td>\n",
              "      <td>0.000000</td>\n",
              "      <td>0.000000</td>\n",
              "      <td>0.000000</td>\n",
              "      <td>0.000000</td>\n",
              "    </tr>\n",
              "    <tr>\n",
              "      <th>4</th>\n",
              "      <td>2.0</td>\n",
              "      <td>NaN</td>\n",
              "      <td>190.12.178.12</td>\n",
              "      <td>192.168.0.16</td>\n",
              "      <td>e</td>\n",
              "      <td>NaN</td>\n",
              "      <td>9088</td>\n",
              "      <td>35229</td>\n",
              "      <td>1502</td>\n",
              "      <td>1502</td>\n",
              "      <td>0</td>\n",
              "      <td>1</td>\n",
              "      <td>tcp</td>\n",
              "      <td>1</td>\n",
              "      <td>1</td>\n",
              "      <td>0</td>\n",
              "      <td>0.00</td>\n",
              "      <td>0.000000</td>\n",
              "      <td>0</td>\n",
              "      <td>0</td>\n",
              "      <td>0</td>\n",
              "      <td>0</td>\n",
              "      <td>0.0</td>\n",
              "      <td>0.0</td>\n",
              "      <td>0.0</td>\n",
              "      <td>NaN</td>\n",
              "      <td>0.0</td>\n",
              "      <td>0.0</td>\n",
              "      <td>0.0</td>\n",
              "      <td>1502.000000</td>\n",
              "      <td>0.000000</td>\n",
              "      <td>E</td>\n",
              "      <td>64.0</td>\n",
              "      <td>NaN</td>\n",
              "      <td>0.0</td>\n",
              "      <td>NaN</td>\n",
              "      <td>0.000000</td>\n",
              "      <td>0.000000</td>\n",
              "      <td>0.000000</td>\n",
              "      <td>0.000000</td>\n",
              "      <td>0.000000</td>\n",
              "    </tr>\n",
              "  </tbody>\n",
              "</table>\n",
              "</div>"
            ],
            "text/plain": [
              "   sTos  dTos         SrcAddr  ...       Sum     SrcRate     DstRate\n",
              "0   2.0   0.0    192.168.0.13  ...  4.999462  250.626968  114.412308\n",
              "1   2.0   NaN    192.168.0.13  ...  0.000000    0.000000    0.000000\n",
              "2   0.0   NaN  108.177.97.189  ...  0.000000    0.000000    0.000000\n",
              "3   2.0   NaN    192.168.0.13  ...  0.000000    0.000000    0.000000\n",
              "4   2.0   NaN   190.12.178.12  ...  0.000000    0.000000    0.000000\n",
              "\n",
              "[5 rows x 41 columns]"
            ]
          },
          "metadata": {},
          "execution_count": 32
        }
      ]
    },
    {
      "cell_type": "code",
      "metadata": {
        "colab": {
          "base_uri": "https://localhost:8080/"
        },
        "id": "7ZW6Us0IACPT",
        "outputId": "885948ba-e8cf-4a78-bef7-a9ddf5f0ce71"
      },
      "source": [
        "benign.shape"
      ],
      "execution_count": null,
      "outputs": [
        {
          "output_type": "execute_result",
          "data": {
            "text/plain": [
              "(911, 41)"
            ]
          },
          "metadata": {},
          "execution_count": 33
        }
      ]
    },
    {
      "cell_type": "code",
      "metadata": {
        "colab": {
          "base_uri": "https://localhost:8080/"
        },
        "id": "rD2bfy4VOPyq",
        "outputId": "8e529587-1e48-4aa8-8803-7cf64fc15f61"
      },
      "source": [
        "cd /content/sample_data/workspace/data/csv"
      ],
      "execution_count": null,
      "outputs": [
        {
          "output_type": "stream",
          "text": [
            "/content/sample_data/workspace/data/csv\n"
          ],
          "name": "stdout"
        }
      ]
    },
    {
      "cell_type": "code",
      "metadata": {
        "id": "fDgfXYLVOXTT"
      },
      "source": [
        "!rm benign.csv\n",
        "!rm benign_all_features.csv"
      ],
      "execution_count": null,
      "outputs": []
    },
    {
      "cell_type": "code",
      "metadata": {
        "id": "88HUBE5LOtyS"
      },
      "source": [
        "pcaps = g('/content/sample_data/workspace/data/*.pcap')"
      ],
      "execution_count": null,
      "outputs": []
    },
    {
      "cell_type": "code",
      "metadata": {
        "colab": {
          "base_uri": "https://localhost:8080/"
        },
        "id": "bORbu8uKO4TQ",
        "outputId": "b3d38586-f945-4385-fd4b-88672479af42"
      },
      "source": [
        "pcaps"
      ],
      "execution_count": null,
      "outputs": [
        {
          "output_type": "execute_result",
          "data": {
            "text/plain": [
              "['/content/sample_data/workspace/data/benign.pcap',\n",
              " '/content/sample_data/workspace/data/port-scanning.pcap',\n",
              " '/content/sample_data/workspace/data/udp-flooding.pcap',\n",
              " '/content/sample_data/workspace/data/syn-flooding.pcap',\n",
              " '/content/sample_data/workspace/data/scan-os.pcap',\n",
              " '/content/sample_data/workspace/data/host-bruteforce.pcap',\n",
              " '/content/sample_data/workspace/data/ack-flooding.pcap',\n",
              " '/content/sample_data/workspace/data/http-flooding.pcap',\n",
              " '/content/sample_data/workspace/data/scan-host-discovery.pcap',\n",
              " '/content/sample_data/workspace/data/arp-spoofing.pcap']"
            ]
          },
          "metadata": {},
          "execution_count": 37
        }
      ]
    },
    {
      "cell_type": "code",
      "metadata": {
        "colab": {
          "base_uri": "https://localhost:8080/",
          "height": 36
        },
        "id": "sqst1ciGQg-P",
        "outputId": "f59fcc3d-f0f5-4a48-8429-f6979e3857a4"
      },
      "source": [
        "(pcaps[0].split('/')[-1]).split('.')[0]"
      ],
      "execution_count": null,
      "outputs": [
        {
          "output_type": "execute_result",
          "data": {
            "application/vnd.google.colaboratory.intrinsic+json": {
              "type": "string"
            },
            "text/plain": [
              "'benign'"
            ]
          },
          "metadata": {},
          "execution_count": 38
        }
      ]
    },
    {
      "cell_type": "markdown",
      "metadata": {
        "id": "2LX673E6X1wB"
      },
      "source": [
        "#### Extracting all csv files"
      ]
    },
    {
      "cell_type": "code",
      "metadata": {
        "colab": {
          "base_uri": "https://localhost:8080/"
        },
        "id": "qN4IJvXMQgFp",
        "outputId": "6790ea58-14c5-4595-8f49-1fe1d1ccd8c6"
      },
      "source": [
        "cd /content/sample_data/workspace/data"
      ],
      "execution_count": null,
      "outputs": [
        {
          "output_type": "stream",
          "text": [
            "/content/sample_data/workspace/data\n"
          ],
          "name": "stdout"
        }
      ]
    },
    {
      "cell_type": "code",
      "metadata": {
        "colab": {
          "base_uri": "https://localhost:8080/",
          "height": 49,
          "referenced_widgets": [
            "1979e81e9b894cb5a7250e6945ee47ea",
            "bec5c071f3e54b0389dfd130878ea1e5",
            "2d48d55755c046b98ffcccabaa996f37",
            "ef0b39932aae4171a7827b5b8e0f6a57",
            "da71f55682364f58979caf45b6230f06",
            "c7584dc7ccb446dda1a17ccad088a3fd",
            "8914e245867f459b939314e15cce4977",
            "82b2eade1b2242f8825304a391114905",
            "52eaf4922c554a839923b45bfa910943",
            "6b631ce59ffa4066b5d470fd284d4cb7",
            "2fff803d58c348eabf5f0cc729f59e72"
          ]
        },
        "id": "DiHCm9sozMTv",
        "outputId": "c00d4acf-0b00-42bd-ead8-9ee3ead9a6bb"
      },
      "source": [
        "for file in tqdm(pcaps):\n",
        "\n",
        "  name=(file.split('/')[-1]).split('.')[0]\n",
        "\n",
        "  pcap_file=f\"{name}.pcap\"\n",
        "  argus_file=f\"{name}.argus\"\n",
        "  csv_file=f\"{name}.csv\"\n",
        "  csv_directory_path=\"/content/sample_data/workspace/data/csv/\"\n",
        "  output_path=os.path.join(csv_directory_path ,csv_file ) \n",
        "\n",
        "  !argus -r $pcap_file -m -w $argus_file\n",
        "\n",
        "  !ra -r $argus_file -z -s \\\n",
        "  saddr daddr  smac dmac sport dport state \\\n",
        "  proto dur srate drate \\\n",
        "  smeansz dmeansz \\\n",
        "  -c , > $output_path\n",
        "\n",
        "  !rm $argus_file\n",
        "  # stos dtos"
      ],
      "execution_count": null,
      "outputs": [
        {
          "output_type": "display_data",
          "data": {
            "application/vnd.jupyter.widget-view+json": {
              "model_id": "1979e81e9b894cb5a7250e6945ee47ea",
              "version_minor": 0,
              "version_major": 2
            },
            "text/plain": [
              "  0%|          | 0/10 [00:00<?, ?it/s]"
            ]
          },
          "metadata": {}
        }
      ]
    },
    {
      "cell_type": "code",
      "metadata": {
        "colab": {
          "base_uri": "https://localhost:8080/"
        },
        "id": "C2MUBxopnJdD",
        "outputId": "69d1595d-5415-48e3-b2fc-eeeb5b5a9afb"
      },
      "source": [
        "cd /content/sample_data/workspace/data/csv"
      ],
      "execution_count": null,
      "outputs": [
        {
          "output_type": "stream",
          "text": [
            "/content/sample_data/workspace/data/csv\n"
          ],
          "name": "stdout"
        }
      ]
    },
    {
      "cell_type": "code",
      "metadata": {
        "id": "YDx9rYN9TnFR"
      },
      "source": [
        "import pandas as pd\n",
        "normal=pd.read_csv('benign.csv')"
      ],
      "execution_count": null,
      "outputs": []
    },
    {
      "cell_type": "code",
      "metadata": {
        "id": "rj0-uUBdT3DS"
      },
      "source": [
        "# attaks_csv_pathes1=g('/content/sample_data/workspace/data/syn*.csv')\n",
        "# syn_flooding = pd.concat(map(pd.read_csv,attaks_csv_pathes1))\n",
        "syn_flooding=pd.read_csv('syn-flooding.csv')\n",
        "ack_flooding=pd.read_csv('ack-flooding.csv')\n",
        "host_bruteforce=pd.read_csv('host-bruteforce.csv')\n",
        "http_flooding=pd.read_csv('http-flooding.csv')\n",
        "udp_flooding=pd.read_csv('udp-flooding.csv')\n",
        "arp_spoofing=pd.read_csv('arp-spoofing.csv')\n",
        "port_scanning=pd.read_csv('port-scanning.csv')\n",
        "scan_os=pd.read_csv('scan-os.csv')\n",
        "scan_host_discovery=pd.read_csv('scan-host-discovery.csv')\n",
        "\n",
        "\n",
        "syn_flooding['class']=1\n",
        "ack_flooding['class']=2\n",
        "host_bruteforce['class']=3\n",
        "http_flooding['class']=4\n",
        "udp_flooding['class']=5\n",
        "arp_spoofing['class']=6\n",
        "port_scanning['class']=7\n",
        "scan_os['class']=8\n",
        "scan_host_discovery['class']=9\n",
        "normal['class']=0"
      ],
      "execution_count": null,
      "outputs": []
    },
    {
      "cell_type": "code",
      "metadata": {
        "colab": {
          "base_uri": "https://localhost:8080/"
        },
        "id": "jVxe23R-qngs",
        "outputId": "dce149c9-62f2-4709-e305-8bae5c496c05"
      },
      "source": [
        "print(f\"normal{normal.shape}\")\n",
        "print(f\"syn_flooding{syn_flooding.sample(frac =0.04).shape}\")\n",
        "print(f\"ack_flooding{ack_flooding.sample(frac =0.03).shape}\")\n",
        "print(f\"host_bruteforce{host_bruteforce.shape}\")\n",
        "print(f\"http_flooding{http_flooding.sample(frac =0.4).shape}\")\n",
        "print(f\"udp_flooding{udp_flooding.shape}\")\n",
        "print(f\"arp_spoofing{arp_spoofing.shape}\")\n",
        "print(f\"port_scanning{port_scanning.sample(frac =0.6).shape}\")\n",
        "print(f\"scan_os{scan_os.shape}\")\n",
        "print(f\"scan_host_discovery{scan_host_discovery.shape}\")\n"
      ],
      "execution_count": null,
      "outputs": [
        {
          "output_type": "stream",
          "text": [
            "normal(911, 14)\n",
            "syn_flooding(1326, 14)\n",
            "ack_flooding(1630, 14)\n",
            "host_bruteforce(301, 14)\n",
            "http_flooding(1596, 14)\n",
            "udp_flooding(1562, 14)\n",
            "arp_spoofing(422, 14)\n",
            "port_scanning(1792, 14)\n",
            "scan_os(563, 14)\n",
            "scan_host_discovery(1448, 14)\n"
          ],
          "name": "stdout"
        }
      ]
    },
    {
      "cell_type": "code",
      "metadata": {
        "id": "d08-eVcg7hSJ"
      },
      "source": [
        "# These 4 classes were too large\n",
        "\n",
        "syn_flooding=syn_flooding.sample(frac =0.05)\n",
        "ack_flooding=ack_flooding.sample(frac =0.04)\n",
        "port_scanning=port_scanning.sample(frac =0.6)\n",
        "http_flooding=http_flooding.sample(frac =0.4)"
      ],
      "execution_count": null,
      "outputs": []
    },
    {
      "cell_type": "code",
      "metadata": {
        "id": "ZPMLuq9blXBc"
      },
      "source": [
        "all_data=[ack_flooding,host_bruteforce,udp_flooding,http_flooding,\n",
        "          arp_spoofing,port_scanning,scan_os,scan_host_discovery]"
      ],
      "execution_count": null,
      "outputs": []
    },
    {
      "cell_type": "code",
      "metadata": {
        "id": "TNgx9z1KNapx"
      },
      "source": [
        "for data_frame in all_data:\n",
        "  syn_flooding=syn_flooding.append(data_frame)\n",
        "  \n",
        "all_data=syn_flooding\n",
        "all_data=all_data.append(normal).reset_index(drop=True)"
      ],
      "execution_count": null,
      "outputs": []
    },
    {
      "cell_type": "code",
      "metadata": {
        "colab": {
          "base_uri": "https://localhost:8080/"
        },
        "id": "i785trWo15cg",
        "outputId": "159c9d66-0158-46dc-a781-3c93d3589f0a"
      },
      "source": [
        "all_data['Proto'].value_counts()"
      ],
      "execution_count": null,
      "outputs": [
        {
          "output_type": "execute_result",
          "data": {
            "text/plain": [
              "tcp            8685\n",
              "arp            1816\n",
              "udp            1779\n",
              "igmp             46\n",
              "unknown          31\n",
              "unas             23\n",
              "icmp             21\n",
              "srp               3\n",
              "gmtp              2\n",
              "ipv6-icmp         2\n",
              "cpnx              2\n",
              "iatp              2\n",
              "cbt               2\n",
              "rsvp              1\n",
              "leaf-1            1\n",
              "st2               1\n",
              "pup.3             1\n",
              "pgm               1\n",
              "nbs               1\n",
              "any               1\n",
              "ip                1\n",
              "vmtp              1\n",
              "ddp               1\n",
              "pri-enc           1\n",
              "chaos             1\n",
              "secure-vmtp       1\n",
              "Name: Proto, dtype: int64"
            ]
          },
          "metadata": {},
          "execution_count": 48
        }
      ]
    },
    {
      "cell_type": "code",
      "metadata": {
        "id": "W9ee9ry82WgV"
      },
      "source": [
        "# Lets just keep main protocols and remove records with rare \"Proto\"\n",
        "all_data=all_data[all_data['Proto'].isin(['tcp','arp','udp','igmp','unknown','unas','icmp'])]\n",
        "\n",
        "#shuffling\n",
        "all_data = shuffle(all_data)\n",
        "\n",
        "#save\n",
        "all_data.to_csv(\"all_data.csv\",index=False)"
      ],
      "execution_count": null,
      "outputs": []
    },
    {
      "cell_type": "markdown",
      "metadata": {
        "id": "yiNFNZ6lJd-C"
      },
      "source": [
        "## saving all_data on GDrive"
      ]
    },
    {
      "cell_type": "code",
      "metadata": {
        "colab": {
          "base_uri": "https://localhost:8080/"
        },
        "id": "LpBrgj7AJYio",
        "outputId": "7d4ae1b2-a5d6-4558-958f-c954553ed183"
      },
      "source": [
        "drive.mount('/gdrive')"
      ],
      "execution_count": null,
      "outputs": [
        {
          "name": "stdout",
          "output_type": "stream",
          "text": [
            "Drive already mounted at /gdrive; to attempt to forcibly remount, call drive.mount(\"/gdrive\", force_remount=True).\n"
          ]
        }
      ]
    },
    {
      "cell_type": "code",
      "metadata": {
        "colab": {
          "base_uri": "https://localhost:8080/"
        },
        "id": "8YN42WTuJP9f",
        "outputId": "5ec4f6e2-1f7e-4b61-a2e3-912a923270ab"
      },
      "source": [
        "cd  ../../../../../gdrive/MyDrive/"
      ],
      "execution_count": null,
      "outputs": [
        {
          "name": "stdout",
          "output_type": "stream",
          "text": [
            "/gdrive/MyDrive\n"
          ]
        }
      ]
    },
    {
      "cell_type": "code",
      "metadata": {
        "id": "rkkAwGNZJR5W"
      },
      "source": [
        "!cp '/content/sample_data/workspace/data/csv/all_data.csv' '../../gdrive/MyDrive/'"
      ],
      "execution_count": null,
      "outputs": []
    },
    {
      "cell_type": "markdown",
      "metadata": {
        "id": "nS-gO3GcLQAz"
      },
      "source": [
        "# After all previous steps, now we begin our journey to working with data"
      ]
    },
    {
      "cell_type": "markdown",
      "metadata": {
        "id": "Gu_rqg9fjjXo"
      },
      "source": [
        "## Import necessary libreries:"
      ]
    },
    {
      "cell_type": "code",
      "metadata": {
        "id": "YCIvL9A1uIZs"
      },
      "source": [
        "# Import Libraries\n",
        "# General libraries\n",
        "from google.colab import drive\n",
        "from IPython.display import clear_output\n",
        "from tqdm import tqdm_notebook as tqdm\n",
        "from sklearn.utils import shuffle\n",
        "import matplotlib.pyplot as plt\n",
        "import seaborn as sns\n",
        "from glob import glob as g\n",
        "import pandas as pd\n",
        "import numpy as np\n",
        "import itertools\n",
        "import warnings\n",
        "import datetime\n",
        "import math\n",
        "import os\n",
        "\n",
        "\n",
        "# Machine learning libraries\n",
        "from sklearn.metrics import plot_roc_curve, roc_auc_score, brier_score_loss,accuracy_score\n",
        "from sklearn.model_selection import cross_val_score,KFold\n",
        "from sklearn.model_selection import cross_validate\n",
        "from sklearn.model_selection import GridSearchCV\n",
        "from sklearn.calibration import calibration_curve\n",
        "\n",
        "from sklearn.neural_network import MLPClassifier\n",
        "from sklearn.linear_model import LogisticRegression\n",
        "from sklearn.linear_model import LinearRegression\n",
        "from sklearn.linear_model import Ridge\n",
        "from sklearn.dummy import DummyClassifier\n",
        "from sklearn.neighbors import KNeighborsClassifier\n",
        "from sklearn.tree import DecisionTreeClassifier\n",
        "from sklearn.svm import SVC\n",
        "\n",
        "from sklearn.ensemble import RandomForestClassifier\n",
        "from lightgbm import LGBMClassifier\n",
        "from xgboost import XGBClassifier\n",
        "from sklearn.experimental import enable_hist_gradient_boosting\n",
        "from sklearn.ensemble import HistGradientBoostingClassifier\n",
        "\n",
        "\n",
        "from sklearn.model_selection import train_test_split\n",
        "\n",
        "\n",
        "from sklearn.pipeline import Pipeline\n",
        "from sklearn.preprocessing import StandardScaler\n",
        "from sklearn.compose import make_column_selector as selector\n",
        "from sklearn.impute import SimpleImputer\n",
        "from sklearn.preprocessing import OneHotEncoder,OrdinalEncoder,LabelEncoder\n",
        "from sklearn.compose import ColumnTransformer\n",
        "\n",
        "import joblib\n",
        "\n",
        "# Model interpretation library\n",
        "from sklearn.inspection import plot_partial_dependence\n",
        "import warnings\n",
        "warnings.filterwarnings('ignore')"
      ],
      "execution_count": null,
      "outputs": []
    },
    {
      "cell_type": "markdown",
      "metadata": {
        "id": "_xggm-8GgQIz"
      },
      "source": [
        "## If you have already downloaded all_data.csv into your PC, then you can upload it:"
      ]
    },
    {
      "cell_type": "code",
      "metadata": {
        "id": "YiF9RQsgW0_d"
      },
      "source": [
        "from google.colab import files\n",
        "from IPython.display import clear_output\n",
        "uploaded = files.upload()\n",
        "clear_output()\n",
        "\n",
        "for fn in uploaded.keys():\n",
        "  print('User uploaded file \"{name}\" with length {length} bytes'.format(\n",
        "      name=fn, length=len(uploaded[fn])))\n",
        "!unrar x \"all_data.rar\"\n",
        "all_data=pd.read_csv('all_data.csv')"
      ],
      "execution_count": null,
      "outputs": []
    },
    {
      "cell_type": "markdown",
      "metadata": {
        "id": "QA8aT1hnIo1N"
      },
      "source": [
        "## Or you can copy it(all_data.csv) from GDrive if its saved there"
      ]
    },
    {
      "cell_type": "code",
      "metadata": {
        "colab": {
          "base_uri": "https://localhost:8080/"
        },
        "id": "XG0EKRWKIecq",
        "outputId": "13ec70c3-f85a-4dbf-ad2c-429b79b889ae"
      },
      "source": [
        "drive.mount('/gdrive')"
      ],
      "execution_count": null,
      "outputs": [
        {
          "output_type": "stream",
          "name": "stdout",
          "text": [
            "Mounted at /gdrive\n"
          ]
        }
      ]
    },
    {
      "cell_type": "code",
      "metadata": {
        "colab": {
          "base_uri": "https://localhost:8080/"
        },
        "id": "wh8o121qIhhz",
        "outputId": "856c661c-e6eb-4725-ece5-636a31a57991"
      },
      "source": [
        "cd  /content"
      ],
      "execution_count": null,
      "outputs": [
        {
          "output_type": "stream",
          "name": "stdout",
          "text": [
            "/content\n"
          ]
        }
      ]
    },
    {
      "cell_type": "code",
      "metadata": {
        "id": "56MP7XDPI7A7"
      },
      "source": [
        "!cp '../../gdrive/MyDrive/all_data.csv' '/content/' "
      ],
      "execution_count": null,
      "outputs": []
    },
    {
      "cell_type": "markdown",
      "metadata": {
        "id": "mugrVNndKsX-"
      },
      "source": [
        "## Reading all_date as Dataframe and fill nulls"
      ]
    },
    {
      "cell_type": "code",
      "metadata": {
        "id": "13lByOfESNZm"
      },
      "source": [
        "def fill_nulls(all_data):\n",
        "  for col in all_data:\n",
        "    #get dtype for column\n",
        "    dt = all_data[col].dtype \n",
        "    #check if it is a number\n",
        "    if dt == int or dt == float:\n",
        "        all_data[col].fillna(0, inplace=True)\n",
        "    else:\n",
        "        all_data[col].fillna(\"\", inplace=True)\n",
        "\n",
        "  return all_data"
      ],
      "execution_count": null,
      "outputs": []
    },
    {
      "cell_type": "code",
      "metadata": {
        "id": "YdzbChyRdgAu"
      },
      "source": [
        "def read_all_data():\n",
        "  all_data=pd.read_csv('all_data.csv')\n",
        "  fill_nulls(all_data)\n",
        "  fill_nulls(all_data)\n",
        "  return all_data"
      ],
      "execution_count": null,
      "outputs": []
    },
    {
      "cell_type": "code",
      "metadata": {
        "id": "yyHhuNqKUQtY"
      },
      "source": [
        "all_data=read_all_data()"
      ],
      "execution_count": null,
      "outputs": []
    },
    {
      "cell_type": "code",
      "metadata": {
        "colab": {
          "base_uri": "https://localhost:8080/"
        },
        "id": "Z98-z5lqmi0L",
        "outputId": "fb9e153c-7a2c-4dd7-acee-984e6421ece6"
      },
      "source": [
        "all_data.shape"
      ],
      "execution_count": null,
      "outputs": [
        {
          "output_type": "execute_result",
          "data": {
            "text/plain": [
              "(12401, 14)"
            ]
          },
          "metadata": {},
          "execution_count": 53
        }
      ]
    },
    {
      "cell_type": "code",
      "metadata": {
        "colab": {
          "base_uri": "https://localhost:8080/"
        },
        "id": "8vrm-2pQmyEY",
        "outputId": "cfb2839a-4074-49a1-e90f-9e65b163f16d"
      },
      "source": [
        "all_data.info()"
      ],
      "execution_count": null,
      "outputs": [
        {
          "output_type": "stream",
          "text": [
            "<class 'pandas.core.frame.DataFrame'>\n",
            "RangeIndex: 12401 entries, 0 to 12400\n",
            "Data columns (total 14 columns):\n",
            " #   Column      Non-Null Count  Dtype  \n",
            "---  ------      --------------  -----  \n",
            " 0   SrcAddr     12401 non-null  object \n",
            " 1   DstAddr     12401 non-null  object \n",
            " 2   SrcMac      12401 non-null  object \n",
            " 3   DstMac      12401 non-null  object \n",
            " 4   Sport       12401 non-null  object \n",
            " 5   Dport       12401 non-null  object \n",
            " 6   State       12401 non-null  object \n",
            " 7   Proto       12401 non-null  object \n",
            " 8   Dur         12401 non-null  float64\n",
            " 9   SrcRate     12401 non-null  float64\n",
            " 10  DstRate     12401 non-null  float64\n",
            " 11  sMeanPktSz  12401 non-null  float64\n",
            " 12  dMeanPktSz  12401 non-null  float64\n",
            " 13  class       12401 non-null  int64  \n",
            "dtypes: float64(5), int64(1), object(8)\n",
            "memory usage: 1.3+ MB\n"
          ],
          "name": "stdout"
        }
      ]
    },
    {
      "cell_type": "code",
      "metadata": {
        "colab": {
          "base_uri": "https://localhost:8080/",
          "height": 206
        },
        "id": "HtecPng2e1Xn",
        "outputId": "d4b514f1-c54e-47d2-ddf9-da0b16d7e9e4"
      },
      "source": [
        "all_data.head()"
      ],
      "execution_count": null,
      "outputs": [
        {
          "output_type": "execute_result",
          "data": {
            "text/html": [
              "<div>\n",
              "<style scoped>\n",
              "    .dataframe tbody tr th:only-of-type {\n",
              "        vertical-align: middle;\n",
              "    }\n",
              "\n",
              "    .dataframe tbody tr th {\n",
              "        vertical-align: top;\n",
              "    }\n",
              "\n",
              "    .dataframe thead th {\n",
              "        text-align: right;\n",
              "    }\n",
              "</style>\n",
              "<table border=\"1\" class=\"dataframe\">\n",
              "  <thead>\n",
              "    <tr style=\"text-align: right;\">\n",
              "      <th></th>\n",
              "      <th>SrcAddr</th>\n",
              "      <th>DstAddr</th>\n",
              "      <th>SrcMac</th>\n",
              "      <th>DstMac</th>\n",
              "      <th>Sport</th>\n",
              "      <th>Dport</th>\n",
              "      <th>State</th>\n",
              "      <th>Proto</th>\n",
              "      <th>Dur</th>\n",
              "      <th>SrcRate</th>\n",
              "      <th>DstRate</th>\n",
              "      <th>sMeanPktSz</th>\n",
              "      <th>dMeanPktSz</th>\n",
              "      <th>class</th>\n",
              "    </tr>\n",
              "  </thead>\n",
              "  <tbody>\n",
              "    <tr>\n",
              "      <th>0</th>\n",
              "      <td>192.168.0.24</td>\n",
              "      <td>210.89.164.90</td>\n",
              "      <td>04:32:f4:45:17:b3</td>\n",
              "      <td>88:36:6c:d7:1c:56</td>\n",
              "      <td>55104.0</td>\n",
              "      <td>80.0</td>\n",
              "      <td>sE</td>\n",
              "      <td>tcp</td>\n",
              "      <td>0.006284</td>\n",
              "      <td>318.268616</td>\n",
              "      <td>0.0</td>\n",
              "      <td>64.666664</td>\n",
              "      <td>0.0</td>\n",
              "      <td>4</td>\n",
              "    </tr>\n",
              "    <tr>\n",
              "      <th>1</th>\n",
              "      <td>192.168.0.13</td>\n",
              "      <td>210.89.164.90</td>\n",
              "      <td>bc:1c:81:4b:ae:ba</td>\n",
              "      <td>88:36:6c:d7:1c:56</td>\n",
              "      <td>6298.0</td>\n",
              "      <td>80.0</td>\n",
              "      <td>sER</td>\n",
              "      <td>tcp</td>\n",
              "      <td>0.811031</td>\n",
              "      <td>3.698996</td>\n",
              "      <td>0.0</td>\n",
              "      <td>62.000000</td>\n",
              "      <td>0.0</td>\n",
              "      <td>4</td>\n",
              "    </tr>\n",
              "    <tr>\n",
              "      <th>2</th>\n",
              "      <td>192.168.0.13</td>\n",
              "      <td>210.89.164.90</td>\n",
              "      <td>bc:1c:81:4b:ae:ba</td>\n",
              "      <td>88:36:6c:d7:1c:56</td>\n",
              "      <td>5231.0</td>\n",
              "      <td>80.0</td>\n",
              "      <td>sER</td>\n",
              "      <td>tcp</td>\n",
              "      <td>0.481519</td>\n",
              "      <td>4.153522</td>\n",
              "      <td>0.0</td>\n",
              "      <td>58.000000</td>\n",
              "      <td>0.0</td>\n",
              "      <td>4</td>\n",
              "    </tr>\n",
              "    <tr>\n",
              "      <th>3</th>\n",
              "      <td>192.168.0.15</td>\n",
              "      <td>192.168.0.144</td>\n",
              "      <td>f0:18:98:5e:ff:9f</td>\n",
              "      <td>Broadcast</td>\n",
              "      <td></td>\n",
              "      <td></td>\n",
              "      <td>INT</td>\n",
              "      <td>arp</td>\n",
              "      <td>0.002994</td>\n",
              "      <td>334.001343</td>\n",
              "      <td>0.0</td>\n",
              "      <td>67.000000</td>\n",
              "      <td>0.0</td>\n",
              "      <td>9</td>\n",
              "    </tr>\n",
              "    <tr>\n",
              "      <th>4</th>\n",
              "      <td>192.168.0.15</td>\n",
              "      <td>192.168.0.118</td>\n",
              "      <td>f0:18:98:5e:ff:9f</td>\n",
              "      <td>Broadcast</td>\n",
              "      <td></td>\n",
              "      <td></td>\n",
              "      <td>INT</td>\n",
              "      <td>arp</td>\n",
              "      <td>0.010537</td>\n",
              "      <td>94.903671</td>\n",
              "      <td>0.0</td>\n",
              "      <td>67.000000</td>\n",
              "      <td>0.0</td>\n",
              "      <td>9</td>\n",
              "    </tr>\n",
              "  </tbody>\n",
              "</table>\n",
              "</div>"
            ],
            "text/plain": [
              "        SrcAddr        DstAddr  ... dMeanPktSz class\n",
              "0  192.168.0.24  210.89.164.90  ...        0.0     4\n",
              "1  192.168.0.13  210.89.164.90  ...        0.0     4\n",
              "2  192.168.0.13  210.89.164.90  ...        0.0     4\n",
              "3  192.168.0.15  192.168.0.144  ...        0.0     9\n",
              "4  192.168.0.15  192.168.0.118  ...        0.0     9\n",
              "\n",
              "[5 rows x 14 columns]"
            ]
          },
          "metadata": {},
          "execution_count": 55
        }
      ]
    },
    {
      "cell_type": "code",
      "metadata": {
        "colab": {
          "base_uri": "https://localhost:8080/",
          "height": 301
        },
        "id": "6GIPxs08oo_p",
        "outputId": "c2165f33-b9b7-490d-cb93-beab6743b3d2"
      },
      "source": [
        "all_data.describe()"
      ],
      "execution_count": null,
      "outputs": [
        {
          "output_type": "execute_result",
          "data": {
            "text/html": [
              "<div>\n",
              "<style scoped>\n",
              "    .dataframe tbody tr th:only-of-type {\n",
              "        vertical-align: middle;\n",
              "    }\n",
              "\n",
              "    .dataframe tbody tr th {\n",
              "        vertical-align: top;\n",
              "    }\n",
              "\n",
              "    .dataframe thead th {\n",
              "        text-align: right;\n",
              "    }\n",
              "</style>\n",
              "<table border=\"1\" class=\"dataframe\">\n",
              "  <thead>\n",
              "    <tr style=\"text-align: right;\">\n",
              "      <th></th>\n",
              "      <th>Dur</th>\n",
              "      <th>SrcRate</th>\n",
              "      <th>DstRate</th>\n",
              "      <th>sMeanPktSz</th>\n",
              "      <th>dMeanPktSz</th>\n",
              "      <th>class</th>\n",
              "    </tr>\n",
              "  </thead>\n",
              "  <tbody>\n",
              "    <tr>\n",
              "      <th>count</th>\n",
              "      <td>12401.000000</td>\n",
              "      <td>12401.000000</td>\n",
              "      <td>12401.000000</td>\n",
              "      <td>12401.000000</td>\n",
              "      <td>12401.000000</td>\n",
              "      <td>12401.000000</td>\n",
              "    </tr>\n",
              "    <tr>\n",
              "      <th>mean</th>\n",
              "      <td>0.910862</td>\n",
              "      <td>118.360919</td>\n",
              "      <td>9.647655</td>\n",
              "      <td>95.089314</td>\n",
              "      <td>26.288151</td>\n",
              "      <td>4.327312</td>\n",
              "    </tr>\n",
              "    <tr>\n",
              "      <th>std</th>\n",
              "      <td>1.669554</td>\n",
              "      <td>590.211098</td>\n",
              "      <td>143.311478</td>\n",
              "      <td>145.328112</td>\n",
              "      <td>157.030098</td>\n",
              "      <td>2.859738</td>\n",
              "    </tr>\n",
              "    <tr>\n",
              "      <th>min</th>\n",
              "      <td>0.000000</td>\n",
              "      <td>0.000000</td>\n",
              "      <td>0.000000</td>\n",
              "      <td>0.000000</td>\n",
              "      <td>0.000000</td>\n",
              "      <td>0.000000</td>\n",
              "    </tr>\n",
              "    <tr>\n",
              "      <th>25%</th>\n",
              "      <td>0.000000</td>\n",
              "      <td>0.000000</td>\n",
              "      <td>0.000000</td>\n",
              "      <td>54.000000</td>\n",
              "      <td>0.000000</td>\n",
              "      <td>2.000000</td>\n",
              "    </tr>\n",
              "    <tr>\n",
              "      <th>50%</th>\n",
              "      <td>0.000000</td>\n",
              "      <td>0.000000</td>\n",
              "      <td>0.000000</td>\n",
              "      <td>67.000000</td>\n",
              "      <td>0.000000</td>\n",
              "      <td>4.000000</td>\n",
              "    </tr>\n",
              "    <tr>\n",
              "      <th>75%</th>\n",
              "      <td>0.620710</td>\n",
              "      <td>19.377966</td>\n",
              "      <td>0.000000</td>\n",
              "      <td>102.000000</td>\n",
              "      <td>0.000000</td>\n",
              "      <td>7.000000</td>\n",
              "    </tr>\n",
              "    <tr>\n",
              "      <th>max</th>\n",
              "      <td>4.999993</td>\n",
              "      <td>19151.820312</td>\n",
              "      <td>13513.512695</td>\n",
              "      <td>1566.000000</td>\n",
              "      <td>1545.508423</td>\n",
              "      <td>9.000000</td>\n",
              "    </tr>\n",
              "  </tbody>\n",
              "</table>\n",
              "</div>"
            ],
            "text/plain": [
              "                Dur       SrcRate  ...    dMeanPktSz         class\n",
              "count  12401.000000  12401.000000  ...  12401.000000  12401.000000\n",
              "mean       0.910862    118.360919  ...     26.288151      4.327312\n",
              "std        1.669554    590.211098  ...    157.030098      2.859738\n",
              "min        0.000000      0.000000  ...      0.000000      0.000000\n",
              "25%        0.000000      0.000000  ...      0.000000      2.000000\n",
              "50%        0.000000      0.000000  ...      0.000000      4.000000\n",
              "75%        0.620710     19.377966  ...      0.000000      7.000000\n",
              "max        4.999993  19151.820312  ...   1545.508423      9.000000\n",
              "\n",
              "[8 rows x 6 columns]"
            ]
          },
          "metadata": {},
          "execution_count": 56
        }
      ]
    },
    {
      "cell_type": "markdown",
      "metadata": {
        "id": "lZUN3ZgCo2Fk"
      },
      "source": [
        "## Is there any columns with \"0\" std ?"
      ]
    },
    {
      "cell_type": "code",
      "metadata": {
        "id": "MF7b3x89o1Hr"
      },
      "source": [
        "describe=all_data.describe()"
      ],
      "execution_count": null,
      "outputs": []
    },
    {
      "cell_type": "code",
      "metadata": {
        "id": "gKMNlyhXsPRX"
      },
      "source": [
        "for c in describe.columns:\n",
        "  if(describe.loc['std',c]==0):\n",
        "    # so U can get back and remove \n",
        "    # these fields from Argus command:\n",
        "    print(c)"
      ],
      "execution_count": null,
      "outputs": []
    },
    {
      "cell_type": "markdown",
      "metadata": {
        "id": "Vp1WVGXGwyp2"
      },
      "source": [
        "# Visualization"
      ]
    },
    {
      "cell_type": "markdown",
      "metadata": {
        "id": "Du-Usu4QCzKL"
      },
      "source": [
        "## Pie Chart of Classes"
      ]
    },
    {
      "cell_type": "code",
      "metadata": {
        "colab": {
          "base_uri": "https://localhost:8080/"
        },
        "id": "R8mNvsuPE7mi",
        "outputId": "b0fd491e-22cc-49c8-c6d1-6f398f75e707"
      },
      "source": [
        "all_data['class'].value_counts()"
      ],
      "execution_count": null,
      "outputs": [
        {
          "data": {
            "text/plain": [
              "2    2174\n",
              "7    1792\n",
              "1    1658\n",
              "4    1596\n",
              "5    1562\n",
              "9    1448\n",
              "0     893\n",
              "8     561\n",
              "6     416\n",
              "3     301\n",
              "Name: class, dtype: int64"
            ]
          },
          "execution_count": 139,
          "metadata": {},
          "output_type": "execute_result"
        }
      ]
    },
    {
      "cell_type": "code",
      "metadata": {
        "colab": {
          "base_uri": "https://localhost:8080/"
        },
        "id": "MPb_FPVzGPwH",
        "outputId": "be07fda5-c0b1-4d8c-a48d-574d85841ed9"
      },
      "source": [
        "all_data['class'].value_counts()[1]"
      ],
      "execution_count": null,
      "outputs": [
        {
          "data": {
            "text/plain": [
              "1658"
            ]
          },
          "execution_count": 140,
          "metadata": {},
          "output_type": "execute_result"
        }
      ]
    },
    {
      "cell_type": "code",
      "metadata": {
        "id": "tpvvxbM6FJQ_"
      },
      "source": [
        "pie_chart_data=np.ones(10)\n",
        "for i in range(10):\n",
        "  pie_chart_data[i]=all_data['class'].value_counts()[i]"
      ],
      "execution_count": null,
      "outputs": []
    },
    {
      "cell_type": "code",
      "metadata": {
        "colab": {
          "base_uri": "https://localhost:8080/"
        },
        "id": "VmYK1vgJG_jQ",
        "outputId": "e02f0ef1-7a4e-4cf4-fa72-5259ba4d8f99"
      },
      "source": [
        "pie_chart_data"
      ],
      "execution_count": null,
      "outputs": [
        {
          "data": {
            "text/plain": [
              "array([ 893., 1658., 2174.,  301., 1596., 1562.,  416., 1792.,  561.,\n",
              "       1448.])"
            ]
          },
          "execution_count": 142,
          "metadata": {},
          "output_type": "execute_result"
        }
      ]
    },
    {
      "cell_type": "code",
      "metadata": {
        "colab": {
          "base_uri": "https://localhost:8080/",
          "height": 592
        },
        "id": "l4YU0B32CyT-",
        "outputId": "c9e7c08d-5a84-4a8b-8989-1cfa60f4da2c"
      },
      "source": [
        "pie, ax = plt.subplots(figsize=[10,10])\n",
        "labels = labels\n",
        "plt.pie(x=pie_chart_data, autopct=\"%.1f%%\", explode=[0.05]*10, labels=labels, pctdistance=0.7)\n",
        "plt.title(\"All Classes In Dataset\", fontsize=14);\n",
        "pie.savefig(\"DeliveryPieChart.png\")"
      ],
      "execution_count": null,
      "outputs": [
        {
          "data": {
            "image/png": "[encoded data removed]",
            "text/plain": [
              "<Figure size 720x720 with 1 Axes>"
            ]
          },
          "metadata": {},
          "output_type": "display_data"
        }
      ]
    },
    {
      "cell_type": "markdown",
      "metadata": {
        "id": "ejkWTeepU8L0"
      },
      "source": [
        "## Lets see protocols percentage in different type of traffic flows"
      ]
    },
    {
      "cell_type": "code",
      "metadata": {
        "colab": {
          "base_uri": "https://localhost:8080/",
          "height": 206
        },
        "id": "bPaeUo31H2WI",
        "outputId": "8bbb6b85-82f7-493b-be66-7ea54ede1dba"
      },
      "source": [
        "all_data=read_all_data()\n",
        "df=all_data.groupby(['class','Proto']).agg({'Dur': 'count'})\n",
        "# Change: groupby state_office and divide by sum\n",
        "df = df.groupby('class').apply(lambda x:100 * x / x.sum())\n",
        "\n",
        "df=pd.DataFrame(df).reset_index()\n",
        "df.rename(columns={'Dur': 'count'}, inplace=True)\n",
        "\n",
        "df.head()"
      ],
      "execution_count": null,
      "outputs": [
        {
          "data": {
            "text/html": [
              "<div>\n",
              "<style scoped>\n",
              "    .dataframe tbody tr th:only-of-type {\n",
              "        vertical-align: middle;\n",
              "    }\n",
              "\n",
              "    .dataframe tbody tr th {\n",
              "        vertical-align: top;\n",
              "    }\n",
              "\n",
              "    .dataframe thead th {\n",
              "        text-align: right;\n",
              "    }\n",
              "</style>\n",
              "<table border=\"1\" class=\"dataframe\">\n",
              "  <thead>\n",
              "    <tr style=\"text-align: right;\">\n",
              "      <th></th>\n",
              "      <th>class</th>\n",
              "      <th>Proto</th>\n",
              "      <th>count</th>\n",
              "    </tr>\n",
              "  </thead>\n",
              "  <tbody>\n",
              "    <tr>\n",
              "      <th>0</th>\n",
              "      <td>0</td>\n",
              "      <td>arp</td>\n",
              "      <td>3.247480</td>\n",
              "    </tr>\n",
              "    <tr>\n",
              "      <th>1</th>\n",
              "      <td>0</td>\n",
              "      <td>icmp</td>\n",
              "      <td>2.351624</td>\n",
              "    </tr>\n",
              "    <tr>\n",
              "      <th>2</th>\n",
              "      <td>0</td>\n",
              "      <td>igmp</td>\n",
              "      <td>5.151176</td>\n",
              "    </tr>\n",
              "    <tr>\n",
              "      <th>3</th>\n",
              "      <td>0</td>\n",
              "      <td>tcp</td>\n",
              "      <td>66.853303</td>\n",
              "    </tr>\n",
              "    <tr>\n",
              "      <th>4</th>\n",
              "      <td>0</td>\n",
              "      <td>udp</td>\n",
              "      <td>16.685330</td>\n",
              "    </tr>\n",
              "  </tbody>\n",
              "</table>\n",
              "</div>"
            ],
            "text/plain": [
              "   class Proto      count\n",
              "0      0   arp   3.247480\n",
              "1      0  icmp   2.351624\n",
              "2      0  igmp   5.151176\n",
              "3      0   tcp  66.853303\n",
              "4      0   udp  16.685330"
            ]
          },
          "execution_count": 135,
          "metadata": {},
          "output_type": "execute_result"
        }
      ]
    },
    {
      "cell_type": "code",
      "metadata": {
        "colab": {
          "base_uri": "https://localhost:8080/",
          "height": 330
        },
        "id": "IuEz8o8NnxAe",
        "outputId": "7b2a880d-39ea-4a4e-e1f5-89bf54b1276d"
      },
      "source": [
        "# plt.figure(figsize=(12,8))\n",
        "# colors = [\"windows blue\", \"orange red\", \"grey\", \"amber\",\"green\",\"yellow\",\"black\"]  \n",
        "# myPalette = sns.xkcd_palette(colors)\n",
        "\n",
        "traffic_groups=['normal','syn_flooding','ack_flooding',\n",
        "                       'host_bruteforce','http_flooding',\n",
        "                       'udp_flooding','arp_spoofing',\n",
        "                       'port_scanning','scan_os',\n",
        "                       'scan_host_discovery']\n",
        "\n",
        "sns.set(style=\"white\") #fondo blanco\n",
        "g = sns.factorplot(data=df,x='class',y='count',hue='Proto', saturation=1, size=4, aspect=4, kind=\"bar\",\n",
        "               legend=False) #se suprime la leyenda\n",
        "\n",
        "g.set(ylim=(0, 140)) \n",
        "g.despine(right=False) \n",
        "g.set_xlabels(\"\") \n",
        "g.set_ylabels(\"\")  \n",
        "g.set_yticklabels(\"\") \n",
        "g.set_xticklabels(traffic_groups)\n",
        "# g.set_ytick_params(axis='x', rotation=90)\n",
        "\n",
        "\n",
        "myLegend=plt.legend(bbox_to_anchor=(0., 1.2, 1., .102), prop ={'size':10}, loc=10, ncol=7,  #left, bottom, width, height\n",
        "                title=r'traffic groups')                    \n",
        "myLegend.get_title().set_fontsize('24')\n",
        "\n",
        "\n",
        "ax=g.ax #annotate axis = seaborn axis\n",
        "def annotateBars(row, ax=ax): \n",
        "  for p in ax.patches:\n",
        "        # p.set_height(p.get_height()*1.2)\n",
        "\n",
        "        ax.annotate(\"%.1f\" % p.get_height()+\" %\", (p.get_x() + p.get_width() / 2., p.get_height()),\n",
        "            ha='center', va='center', fontsize=11, rotation=90, xytext=(3, 25),textcoords='offset points')  \n",
        "       \n",
        "\n",
        "\n",
        "plot = df.apply(annotateBars, ax=ax, axis=1)"
      ],
      "execution_count": null,
      "outputs": [
        {
          "data": {
            "image/png": "[encoded data removed]",
            "text/plain": [
              "<Figure size 1152x288 with 1 Axes>"
            ]
          },
          "metadata": {},
          "output_type": "display_data"
        }
      ]
    },
    {
      "cell_type": "markdown",
      "metadata": {
        "id": "9o1eyXeQ3aM6"
      },
      "source": [
        "## Lets check TCP States changes percentag in flows (this field is provided by Argus when we using -z in \"ra\" command) of each traffic groups "
      ]
    },
    {
      "cell_type": "code",
      "metadata": {
        "colab": {
          "base_uri": "https://localhost:8080/",
          "height": 424
        },
        "id": "GkfTGdXnuvc5",
        "outputId": "12c11d5f-9630-4704-84e0-40c915e5daa1"
      },
      "source": [
        "all_data=read_all_data()\n",
        "df=all_data.groupby(['class','State']).agg({'State':'count'})\n",
        "df = df.groupby('class').apply(lambda x:100 * x / x.sum())\n",
        "df.rename(columns={'State': 'count'}, inplace=True)\n",
        "df=pd.DataFrame(df).reset_index()\n",
        "df"
      ],
      "execution_count": null,
      "outputs": [
        {
          "data": {
            "text/html": [
              "<div>\n",
              "<style scoped>\n",
              "    .dataframe tbody tr th:only-of-type {\n",
              "        vertical-align: middle;\n",
              "    }\n",
              "\n",
              "    .dataframe tbody tr th {\n",
              "        vertical-align: top;\n",
              "    }\n",
              "\n",
              "    .dataframe thead th {\n",
              "        text-align: right;\n",
              "    }\n",
              "</style>\n",
              "<table border=\"1\" class=\"dataframe\">\n",
              "  <thead>\n",
              "    <tr style=\"text-align: right;\">\n",
              "      <th></th>\n",
              "      <th>class</th>\n",
              "      <th>State</th>\n",
              "      <th>count</th>\n",
              "    </tr>\n",
              "  </thead>\n",
              "  <tbody>\n",
              "    <tr>\n",
              "      <th>0</th>\n",
              "      <td>0</td>\n",
              "      <td></td>\n",
              "      <td>1.231803</td>\n",
              "    </tr>\n",
              "    <tr>\n",
              "      <th>1</th>\n",
              "      <td>0</td>\n",
              "      <td>CON</td>\n",
              "      <td>6.718925</td>\n",
              "    </tr>\n",
              "    <tr>\n",
              "      <th>2</th>\n",
              "      <td>0</td>\n",
              "      <td>E</td>\n",
              "      <td>15.229563</td>\n",
              "    </tr>\n",
              "    <tr>\n",
              "      <th>3</th>\n",
              "      <td>0</td>\n",
              "      <td>ECO</td>\n",
              "      <td>2.127660</td>\n",
              "    </tr>\n",
              "    <tr>\n",
              "      <th>4</th>\n",
              "      <td>0</td>\n",
              "      <td>ECR</td>\n",
              "      <td>0.111982</td>\n",
              "    </tr>\n",
              "    <tr>\n",
              "      <th>...</th>\n",
              "      <td>...</td>\n",
              "      <td>...</td>\n",
              "      <td>...</td>\n",
              "    </tr>\n",
              "    <tr>\n",
              "      <th>61</th>\n",
              "      <td>8</td>\n",
              "      <td>s</td>\n",
              "      <td>4.278075</td>\n",
              "    </tr>\n",
              "    <tr>\n",
              "      <th>62</th>\n",
              "      <td>8</td>\n",
              "      <td>sE</td>\n",
              "      <td>59.180036</td>\n",
              "    </tr>\n",
              "    <tr>\n",
              "      <th>63</th>\n",
              "      <td>8</td>\n",
              "      <td>sEf</td>\n",
              "      <td>31.016043</td>\n",
              "    </tr>\n",
              "    <tr>\n",
              "      <th>64</th>\n",
              "      <td>8</td>\n",
              "      <td>sf</td>\n",
              "      <td>0.178253</td>\n",
              "    </tr>\n",
              "    <tr>\n",
              "      <th>65</th>\n",
              "      <td>9</td>\n",
              "      <td>INT</td>\n",
              "      <td>100.000000</td>\n",
              "    </tr>\n",
              "  </tbody>\n",
              "</table>\n",
              "<p>66 rows × 3 columns</p>\n",
              "</div>"
            ],
            "text/plain": [
              "    class State       count\n",
              "0       0          1.231803\n",
              "1       0   CON    6.718925\n",
              "2       0     E   15.229563\n",
              "3       0   ECO    2.127660\n",
              "4       0   ECR    0.111982\n",
              "..    ...   ...         ...\n",
              "61      8     s    4.278075\n",
              "62      8    sE   59.180036\n",
              "63      8   sEf   31.016043\n",
              "64      8    sf    0.178253\n",
              "65      9   INT  100.000000\n",
              "\n",
              "[66 rows x 3 columns]"
            ]
          },
          "execution_count": 144,
          "metadata": {},
          "output_type": "execute_result"
        }
      ]
    },
    {
      "cell_type": "code",
      "metadata": {
        "colab": {
          "base_uri": "https://localhost:8080/",
          "height": 868
        },
        "id": "8zpiL-b3sGAW",
        "outputId": "e2428eed-5e9b-45e4-b065-7fd11fb51ea4"
      },
      "source": [
        "labels = ['Normal','syn_flooding','ack_flooding',\n",
        "          'host_bruteforce','http_flooding','udp_flooding',\n",
        "          'arp_spoofing','port_scanning','scan_os',\n",
        "          'scan_host_discovery']\n",
        "\n",
        "plt.figure(figsize=(15,14))\n",
        "plt.grid() \n",
        "fig = sns.scatterplot(data=df,x='class',size='count',y='State',sizes=(2, 700))\n",
        "fig.set_xticks(np.linspace(0,9,10))\n",
        "fig.axes.set_xticklabels(labels, rotation=20)\n",
        "fig.axes.set_axisbelow(True)\n",
        "fig.axes.yaxis.grid(color='gray', linestyle='dashed')\n",
        "fig.axes.xaxis.grid(color='gray', linestyle='dashed')\n",
        "\n",
        "# for tick_label in fig.axes.get_xticklabels():\n",
        "#     tick_label.set_color(\"gray\")\n",
        "#     tick_label.set_fontsize(\"12\")\n",
        "\n",
        "# plt.savefig('1.png', transparent=True)"
      ],
      "execution_count": null,
      "outputs": [
        {
          "data": {
            "image/png": "[encoded data removed]",
            "text/plain": [
              "<Figure size 1080x1008 with 1 Axes>"
            ]
          },
          "metadata": {},
          "output_type": "display_data"
        }
      ]
    },
    {
      "cell_type": "code",
      "metadata": {
        "colab": {
          "base_uri": "https://localhost:8080/"
        },
        "id": "_wEOha_Yh8sx",
        "outputId": "4b2bc194-093f-41d2-c30d-6bdce6ce4841"
      },
      "source": [
        "os_scan['State'].value_counts()"
      ],
      "execution_count": null,
      "outputs": [
        {
          "output_type": "execute_result",
          "data": {
            "text/plain": [
              "sR        31459\n",
              "E          1686\n",
              "sSEfF      1307\n",
              "REQ         949\n",
              "sSE         946\n",
              "s           896\n",
              "CON         799\n",
              "sSR         540\n",
              "INT         436\n",
              "sSER        205\n",
              "R           201\n",
              "ECO         154\n",
              "EfR         150\n",
              "ER          144\n",
              "sSEfFR       94\n",
              "URP          68\n",
              "sSEfR        50\n",
              "TST          32\n",
              "MAS          32\n",
              "SEfFC        11\n",
              "SEC          11\n",
              "sSEf         11\n",
              "sER           8\n",
              "SR            6\n",
              "f             4\n",
              "NRS           2\n",
              "SEfCR         1\n",
              "fF            1\n",
              "SECR          1\n",
              "Name: State, dtype: int64"
            ]
          },
          "metadata": {},
          "execution_count": 60
        }
      ]
    },
    {
      "cell_type": "markdown",
      "metadata": {
        "id": "kkQAkc7hYCYU"
      },
      "source": [
        "## SrcRate/DstRate"
      ]
    },
    {
      "cell_type": "code",
      "metadata": {
        "colab": {
          "base_uri": "https://localhost:8080/",
          "height": 363
        },
        "id": "ZJ8MNYZPp46W",
        "outputId": "d8a33036-d298-40b7-c029-50fa781fdef4"
      },
      "source": [
        "df_src=all_data.groupby(['class']).agg({'SrcRate':'mean'})\n",
        "df_src=df_src.reset_index()\n",
        "df_src['SrcRate']+=1\n",
        "\n",
        "df_dst=all_data.groupby(['class']).agg({'DstRate':'mean'})\n",
        "df_dst=df_dst.reset_index()\n",
        "df_dst['DstRate']+=1\n",
        "\n",
        "df_src['SrcRate']=df_src['SrcRate']/df_dst['DstRate']\n",
        "\n",
        "df.rename(columns={'SrcRate': 'SrcRate / DstRate'}, inplace=True)\n",
        "\n",
        "df"
      ],
      "execution_count": null,
      "outputs": [
        {
          "data": {
            "text/html": [
              "<div>\n",
              "<style scoped>\n",
              "    .dataframe tbody tr th:only-of-type {\n",
              "        vertical-align: middle;\n",
              "    }\n",
              "\n",
              "    .dataframe tbody tr th {\n",
              "        vertical-align: top;\n",
              "    }\n",
              "\n",
              "    .dataframe thead th {\n",
              "        text-align: right;\n",
              "    }\n",
              "</style>\n",
              "<table border=\"1\" class=\"dataframe\">\n",
              "  <thead>\n",
              "    <tr style=\"text-align: right;\">\n",
              "      <th></th>\n",
              "      <th>class</th>\n",
              "      <th>SrcRate / DstRate</th>\n",
              "    </tr>\n",
              "  </thead>\n",
              "  <tbody>\n",
              "    <tr>\n",
              "      <th>0</th>\n",
              "      <td>0</td>\n",
              "      <td>0.585417</td>\n",
              "    </tr>\n",
              "    <tr>\n",
              "      <th>1</th>\n",
              "      <td>1</td>\n",
              "      <td>86.445934</td>\n",
              "    </tr>\n",
              "    <tr>\n",
              "      <th>2</th>\n",
              "      <td>2</td>\n",
              "      <td>28.912423</td>\n",
              "    </tr>\n",
              "    <tr>\n",
              "      <th>3</th>\n",
              "      <td>3</td>\n",
              "      <td>22.361830</td>\n",
              "    </tr>\n",
              "    <tr>\n",
              "      <th>4</th>\n",
              "      <td>4</td>\n",
              "      <td>162.810012</td>\n",
              "    </tr>\n",
              "    <tr>\n",
              "      <th>5</th>\n",
              "      <td>5</td>\n",
              "      <td>402.275212</td>\n",
              "    </tr>\n",
              "    <tr>\n",
              "      <th>6</th>\n",
              "      <td>6</td>\n",
              "      <td>0.797989</td>\n",
              "    </tr>\n",
              "    <tr>\n",
              "      <th>7</th>\n",
              "      <td>7</td>\n",
              "      <td>34.272075</td>\n",
              "    </tr>\n",
              "    <tr>\n",
              "      <th>8</th>\n",
              "      <td>8</td>\n",
              "      <td>370.220232</td>\n",
              "    </tr>\n",
              "    <tr>\n",
              "      <th>9</th>\n",
              "      <td>9</td>\n",
              "      <td>23.496140</td>\n",
              "    </tr>\n",
              "  </tbody>\n",
              "</table>\n",
              "</div>"
            ],
            "text/plain": [
              "   class  SrcRate / DstRate\n",
              "0      0           0.585417\n",
              "1      1          86.445934\n",
              "2      2          28.912423\n",
              "3      3          22.361830\n",
              "4      4         162.810012\n",
              "5      5         402.275212\n",
              "6      6           0.797989\n",
              "7      7          34.272075\n",
              "8      8         370.220232\n",
              "9      9          23.496140"
            ]
          },
          "execution_count": 146,
          "metadata": {},
          "output_type": "execute_result"
        }
      ]
    },
    {
      "cell_type": "code",
      "metadata": {
        "colab": {
          "base_uri": "https://localhost:8080/",
          "height": 488
        },
        "id": "d5vzzNCjiE4Q",
        "outputId": "1ac579f1-f772-4cc4-9f60-0d4ffee12688"
      },
      "source": [
        "colors = [\"windows blue\"]  \n",
        "myPalette = sns.xkcd_palette(colors)\n",
        "plt.figure(figsize=(18,8))\n",
        "plt.grid() \n",
        "fig=sns.barplot(data=df,x='class',y='SrcRate / DstRate',palette=myPalette)\n",
        "fig.set_xticks(np.linspace(0,9,10))\n",
        "fig.axes.set_xticklabels(labels, rotation=20)\n",
        "fig.axes.set_axisbelow(True)\n",
        "\n",
        "# plt.savefig('1.png', transparent=True)"
      ],
      "execution_count": null,
      "outputs": [
        {
          "data": {
            "image/png": "[encoded data removed]",
            "text/plain": [
              "<Figure size 1296x576 with 1 Axes>"
            ]
          },
          "metadata": {},
          "output_type": "display_data"
        }
      ]
    },
    {
      "cell_type": "markdown",
      "metadata": {
        "id": "bJXcBNEfMLxq"
      },
      "source": [
        "## Mean of \"Dur\" or any numeric field"
      ]
    },
    {
      "cell_type": "code",
      "metadata": {
        "colab": {
          "base_uri": "https://localhost:8080/",
          "height": 480
        },
        "id": "Rp50SidLl66j",
        "outputId": "89a0a4bf-4a2c-411e-8568-7c3b6266b544"
      },
      "source": [
        "df_src=all_data.groupby(['class']).agg({'Dur':'mean'})\n",
        "df_src=df_src.reset_index()\n",
        "df_src['Dur']+=1\n",
        "\n",
        "plt.figure(figsize=(18,8))\n",
        "sns.barplot(data=df_src,x='class',y='Dur')"
      ],
      "execution_count": null,
      "outputs": [
        {
          "data": {
            "text/plain": [
              "<matplotlib.axes._subplots.AxesSubplot at 0x7fe79d0c2690>"
            ]
          },
          "execution_count": 124,
          "metadata": {},
          "output_type": "execute_result"
        },
        {
          "data": {
            "image/png": "[encoded data removed]",
            "text/plain": [
              "<Figure size 1296x576 with 1 Axes>"
            ]
          },
          "metadata": {},
          "output_type": "display_data"
        }
      ]
    },
    {
      "cell_type": "markdown",
      "metadata": {
        "id": "2rOrHRWjoBgp"
      },
      "source": [
        "## \"State\" culomn encoding"
      ]
    },
    {
      "cell_type": "code",
      "metadata": {
        "colab": {
          "base_uri": "https://localhost:8080/"
        },
        "id": "FCiqJLLizy1N",
        "outputId": "8a2859cf-614d-4e3c-8dce-2011ccf7e8ee"
      },
      "source": [
        "all_data['State'].value_counts()"
      ],
      "execution_count": null,
      "outputs": [
        {
          "data": {
            "text/plain": [
              "s         4801\n",
              "E         2759\n",
              "INT       2172\n",
              "sE        1362\n",
              "REQ       1153\n",
              "sER       1084\n",
              "R          733\n",
              "ER         631\n",
              "sEf        295\n",
              "RSP        259\n",
              "sR         165\n",
              "CON        111\n",
              "sSE         91\n",
              "SEfC        80\n",
              "sSEfF       50\n",
              "Ef          49\n",
              "SEC         35\n",
              "sSEfFR      34\n",
              "            21\n",
              "ECO         19\n",
              "sSEf        13\n",
              "SEfFC       13\n",
              "EfR         13\n",
              "sSER         8\n",
              "sEfFR        6\n",
              "sSEfR        5\n",
              "f            5\n",
              "EfF          5\n",
              "sEfF         3\n",
              "fR           3\n",
              "SEfFCR       2\n",
              "fF           2\n",
              "SEfCR        2\n",
              "EfFR         2\n",
              "sf           1\n",
              "TXD          1\n",
              "ECR          1\n",
              "Name: State, dtype: int64"
            ]
          },
          "execution_count": 67,
          "metadata": {},
          "output_type": "execute_result"
        }
      ]
    },
    {
      "cell_type": "markdown",
      "metadata": {
        "id": "BNqCYZq_GfOW"
      },
      "source": [
        "### As you can see, the \"State\" column has special data, according to \"ra\" documentation, by using \"-z\" option in Argus command,this field will contain the TCP state changes in each conversation. so we should try to encode this data for training our models"
      ]
    },
    {
      "cell_type": "code",
      "metadata": {
        "colab": {
          "base_uri": "https://localhost:8080/"
        },
        "id": "p0_wj5h1ATHE",
        "outputId": "aabce863-5405-43cc-b631-7361e2909b4d"
      },
      "source": [
        "states=\"\"\n",
        "for key in (all_data['State'].value_counts()).keys():\n",
        "  states+=key\n",
        "#for null values:\n",
        "states+=\" \"\n",
        "# rremoving duplicate characters\n",
        "states=(list(set(states)))\n",
        "states"
      ],
      "execution_count": null,
      "outputs": [
        {
          "data": {
            "text/plain": [
              "['I',\n",
              " ' ',\n",
              " 'F',\n",
              " 'N',\n",
              " 'P',\n",
              " 'D',\n",
              " 'T',\n",
              " 'C',\n",
              " 'f',\n",
              " 'O',\n",
              " 'Q',\n",
              " 's',\n",
              " 'S',\n",
              " 'X',\n",
              " 'R',\n",
              " 'E']"
            ]
          },
          "execution_count": 56,
          "metadata": {
            "tags": []
          },
          "output_type": "execute_result"
        }
      ]
    },
    {
      "cell_type": "code",
      "metadata": {
        "colab": {
          "base_uri": "https://localhost:8080/"
        },
        "id": "nDFtHC5RJmXY",
        "outputId": "67aa3250-bef5-4d87-d7f3-875a6ee464b8"
      },
      "source": [
        "states.index('P')"
      ],
      "execution_count": null,
      "outputs": [
        {
          "data": {
            "text/plain": [
              "4"
            ]
          },
          "execution_count": 57,
          "metadata": {
            "tags": []
          },
          "output_type": "execute_result"
        }
      ]
    },
    {
      "cell_type": "markdown",
      "metadata": {
        "id": "DI6JhR-4Ob1Y"
      },
      "source": [
        "### What I want to do here, is similar to one_hot_encoding, so at first I found all possible chars in \"State\" field and then we will map avery record's State to 0,1. this is an example:"
      ]
    },
    {
      "cell_type": "code",
      "metadata": {
        "id": "d0ULWZYnAcw_"
      },
      "source": [
        "# get a dict of chars by their index in above \"state\" list (we will use this index for one_hoted column's \"1\" values):\n",
        "# indexed_char_array={k: v for v, k in enumerate(states)}\n",
        "# indexed_char_array"
      ],
      "execution_count": null,
      "outputs": []
    },
    {
      "cell_type": "code",
      "metadata": {
        "id": "koMCulrJLfbR"
      },
      "source": [
        "sample_state=\"sEF R S\""
      ],
      "execution_count": null,
      "outputs": []
    },
    {
      "cell_type": "code",
      "metadata": {
        "colab": {
          "base_uri": "https://localhost:8080/",
          "height": 101
        },
        "id": "b73o4Snt7yNt",
        "outputId": "b5c9b9bd-ece0-40e4-e782-7c9b2858248b"
      },
      "source": [
        "df=pd.DataFrame(columns=states).add_prefix('State_')\n",
        "df.loc[0]=0\n",
        "for i in sample_state:\n",
        "  df.iloc[0,states.index(i)]=1\n",
        "display(df)"
      ],
      "execution_count": null,
      "outputs": [
        {
          "data": {
            "text/html": [
              "<div>\n",
              "<style scoped>\n",
              "    .dataframe tbody tr th:only-of-type {\n",
              "        vertical-align: middle;\n",
              "    }\n",
              "\n",
              "    .dataframe tbody tr th {\n",
              "        vertical-align: top;\n",
              "    }\n",
              "\n",
              "    .dataframe thead th {\n",
              "        text-align: right;\n",
              "    }\n",
              "</style>\n",
              "<table border=\"1\" class=\"dataframe\">\n",
              "  <thead>\n",
              "    <tr style=\"text-align: right;\">\n",
              "      <th></th>\n",
              "      <th>State_I</th>\n",
              "      <th>State_</th>\n",
              "      <th>State_F</th>\n",
              "      <th>State_N</th>\n",
              "      <th>State_P</th>\n",
              "      <th>State_D</th>\n",
              "      <th>State_T</th>\n",
              "      <th>State_C</th>\n",
              "      <th>State_f</th>\n",
              "      <th>State_O</th>\n",
              "      <th>State_Q</th>\n",
              "      <th>State_s</th>\n",
              "      <th>State_S</th>\n",
              "      <th>State_X</th>\n",
              "      <th>State_R</th>\n",
              "      <th>State_E</th>\n",
              "    </tr>\n",
              "  </thead>\n",
              "  <tbody>\n",
              "    <tr>\n",
              "      <th>0</th>\n",
              "      <td>0</td>\n",
              "      <td>1</td>\n",
              "      <td>1</td>\n",
              "      <td>0</td>\n",
              "      <td>0</td>\n",
              "      <td>0</td>\n",
              "      <td>0</td>\n",
              "      <td>0</td>\n",
              "      <td>0</td>\n",
              "      <td>0</td>\n",
              "      <td>0</td>\n",
              "      <td>1</td>\n",
              "      <td>1</td>\n",
              "      <td>0</td>\n",
              "      <td>1</td>\n",
              "      <td>1</td>\n",
              "    </tr>\n",
              "  </tbody>\n",
              "</table>\n",
              "</div>"
            ],
            "text/plain": [
              "  State_I State_  State_F State_N  ... State_S State_X State_R State_E\n",
              "0       0       1       1       0  ...       1       0       1       1\n",
              "\n",
              "[1 rows x 16 columns]"
            ]
          },
          "metadata": {
            "tags": []
          },
          "output_type": "display_data"
        }
      ]
    },
    {
      "cell_type": "markdown",
      "metadata": {
        "id": "CyJVcwVqV-12"
      },
      "source": [
        "### Ok Lets implement these steps in a method"
      ]
    },
    {
      "cell_type": "code",
      "metadata": {
        "id": "_9NdYxux70wj"
      },
      "source": [
        "all_data=encode_field(all_data,'State')\n",
        "# all_data.drop('State',axis=1,inplace=True)"
      ],
      "execution_count": null,
      "outputs": []
    },
    {
      "cell_type": "code",
      "metadata": {
        "id": "-G_0MvRWbbye"
      },
      "source": [
        "def encode_field(df,col):\n",
        "\n",
        "  # gets our dataframe and a column that \n",
        "  # should be encoded, so it crates a new\n",
        "  # dataFrame of encoded columns and joins \n",
        "  # it to df. this function can be used \n",
        "  # for \"State\",\"tcpOpt\",\"Flgs\" columns\n",
        "  #(check \"ra\" docs for more fields).\n",
        "\n",
        "  char_array=\"\"\n",
        "  for key in (df[col].value_counts()).keys():\n",
        "    char_array+=key\n",
        "    #for null values:\n",
        "  char_array+=\" \"\n",
        "  char_array=list(set(char_array))\n",
        "  one_hot=pd.DataFrame(columns=char_array).add_prefix(f\"{col}_\")\n",
        "\n",
        "\n",
        "  for i in range(df.shape[0]):\n",
        "    one_hot.loc[i]=0\n",
        "    for j in df.loc[i,col]:\n",
        "        one_hot.iloc[i,char_array.index(j)]=1\n",
        "  \n",
        "  one_hot.drop(f\"{col}_ \",axis=1,inplace=True)\n",
        "  return df.drop(col,axis=1).join(one_hot)\n"
      ],
      "execution_count": null,
      "outputs": []
    },
    {
      "cell_type": "code",
      "metadata": {
        "colab": {
          "base_uri": "https://localhost:8080/"
        },
        "id": "CJKar7JImL-X",
        "outputId": "c8bd832b-b39e-4436-d123-4c4f43f8080b"
      },
      "source": [
        "all_data.shape"
      ],
      "execution_count": null,
      "outputs": [
        {
          "data": {
            "text/plain": [
              "(20232, 34)"
            ]
          },
          "execution_count": 48,
          "metadata": {
            "tags": []
          },
          "output_type": "execute_result"
        }
      ]
    },
    {
      "cell_type": "markdown",
      "metadata": {
        "id": "HY2Vv61pE-QV"
      },
      "source": [
        "# Feature Selection"
      ]
    },
    {
      "cell_type": "code",
      "metadata": {
        "colab": {
          "base_uri": "https://localhost:8080/",
          "height": 226
        },
        "id": "G3uo9PZipFUa",
        "outputId": "1d43043e-0028-49b9-ed9e-8e1b4bee354e"
      },
      "source": [
        "all_data.head()"
      ],
      "execution_count": null,
      "outputs": [
        {
          "data": {
            "text/html": [
              "<div>\n",
              "<style scoped>\n",
              "    .dataframe tbody tr th:only-of-type {\n",
              "        vertical-align: middle;\n",
              "    }\n",
              "\n",
              "    .dataframe tbody tr th {\n",
              "        vertical-align: top;\n",
              "    }\n",
              "\n",
              "    .dataframe thead th {\n",
              "        text-align: right;\n",
              "    }\n",
              "</style>\n",
              "<table border=\"1\" class=\"dataframe\">\n",
              "  <thead>\n",
              "    <tr style=\"text-align: right;\">\n",
              "      <th></th>\n",
              "      <th>SrcAddr</th>\n",
              "      <th>DstAddr</th>\n",
              "      <th>SrcMac</th>\n",
              "      <th>DstMac</th>\n",
              "      <th>Sport</th>\n",
              "      <th>Dport</th>\n",
              "      <th>State</th>\n",
              "      <th>Proto</th>\n",
              "      <th>Dur</th>\n",
              "      <th>SrcRate</th>\n",
              "      <th>DstRate</th>\n",
              "      <th>SrcWin</th>\n",
              "      <th>DstWin</th>\n",
              "      <th>sMeanPktSz</th>\n",
              "      <th>dMeanPktSz</th>\n",
              "      <th>sTtl</th>\n",
              "      <th>dTtl</th>\n",
              "      <th>sHops</th>\n",
              "      <th>dHops</th>\n",
              "      <th>class</th>\n",
              "    </tr>\n",
              "  </thead>\n",
              "  <tbody>\n",
              "    <tr>\n",
              "      <th>0</th>\n",
              "      <td>192.168.0.15</td>\n",
              "      <td>192.168.0.113</td>\n",
              "      <td>f0:18:98:5e:ff:9f</td>\n",
              "      <td>Broadcast</td>\n",
              "      <td></td>\n",
              "      <td></td>\n",
              "      <td>INT</td>\n",
              "      <td>arp</td>\n",
              "      <td>0.000000</td>\n",
              "      <td>0.000000</td>\n",
              "      <td>0.0</td>\n",
              "      <td>0.0</td>\n",
              "      <td>0.0</td>\n",
              "      <td>67.000000</td>\n",
              "      <td>0.0</td>\n",
              "      <td>0.0</td>\n",
              "      <td>0.0</td>\n",
              "      <td>0.0</td>\n",
              "      <td>0.0</td>\n",
              "      <td>9</td>\n",
              "    </tr>\n",
              "    <tr>\n",
              "      <th>1</th>\n",
              "      <td>192.168.0.15</td>\n",
              "      <td>192.168.0.113</td>\n",
              "      <td>f0:18:98:5e:ff:9f</td>\n",
              "      <td>Broadcast</td>\n",
              "      <td></td>\n",
              "      <td></td>\n",
              "      <td>INT</td>\n",
              "      <td>arp</td>\n",
              "      <td>0.305832</td>\n",
              "      <td>9.809307</td>\n",
              "      <td>0.0</td>\n",
              "      <td>0.0</td>\n",
              "      <td>0.0</td>\n",
              "      <td>67.000000</td>\n",
              "      <td>0.0</td>\n",
              "      <td>0.0</td>\n",
              "      <td>0.0</td>\n",
              "      <td>0.0</td>\n",
              "      <td>0.0</td>\n",
              "      <td>9</td>\n",
              "    </tr>\n",
              "    <tr>\n",
              "      <th>2</th>\n",
              "      <td>222.178.169.80</td>\n",
              "      <td>192.168.0.13</td>\n",
              "      <td>88:36:6c:f2:ce:a7</td>\n",
              "      <td>bc:1c:81:4b:ae:ba</td>\n",
              "      <td>1397.0</td>\n",
              "      <td>554.0</td>\n",
              "      <td>s</td>\n",
              "      <td>tcp</td>\n",
              "      <td>0.000000</td>\n",
              "      <td>0.000000</td>\n",
              "      <td>0.0</td>\n",
              "      <td>0.0</td>\n",
              "      <td>0.0</td>\n",
              "      <td>98.000000</td>\n",
              "      <td>0.0</td>\n",
              "      <td>64.0</td>\n",
              "      <td>0.0</td>\n",
              "      <td>0.0</td>\n",
              "      <td>0.0</td>\n",
              "      <td>1</td>\n",
              "    </tr>\n",
              "    <tr>\n",
              "      <th>3</th>\n",
              "      <td>192.168.0.24</td>\n",
              "      <td>210.89.164.90</td>\n",
              "      <td>04:32:f4:45:17:b3</td>\n",
              "      <td>88:36:6c:d7:1c:56</td>\n",
              "      <td>8877.0</td>\n",
              "      <td>52330.0</td>\n",
              "      <td>E</td>\n",
              "      <td>tcp</td>\n",
              "      <td>0.000000</td>\n",
              "      <td>0.000000</td>\n",
              "      <td>0.0</td>\n",
              "      <td>0.0</td>\n",
              "      <td>0.0</td>\n",
              "      <td>54.000000</td>\n",
              "      <td>0.0</td>\n",
              "      <td>64.0</td>\n",
              "      <td>0.0</td>\n",
              "      <td>0.0</td>\n",
              "      <td>0.0</td>\n",
              "      <td>2</td>\n",
              "    </tr>\n",
              "    <tr>\n",
              "      <th>4</th>\n",
              "      <td>fe80::df:76c6:92ef:4d18</td>\n",
              "      <td>ff02::fb</td>\n",
              "      <td>48:4b:aa:2c:d8:f9</td>\n",
              "      <td>33:33:00:00:00:fb</td>\n",
              "      <td>5353</td>\n",
              "      <td>5353</td>\n",
              "      <td>INT</td>\n",
              "      <td>udp</td>\n",
              "      <td>0.253422</td>\n",
              "      <td>31.567900</td>\n",
              "      <td>0.0</td>\n",
              "      <td>0.0</td>\n",
              "      <td>0.0</td>\n",
              "      <td>192.111115</td>\n",
              "      <td>0.0</td>\n",
              "      <td>255.0</td>\n",
              "      <td>0.0</td>\n",
              "      <td>1.0</td>\n",
              "      <td>0.0</td>\n",
              "      <td>0</td>\n",
              "    </tr>\n",
              "  </tbody>\n",
              "</table>\n",
              "</div>"
            ],
            "text/plain": [
              "                   SrcAddr        DstAddr  ... dHops class\n",
              "0             192.168.0.15  192.168.0.113  ...   0.0     9\n",
              "1             192.168.0.15  192.168.0.113  ...   0.0     9\n",
              "2           222.178.169.80   192.168.0.13  ...   0.0     1\n",
              "3             192.168.0.24  210.89.164.90  ...   0.0     2\n",
              "4  fe80::df:76c6:92ef:4d18       ff02::fb  ...   0.0     0\n",
              "\n",
              "[5 rows x 20 columns]"
            ]
          },
          "execution_count": 150,
          "metadata": {},
          "output_type": "execute_result"
        }
      ]
    },
    {
      "cell_type": "code",
      "metadata": {
        "colab": {
          "base_uri": "https://localhost:8080/",
          "height": 226
        },
        "id": "tcyYunYjFNyD",
        "outputId": "4a43ac9e-1371-4b81-c924-2ab44e666394"
      },
      "source": [
        "all_data=read_all_data()\n",
        "\n",
        "# this code will take a bit long!\n",
        "all_data=encode_field(all_data,'State')\n",
        "\n",
        "all_data.head()"
      ],
      "execution_count": null,
      "outputs": [
        {
          "output_type": "execute_result",
          "data": {
            "text/html": [
              "<div>\n",
              "<style scoped>\n",
              "    .dataframe tbody tr th:only-of-type {\n",
              "        vertical-align: middle;\n",
              "    }\n",
              "\n",
              "    .dataframe tbody tr th {\n",
              "        vertical-align: top;\n",
              "    }\n",
              "\n",
              "    .dataframe thead th {\n",
              "        text-align: right;\n",
              "    }\n",
              "</style>\n",
              "<table border=\"1\" class=\"dataframe\">\n",
              "  <thead>\n",
              "    <tr style=\"text-align: right;\">\n",
              "      <th></th>\n",
              "      <th>SrcAddr</th>\n",
              "      <th>DstAddr</th>\n",
              "      <th>SrcMac</th>\n",
              "      <th>DstMac</th>\n",
              "      <th>Sport</th>\n",
              "      <th>Dport</th>\n",
              "      <th>Proto</th>\n",
              "      <th>Dur</th>\n",
              "      <th>SrcRate</th>\n",
              "      <th>DstRate</th>\n",
              "      <th>sMeanPktSz</th>\n",
              "      <th>dMeanPktSz</th>\n",
              "      <th>class</th>\n",
              "      <th>State_D</th>\n",
              "      <th>State_s</th>\n",
              "      <th>State_E</th>\n",
              "      <th>State_R</th>\n",
              "      <th>State_S</th>\n",
              "      <th>State_C</th>\n",
              "      <th>State_F</th>\n",
              "      <th>State_Q</th>\n",
              "      <th>State_P</th>\n",
              "      <th>State_T</th>\n",
              "      <th>State_f</th>\n",
              "      <th>State_O</th>\n",
              "      <th>State_X</th>\n",
              "      <th>State_I</th>\n",
              "      <th>State_N</th>\n",
              "    </tr>\n",
              "  </thead>\n",
              "  <tbody>\n",
              "    <tr>\n",
              "      <th>0</th>\n",
              "      <td>192.168.0.16</td>\n",
              "      <td>192.168.0.13</td>\n",
              "      <td>48:4b:aa:2c:d8:f9</td>\n",
              "      <td>bc:1c:81:4b:ae:ba</td>\n",
              "      <td>49790</td>\n",
              "      <td>9010</td>\n",
              "      <td>tcp</td>\n",
              "      <td>0.065393</td>\n",
              "      <td>198.798035</td>\n",
              "      <td>168.213715</td>\n",
              "      <td>136.571426</td>\n",
              "      <td>138.5</td>\n",
              "      <td>0</td>\n",
              "      <td>0</td>\n",
              "      <td>1</td>\n",
              "      <td>1</td>\n",
              "      <td>1</td>\n",
              "      <td>1</td>\n",
              "      <td>0</td>\n",
              "      <td>0</td>\n",
              "      <td>0</td>\n",
              "      <td>0</td>\n",
              "      <td>0</td>\n",
              "      <td>1</td>\n",
              "      <td>0</td>\n",
              "      <td>0</td>\n",
              "      <td>0</td>\n",
              "      <td>0</td>\n",
              "    </tr>\n",
              "    <tr>\n",
              "      <th>1</th>\n",
              "      <td>192.168.0.15</td>\n",
              "      <td>192.168.0.13</td>\n",
              "      <td>f0:18:98:5e:ff:9f</td>\n",
              "      <td>bc:1c:81:4b:ae:ba</td>\n",
              "      <td>52143.0</td>\n",
              "      <td>7004.0</td>\n",
              "      <td>tcp</td>\n",
              "      <td>0.000000</td>\n",
              "      <td>0.000000</td>\n",
              "      <td>0.000000</td>\n",
              "      <td>102.000000</td>\n",
              "      <td>0.0</td>\n",
              "      <td>7</td>\n",
              "      <td>0</td>\n",
              "      <td>1</td>\n",
              "      <td>0</td>\n",
              "      <td>0</td>\n",
              "      <td>0</td>\n",
              "      <td>0</td>\n",
              "      <td>0</td>\n",
              "      <td>0</td>\n",
              "      <td>0</td>\n",
              "      <td>0</td>\n",
              "      <td>0</td>\n",
              "      <td>0</td>\n",
              "      <td>0</td>\n",
              "      <td>0</td>\n",
              "      <td>0</td>\n",
              "    </tr>\n",
              "    <tr>\n",
              "      <th>2</th>\n",
              "      <td>192.168.0.15</td>\n",
              "      <td>192.168.0.13</td>\n",
              "      <td>f0:18:98:5e:ff:9f</td>\n",
              "      <td>bc:1c:81:4b:ae:ba</td>\n",
              "      <td>52143.0</td>\n",
              "      <td>9415.0</td>\n",
              "      <td>tcp</td>\n",
              "      <td>0.000000</td>\n",
              "      <td>0.000000</td>\n",
              "      <td>0.000000</td>\n",
              "      <td>102.000000</td>\n",
              "      <td>0.0</td>\n",
              "      <td>7</td>\n",
              "      <td>0</td>\n",
              "      <td>1</td>\n",
              "      <td>0</td>\n",
              "      <td>0</td>\n",
              "      <td>0</td>\n",
              "      <td>0</td>\n",
              "      <td>0</td>\n",
              "      <td>0</td>\n",
              "      <td>0</td>\n",
              "      <td>0</td>\n",
              "      <td>0</td>\n",
              "      <td>0</td>\n",
              "      <td>0</td>\n",
              "      <td>0</td>\n",
              "      <td>0</td>\n",
              "    </tr>\n",
              "    <tr>\n",
              "      <th>3</th>\n",
              "      <td>222.24.23.68</td>\n",
              "      <td>192.168.0.13</td>\n",
              "      <td>88:36:6c:f2:ce:a7</td>\n",
              "      <td>bc:1c:81:4b:ae:ba</td>\n",
              "      <td>3484.0</td>\n",
              "      <td>554.0</td>\n",
              "      <td>tcp</td>\n",
              "      <td>0.000000</td>\n",
              "      <td>0.000000</td>\n",
              "      <td>0.000000</td>\n",
              "      <td>102.000000</td>\n",
              "      <td>0.0</td>\n",
              "      <td>1</td>\n",
              "      <td>0</td>\n",
              "      <td>1</td>\n",
              "      <td>0</td>\n",
              "      <td>0</td>\n",
              "      <td>0</td>\n",
              "      <td>0</td>\n",
              "      <td>0</td>\n",
              "      <td>0</td>\n",
              "      <td>0</td>\n",
              "      <td>0</td>\n",
              "      <td>0</td>\n",
              "      <td>0</td>\n",
              "      <td>0</td>\n",
              "      <td>0</td>\n",
              "      <td>0</td>\n",
              "    </tr>\n",
              "    <tr>\n",
              "      <th>4</th>\n",
              "      <td>192.168.0.13</td>\n",
              "      <td>210.89.164.90</td>\n",
              "      <td>bc:1c:81:4b:ae:ba</td>\n",
              "      <td>88:36:6c:d7:1c:56</td>\n",
              "      <td>51994.0</td>\n",
              "      <td>8899.0</td>\n",
              "      <td>udp</td>\n",
              "      <td>4.941707</td>\n",
              "      <td>172.410049</td>\n",
              "      <td>0.000000</td>\n",
              "      <td>74.000000</td>\n",
              "      <td>0.0</td>\n",
              "      <td>5</td>\n",
              "      <td>0</td>\n",
              "      <td>0</td>\n",
              "      <td>1</td>\n",
              "      <td>1</td>\n",
              "      <td>0</td>\n",
              "      <td>0</td>\n",
              "      <td>0</td>\n",
              "      <td>1</td>\n",
              "      <td>0</td>\n",
              "      <td>0</td>\n",
              "      <td>0</td>\n",
              "      <td>0</td>\n",
              "      <td>0</td>\n",
              "      <td>0</td>\n",
              "      <td>0</td>\n",
              "    </tr>\n",
              "  </tbody>\n",
              "</table>\n",
              "</div>"
            ],
            "text/plain": [
              "        SrcAddr        DstAddr             SrcMac  ... State_X State_I State_N\n",
              "0  192.168.0.16   192.168.0.13  48:4b:aa:2c:d8:f9  ...       0       0       0\n",
              "1  192.168.0.15   192.168.0.13  f0:18:98:5e:ff:9f  ...       0       0       0\n",
              "2  192.168.0.15   192.168.0.13  f0:18:98:5e:ff:9f  ...       0       0       0\n",
              "3  222.24.23.68   192.168.0.13  88:36:6c:f2:ce:a7  ...       0       0       0\n",
              "4  192.168.0.13  210.89.164.90  bc:1c:81:4b:ae:ba  ...       0       0       0\n",
              "\n",
              "[5 rows x 28 columns]"
            ]
          },
          "metadata": {},
          "execution_count": 12
        }
      ]
    },
    {
      "cell_type": "markdown",
      "metadata": {
        "id": "b42G5qwBhb4O"
      },
      "source": [
        "## NOTE: After many Iterations we found that we can use only ['SrcRate','DstRate','State'] features for good binary classification, and for multiclass classification you can add \"Proto\" to feature set"
      ]
    },
    {
      "cell_type": "code",
      "metadata": {
        "id": "lUMUO6EKU7BA"
      },
      "source": [
        "# this block is just for multiClass classification\n",
        "x=all_data.drop(['class','SrcAddr','SrcMac', 'DstMac','DstAddr','Sport','Dport','sMeanPktSz','dMeanPktSz','Dur'],axis=1)\n",
        "y=all_data['class']\n",
        "\n",
        "\n",
        "LE=LabelEncoder()\n",
        "protos=LE.fit_transform(x['Proto'])\n",
        "x['Proto']=protos"
      ],
      "execution_count": null,
      "outputs": []
    },
    {
      "cell_type": "code",
      "metadata": {
        "id": "RwcjUSLZ3_YK"
      },
      "source": [
        "# this block is just for binary classification\n",
        "\n",
        "anomalies=all_data[all_data['class']!=0]\n",
        "normal=all_data[all_data['class']==0]\n",
        "\n",
        "anomalies['class']=1\n",
        "\n",
        "all_data_binary=normal.append(anomalies)\n",
        "all_data_binary=shuffle(all_data_binary)\n",
        "\n",
        "x=all_data_binary.drop(['class','SrcAddr','SrcMac', 'DstMac','DstAddr','Sport','Dport','sMeanPktSz','dMeanPktSz','Dur'],axis=1)\n",
        "\n",
        "LE=LabelEncoder()\n",
        "protos=LE.fit_transform(x['Proto'])\n",
        "x['Proto']=protos\n",
        "y=all_data_binary['class']\n",
        "\n"
      ],
      "execution_count": null,
      "outputs": []
    },
    {
      "cell_type": "code",
      "metadata": {
        "id": "7eecszx2kRNr"
      },
      "source": [
        "# x['SrcRate/DstRate']=(x['SrcRate']+1)/(x['DstRate']+1)\n",
        "\n",
        "# x=x.drop(['SrcRate','DstRate'],axis=1)"
      ],
      "execution_count": null,
      "outputs": []
    },
    {
      "cell_type": "code",
      "metadata": {
        "colab": {
          "base_uri": "https://localhost:8080/",
          "height": 444
        },
        "id": "QgBTh1E0csUd",
        "outputId": "d1dc1d9e-82f4-4362-861f-f50e4d6e3ad9"
      },
      "source": [
        "x"
      ],
      "execution_count": null,
      "outputs": [
        {
          "output_type": "execute_result",
          "data": {
            "text/html": [
              "<div>\n",
              "<style scoped>\n",
              "    .dataframe tbody tr th:only-of-type {\n",
              "        vertical-align: middle;\n",
              "    }\n",
              "\n",
              "    .dataframe tbody tr th {\n",
              "        vertical-align: top;\n",
              "    }\n",
              "\n",
              "    .dataframe thead th {\n",
              "        text-align: right;\n",
              "    }\n",
              "</style>\n",
              "<table border=\"1\" class=\"dataframe\">\n",
              "  <thead>\n",
              "    <tr style=\"text-align: right;\">\n",
              "      <th></th>\n",
              "      <th>Proto</th>\n",
              "      <th>SrcRate</th>\n",
              "      <th>DstRate</th>\n",
              "      <th>State_I</th>\n",
              "      <th>State_P</th>\n",
              "      <th>State_R</th>\n",
              "      <th>State_E</th>\n",
              "      <th>State_F</th>\n",
              "      <th>State_D</th>\n",
              "      <th>State_f</th>\n",
              "      <th>State_O</th>\n",
              "      <th>State_T</th>\n",
              "      <th>State_N</th>\n",
              "      <th>State_C</th>\n",
              "      <th>State_X</th>\n",
              "      <th>State_S</th>\n",
              "      <th>State_Q</th>\n",
              "      <th>State_s</th>\n",
              "    </tr>\n",
              "  </thead>\n",
              "  <tbody>\n",
              "    <tr>\n",
              "      <th>0</th>\n",
              "      <td>3</td>\n",
              "      <td>198.798035</td>\n",
              "      <td>168.213715</td>\n",
              "      <td>0</td>\n",
              "      <td>0</td>\n",
              "      <td>1</td>\n",
              "      <td>1</td>\n",
              "      <td>0</td>\n",
              "      <td>0</td>\n",
              "      <td>1</td>\n",
              "      <td>0</td>\n",
              "      <td>0</td>\n",
              "      <td>0</td>\n",
              "      <td>0</td>\n",
              "      <td>0</td>\n",
              "      <td>1</td>\n",
              "      <td>0</td>\n",
              "      <td>1</td>\n",
              "    </tr>\n",
              "    <tr>\n",
              "      <th>1</th>\n",
              "      <td>3</td>\n",
              "      <td>0.000000</td>\n",
              "      <td>0.000000</td>\n",
              "      <td>0</td>\n",
              "      <td>0</td>\n",
              "      <td>0</td>\n",
              "      <td>0</td>\n",
              "      <td>0</td>\n",
              "      <td>0</td>\n",
              "      <td>0</td>\n",
              "      <td>0</td>\n",
              "      <td>0</td>\n",
              "      <td>0</td>\n",
              "      <td>0</td>\n",
              "      <td>0</td>\n",
              "      <td>0</td>\n",
              "      <td>0</td>\n",
              "      <td>1</td>\n",
              "    </tr>\n",
              "    <tr>\n",
              "      <th>2</th>\n",
              "      <td>3</td>\n",
              "      <td>0.000000</td>\n",
              "      <td>0.000000</td>\n",
              "      <td>0</td>\n",
              "      <td>0</td>\n",
              "      <td>0</td>\n",
              "      <td>0</td>\n",
              "      <td>0</td>\n",
              "      <td>0</td>\n",
              "      <td>0</td>\n",
              "      <td>0</td>\n",
              "      <td>0</td>\n",
              "      <td>0</td>\n",
              "      <td>0</td>\n",
              "      <td>0</td>\n",
              "      <td>0</td>\n",
              "      <td>0</td>\n",
              "      <td>1</td>\n",
              "    </tr>\n",
              "    <tr>\n",
              "      <th>3</th>\n",
              "      <td>3</td>\n",
              "      <td>0.000000</td>\n",
              "      <td>0.000000</td>\n",
              "      <td>0</td>\n",
              "      <td>0</td>\n",
              "      <td>0</td>\n",
              "      <td>0</td>\n",
              "      <td>0</td>\n",
              "      <td>0</td>\n",
              "      <td>0</td>\n",
              "      <td>0</td>\n",
              "      <td>0</td>\n",
              "      <td>0</td>\n",
              "      <td>0</td>\n",
              "      <td>0</td>\n",
              "      <td>0</td>\n",
              "      <td>0</td>\n",
              "      <td>1</td>\n",
              "    </tr>\n",
              "    <tr>\n",
              "      <th>4</th>\n",
              "      <td>4</td>\n",
              "      <td>172.410049</td>\n",
              "      <td>0.000000</td>\n",
              "      <td>0</td>\n",
              "      <td>0</td>\n",
              "      <td>1</td>\n",
              "      <td>1</td>\n",
              "      <td>0</td>\n",
              "      <td>0</td>\n",
              "      <td>0</td>\n",
              "      <td>0</td>\n",
              "      <td>0</td>\n",
              "      <td>0</td>\n",
              "      <td>0</td>\n",
              "      <td>0</td>\n",
              "      <td>0</td>\n",
              "      <td>1</td>\n",
              "      <td>0</td>\n",
              "    </tr>\n",
              "    <tr>\n",
              "      <th>...</th>\n",
              "      <td>...</td>\n",
              "      <td>...</td>\n",
              "      <td>...</td>\n",
              "      <td>...</td>\n",
              "      <td>...</td>\n",
              "      <td>...</td>\n",
              "      <td>...</td>\n",
              "      <td>...</td>\n",
              "      <td>...</td>\n",
              "      <td>...</td>\n",
              "      <td>...</td>\n",
              "      <td>...</td>\n",
              "      <td>...</td>\n",
              "      <td>...</td>\n",
              "      <td>...</td>\n",
              "      <td>...</td>\n",
              "      <td>...</td>\n",
              "      <td>...</td>\n",
              "    </tr>\n",
              "    <tr>\n",
              "      <th>12396</th>\n",
              "      <td>3</td>\n",
              "      <td>0.000000</td>\n",
              "      <td>0.000000</td>\n",
              "      <td>0</td>\n",
              "      <td>0</td>\n",
              "      <td>0</td>\n",
              "      <td>0</td>\n",
              "      <td>0</td>\n",
              "      <td>0</td>\n",
              "      <td>0</td>\n",
              "      <td>0</td>\n",
              "      <td>0</td>\n",
              "      <td>0</td>\n",
              "      <td>0</td>\n",
              "      <td>0</td>\n",
              "      <td>0</td>\n",
              "      <td>0</td>\n",
              "      <td>1</td>\n",
              "    </tr>\n",
              "    <tr>\n",
              "      <th>12397</th>\n",
              "      <td>3</td>\n",
              "      <td>0.000000</td>\n",
              "      <td>0.000000</td>\n",
              "      <td>0</td>\n",
              "      <td>0</td>\n",
              "      <td>0</td>\n",
              "      <td>0</td>\n",
              "      <td>0</td>\n",
              "      <td>0</td>\n",
              "      <td>0</td>\n",
              "      <td>0</td>\n",
              "      <td>0</td>\n",
              "      <td>0</td>\n",
              "      <td>0</td>\n",
              "      <td>0</td>\n",
              "      <td>0</td>\n",
              "      <td>0</td>\n",
              "      <td>1</td>\n",
              "    </tr>\n",
              "    <tr>\n",
              "      <th>12398</th>\n",
              "      <td>3</td>\n",
              "      <td>0.974896</td>\n",
              "      <td>0.000000</td>\n",
              "      <td>0</td>\n",
              "      <td>0</td>\n",
              "      <td>1</td>\n",
              "      <td>1</td>\n",
              "      <td>0</td>\n",
              "      <td>0</td>\n",
              "      <td>0</td>\n",
              "      <td>0</td>\n",
              "      <td>0</td>\n",
              "      <td>0</td>\n",
              "      <td>0</td>\n",
              "      <td>0</td>\n",
              "      <td>0</td>\n",
              "      <td>0</td>\n",
              "      <td>1</td>\n",
              "    </tr>\n",
              "    <tr>\n",
              "      <th>12399</th>\n",
              "      <td>3</td>\n",
              "      <td>0.467255</td>\n",
              "      <td>0.000000</td>\n",
              "      <td>0</td>\n",
              "      <td>0</td>\n",
              "      <td>1</td>\n",
              "      <td>0</td>\n",
              "      <td>0</td>\n",
              "      <td>0</td>\n",
              "      <td>0</td>\n",
              "      <td>0</td>\n",
              "      <td>0</td>\n",
              "      <td>0</td>\n",
              "      <td>0</td>\n",
              "      <td>0</td>\n",
              "      <td>0</td>\n",
              "      <td>0</td>\n",
              "      <td>1</td>\n",
              "    </tr>\n",
              "    <tr>\n",
              "      <th>12400</th>\n",
              "      <td>0</td>\n",
              "      <td>0.000000</td>\n",
              "      <td>0.000000</td>\n",
              "      <td>1</td>\n",
              "      <td>0</td>\n",
              "      <td>0</td>\n",
              "      <td>0</td>\n",
              "      <td>0</td>\n",
              "      <td>0</td>\n",
              "      <td>0</td>\n",
              "      <td>0</td>\n",
              "      <td>1</td>\n",
              "      <td>1</td>\n",
              "      <td>0</td>\n",
              "      <td>0</td>\n",
              "      <td>0</td>\n",
              "      <td>0</td>\n",
              "      <td>0</td>\n",
              "    </tr>\n",
              "  </tbody>\n",
              "</table>\n",
              "<p>12401 rows × 18 columns</p>\n",
              "</div>"
            ],
            "text/plain": [
              "       Proto     SrcRate     DstRate State_I  ... State_X State_S State_Q State_s\n",
              "0          3  198.798035  168.213715       0  ...       0       1       0       1\n",
              "1          3    0.000000    0.000000       0  ...       0       0       0       1\n",
              "2          3    0.000000    0.000000       0  ...       0       0       0       1\n",
              "3          3    0.000000    0.000000       0  ...       0       0       0       1\n",
              "4          4  172.410049    0.000000       0  ...       0       0       1       0\n",
              "...      ...         ...         ...     ...  ...     ...     ...     ...     ...\n",
              "12396      3    0.000000    0.000000       0  ...       0       0       0       1\n",
              "12397      3    0.000000    0.000000       0  ...       0       0       0       1\n",
              "12398      3    0.974896    0.000000       0  ...       0       0       0       1\n",
              "12399      3    0.467255    0.000000       0  ...       0       0       0       1\n",
              "12400      0    0.000000    0.000000       1  ...       0       0       0       0\n",
              "\n",
              "[12401 rows x 18 columns]"
            ]
          },
          "metadata": {},
          "execution_count": 26
        }
      ]
    },
    {
      "cell_type": "code",
      "metadata": {
        "id": "ONt85pZnY4DW"
      },
      "source": [
        "# x.to_csv(\"dataset_binary.csv\",index=False)"
      ],
      "execution_count": null,
      "outputs": []
    },
    {
      "cell_type": "markdown",
      "metadata": {
        "id": "PMh1Jpsu9TMK"
      },
      "source": [
        "## Comparing Models"
      ]
    },
    {
      "cell_type": "markdown",
      "metadata": {
        "id": "dSGVF4g-9Zw1"
      },
      "source": [
        "### Hyperparameters and piplines"
      ]
    },
    {
      "cell_type": "code",
      "metadata": {
        "id": "OYaa7RBGH3li"
      },
      "source": [
        "cat_cols=['Proto']\n",
        "num_cols=(x.drop(cat_cols,axis=1)).columns \n",
        "\n",
        "num_cols=x.columns\n",
        "\n",
        "#if classification is just for two classes(normal/anomalies),\n",
        "#this property should be \"2\" ,otherwise it should be 10\n",
        "# -> just for MLPC last layer nodes\n",
        "num_class=10\n",
        "\n",
        "\n",
        "seed = 42\n",
        "\n",
        "lr_hyperparameters = {\n",
        "    'lr__C': [0.01, 0.1, 1.0, 10,20,50, 100]\n",
        "}\n",
        "\n",
        "rf_hyperparameters = {\n",
        "    'rf__n_estimators': np.arange(20,100,10),\n",
        "    'rf__max_depth': [2,4,6,8,10,12,14,16],\n",
        "    'rf__criterion':['gini', 'entropy'],\n",
        "\n",
        "}\n",
        "\n",
        "xgb_hyperparameters = {\n",
        "    'xgb__max_depth': np.arange(2,12,2),  # the maximum depth of each tree\n",
        "    'xgb__learning_rate': [0.1,0.3],  # the training step for each iteration\n",
        "    'xgb__n_estimators': np.arange(1,80,10),\n",
        "}\n",
        "\n",
        "lgbm_hyperparameters = {\n",
        "    'lgbm__n_estimators': np.arange(10,140,20),\n",
        "    'lgbm__min_data_in_leaf': np.arange(100,1000,100),\n",
        "    'lgbm__max_depth': np.arange(2,10,2),\n",
        "\n",
        "}\n",
        "\n",
        "hgb_hyperparameters= {\n",
        "    'hgb__learning_rate' : [0.01, 0.1, 1, 10],\n",
        "    'hgb__max_leaf_nodes' : [3, 10, 30]\n",
        "}\n",
        "\n",
        "ridge_hyperparameters={\n",
        "    'ridge__alpha':[0.001, 0.1, 1,10,1000]\n",
        "}\n",
        "\n",
        "svm_hyperparameters = {'C': [0.1,1, 10, 100],\n",
        "                       'gamma': [1,0.1,0.01,0.001],\n",
        "                       'kernel': ['rbf', 'poly', 'sigmoid']\n",
        "                       }\n",
        "\n",
        "\n",
        "DT_hyperparameters = {\n",
        "    'DT__criterion':['gini', 'entropy'],\n",
        "    'DT__max_depth':[2,4,6,8,10,12,14,16]\n",
        "                      }\n",
        "\n",
        "hyperparameters = {\n",
        "    'lr': lr_hyperparameters,\n",
        "    'rf': rf_hyperparameters,\n",
        "    'lgbm': lgbm_hyperparameters,\n",
        "    'xgb': xgb_hyperparameters,\n",
        "    'hgb': hgb_hyperparameters,\n",
        "    'ridge':ridge_hyperparameters,\n",
        "    'svm': svm_hyperparameters,\n",
        "    'DT': DT_hyperparameters\n",
        "}\n",
        "\n",
        "#different preprocessors for different types of models\n",
        "#one_hot_encoding makes tree_based models worse!(except xgboost)\n",
        "#and also tree-based models doesn't have to get standard inputs:\n",
        "\n",
        "\n",
        "non_tree_numeric_transformer = Pipeline(steps=[\n",
        "    ('imputer', SimpleImputer(strategy='constant',fill_value=0)),\n",
        "    ('scaler', StandardScaler())])\n",
        "    \n",
        "categorical_transformer = Pipeline(steps=[\n",
        "    ('imputer', SimpleImputer(strategy='constant',fill_value=0)),\n",
        "    # ('encoder', OneHotEncoder(handle_unknown='ignore'))\n",
        "    ])\n",
        "    \n",
        "    \n",
        "#tree_categorical_transformer = SimpleImputer(strategy='most_frequent')\n",
        "\n",
        "tree_numeric_transformer = SimpleImputer(strategy='constant',fill_value=0)\n",
        "\n",
        "    \n",
        "\n",
        "non_tree_preprocessor = ColumnTransformer(transformers=[\n",
        "    ('cat', categorical_transformer, cat_cols),\n",
        "    ('num', non_tree_numeric_transformer, num_cols)\n",
        "    ],remainder='passthrough', sparse_threshold=0)\n",
        "    \n",
        "\n",
        "tree_preprocessor = ColumnTransformer(transformers=[\n",
        "    ('cat', categorical_transformer, cat_cols),\n",
        "    ('num', tree_numeric_transformer, num_cols)\n",
        "    ],remainder='passthrough', sparse_threshold=0)\n",
        "\n",
        "\n",
        "\n",
        "# Pipeline of ML classifier's pipielines\n",
        "pipelines = {\n",
        "    # 'bl': Pipeline(steps=[('bl', DummyClassifier(strategy='most_frequent'))]), # base line\n",
        "    'lr': Pipeline(steps=[('preprocessor_lr', non_tree_preprocessor),('lr',LogisticRegression(random_state=seed,penalty='l2'))]),\n",
        "    'rf': Pipeline(steps=[('preprocessor_rf',tree_preprocessor),('rf', RandomForestClassifier(random_state=seed))]),\n",
        "    # 'xgb': Pipeline(steps=[('preprocessor_xgb',tree_preprocessor),('xgb', XGBClassifier(random_state=seed))]),\n",
        "    # 'svm': Pipeline(steps=[('preprocessor_svm',none_tree_preprocessor),('svm', SVC(random_state=seed))]),\n",
        "    'DT': Pipeline(steps=[('preprocessor_DT',tree_preprocessor),('DT', DecisionTreeClassifier(random_state=seed))]),\n",
        "    'MLPC': Pipeline(steps=[('preprocessor_MLPC', non_tree_preprocessor),('MLPC',MLPClassifier(random_state=seed,\n",
        "                                                                                               max_iter=100,solver='lbfgs',activation='logistic',hidden_layer_sizes=(30,10,num_class) ))]),\n",
        "    # 'knn': Pipeline(steps=[('preprocessor_knn',none_tree_preprocessor),('knn', KNeighborsClassifier(random_state=seed))]),\n",
        "\n",
        "\n",
        "    # 'lgbm': Pipeline(steps=[('preprocessor_lgbm', non_tree_preprocessor),('lgbm', LGBMClassifier(random_state=seed, n_jobs=-1))]),\n",
        "    # 'hgb': Pipeline(steps=[('preprocessor_xgb',tree_preprocessor),('hgb', HistGradientBoostingClassifier(random_state=seed))]),##is tree based??\n",
        "#has no proba ==> 'ridge': Pipeline(steps=[('preprocessor_ridge',non_tree_preprocessor),('ridge', Ridge(random_state=seed))]), \n",
        "\n",
        "}"
      ],
      "execution_count": null,
      "outputs": []
    },
    {
      "cell_type": "code",
      "metadata": {
        "id": "EdfDtYiFjpVB"
      },
      "source": [
        "x.head()"
      ],
      "execution_count": null,
      "outputs": []
    },
    {
      "cell_type": "markdown",
      "metadata": {
        "id": "MuECHVbi966g"
      },
      "source": [
        "### Cross-Validating models and save best estimators on Gdrive. (skip this part if you have models on Ur GDrive)"
      ]
    },
    {
      "cell_type": "code",
      "metadata": {
        "colab": {
          "base_uri": "https://localhost:8080/"
        },
        "id": "9jZQ6LX3-Zum",
        "outputId": "18b67452-4880-4fd9-e541-43c7c4a2cfea"
      },
      "source": [
        "drive.mount('/gdrive')"
      ],
      "execution_count": null,
      "outputs": [
        {
          "output_type": "stream",
          "name": "stdout",
          "text": [
            "Drive already mounted at /gdrive; to attempt to forcibly remount, call drive.mount(\"/gdrive\", force_remount=True).\n"
          ]
        }
      ]
    },
    {
      "cell_type": "code",
      "metadata": {
        "colab": {
          "base_uri": "https://localhost:8080/"
        },
        "id": "xXbhZsGBroWm",
        "outputId": "98eda2cc-b672-475f-c0ed-5c4543df71ef"
      },
      "source": [
        "cd  ../../gdrive/MyDrive/"
      ],
      "execution_count": null,
      "outputs": [
        {
          "output_type": "stream",
          "name": "stdout",
          "text": [
            "/gdrive/MyDrive\n"
          ]
        }
      ]
    },
    {
      "cell_type": "code",
      "metadata": {
        "colab": {
          "base_uri": "https://localhost:8080/",
          "height": 123,
          "referenced_widgets": [
            "ba9fb97ad1ee4d59815bddc60a40e7a1",
            "d345ed466157453892fd287b1a0e54fe",
            "d35ba57f12114289b7b2a560eda91069",
            "5cbf1420864d49a39176015257dd369b",
            "bb7c212f016947638251bfc12cc9d702",
            "2035d79bf0ca4420a7701daa22683ff6",
            "fff75c0d7fbc450eac263011057ad4f2",
            "cd5cfcd02c7d4d588a9197797ddfa9d3",
            "35153daa4efd4661ba3049297418c234",
            "8b214fe447944b1f85854b785c217f7d",
            "337bb536f3b74d1a963f98b6f8b23524"
          ]
        },
        "id": "ZMiYOGrXH3iF",
        "outputId": "e528506f-b184-48ad-fbaf-4de86f05d241"
      },
      "source": [
        "# Start the GridSearch process\n",
        "\n",
        "model_names = {\"bl\":\"Baseline\", \"lr\": \"Logistic Regression\" ,\n",
        "               \"rf\":\"Random Forest\", \"ridge\":\"Ridge Regression\",\n",
        "               \"xgb\": \"XGBoost\", \"lgbm\": \"Light Gradient Boosting\",\n",
        "               \"hgb\":\"Hist Gradient Boosting\",\"svm\":\"SVM\",\n",
        "               \"DT\":\"Decision Tree\",\"knn\":\"KNN\",\"MLPC\":\"MLPC\"}\n",
        "\n",
        "\n",
        "results_row=0\n",
        "\n",
        "scoring_binary = 'roc_auc'\n",
        "scoring_multi= 'accuracy'\n",
        "\n",
        "\n",
        "for key, pipeline in tqdm(pipelines.items()):\n",
        "\n",
        "    cv=KFold(n_splits=5,shuffle=True)\n",
        "    \n",
        "    print(f\"key :   {key}\")\n",
        "    if key == 'bl' or key =='MLPC':\n",
        "        model = pipeline\n",
        "    else:\n",
        "        model = GridSearchCV(pipeline, param_grid=hyperparameters[key], cv=cv,n_jobs=-1,scoring =scoring_multi)\n",
        "    \n",
        "    model.fit(x,y)\n",
        "    if hasattr(model,'best_estimator_'):\n",
        "        best = model.best_estimator_\n",
        "    else:\n",
        "        best = model\n",
        "    \n",
        "          # Save the model\n",
        "    model_name=f'{model_names[key]}.joblib'\n",
        "    joblib.dump(best, model_name)\n",
        "    "
      ],
      "execution_count": null,
      "outputs": [
        {
          "output_type": "display_data",
          "data": {
            "application/vnd.jupyter.widget-view+json": {
              "model_id": "ba9fb97ad1ee4d59815bddc60a40e7a1",
              "version_minor": 0,
              "version_major": 2
            },
            "text/plain": [
              "  0%|          | 0/4 [00:00<?, ?it/s]"
            ]
          },
          "metadata": {}
        },
        {
          "output_type": "stream",
          "name": "stdout",
          "text": [
            "key :   lr\n",
            "key :   rf\n",
            "key :   DT\n",
            "key :   MLPC\n"
          ]
        }
      ]
    },
    {
      "cell_type": "markdown",
      "metadata": {
        "id": "uEMLRf_vNIgf"
      },
      "source": [
        "### Load models frome GDrive and print their parameters"
      ]
    },
    {
      "cell_type": "code",
      "metadata": {
        "colab": {
          "base_uri": "https://localhost:8080/"
        },
        "id": "4oV_DFXQ80fn",
        "outputId": "c5630da6-c81b-458b-8a3a-ff624de9c4d7"
      },
      "source": [
        "models=['Logistic Regression','Random Forest','Decision Tree','MLPC']\n",
        "\n",
        "for model_name in models:\n",
        "\n",
        "  model = joblib.load(f\"{model_name}.joblib\")\n",
        "  print(f\"selected model is {model_name}.\\n\")\n",
        "  print(\"Its parameters are:\")\n",
        "  print(model.get_params())"
      ],
      "execution_count": null,
      "outputs": [
        {
          "output_type": "stream",
          "name": "stdout",
          "text": [
            "selected model is Logistic Regression.\n",
            "\n",
            "Its parameters are:\n",
            "{'memory': None, 'steps': [('preprocessor_lr', ColumnTransformer(n_jobs=None, remainder='passthrough', sparse_threshold=0,\n",
            "                  transformer_weights=None,\n",
            "                  transformers=[('cat',\n",
            "                                 Pipeline(memory=None,\n",
            "                                          steps=[('imputer',\n",
            "                                                  SimpleImputer(add_indicator=False,\n",
            "                                                                copy=True,\n",
            "                                                                fill_value=0,\n",
            "                                                                missing_values=nan,\n",
            "                                                                strategy='constant',\n",
            "                                                                verbose=0))],\n",
            "                                          verbose=False),\n",
            "                                 ['Proto']),\n",
            "                                ('num',\n",
            "                                 Pipeline(memory=None,\n",
            "                                          steps=[('imputer',\n",
            "                                                  SimpleImput...\n",
            "                                                                missing_values=nan,\n",
            "                                                                strategy='constant',\n",
            "                                                                verbose=0)),\n",
            "                                                 ('scaler',\n",
            "                                                  StandardScaler(copy=True,\n",
            "                                                                 with_mean=True,\n",
            "                                                                 with_std=True))],\n",
            "                                          verbose=False),\n",
            "                                 Index(['Proto', 'SrcRate', 'DstRate', 'State_D', 'State_s', 'State_E',\n",
            "       'State_R', 'State_S', 'State_C', 'State_F', 'State_Q', 'State_P',\n",
            "       'State_T', 'State_f', 'State_O', 'State_X', 'State_I', 'State_N'],\n",
            "      dtype='object'))],\n",
            "                  verbose=False)), ('lr', LogisticRegression(C=20, class_weight=None, dual=False, fit_intercept=True,\n",
            "                   intercept_scaling=1, l1_ratio=None, max_iter=100,\n",
            "                   multi_class='auto', n_jobs=None, penalty='l2',\n",
            "                   random_state=42, solver='lbfgs', tol=0.0001, verbose=0,\n",
            "                   warm_start=False))], 'verbose': False, 'preprocessor_lr': ColumnTransformer(n_jobs=None, remainder='passthrough', sparse_threshold=0,\n",
            "                  transformer_weights=None,\n",
            "                  transformers=[('cat',\n",
            "                                 Pipeline(memory=None,\n",
            "                                          steps=[('imputer',\n",
            "                                                  SimpleImputer(add_indicator=False,\n",
            "                                                                copy=True,\n",
            "                                                                fill_value=0,\n",
            "                                                                missing_values=nan,\n",
            "                                                                strategy='constant',\n",
            "                                                                verbose=0))],\n",
            "                                          verbose=False),\n",
            "                                 ['Proto']),\n",
            "                                ('num',\n",
            "                                 Pipeline(memory=None,\n",
            "                                          steps=[('imputer',\n",
            "                                                  SimpleImput...\n",
            "                                                                missing_values=nan,\n",
            "                                                                strategy='constant',\n",
            "                                                                verbose=0)),\n",
            "                                                 ('scaler',\n",
            "                                                  StandardScaler(copy=True,\n",
            "                                                                 with_mean=True,\n",
            "                                                                 with_std=True))],\n",
            "                                          verbose=False),\n",
            "                                 Index(['Proto', 'SrcRate', 'DstRate', 'State_D', 'State_s', 'State_E',\n",
            "       'State_R', 'State_S', 'State_C', 'State_F', 'State_Q', 'State_P',\n",
            "       'State_T', 'State_f', 'State_O', 'State_X', 'State_I', 'State_N'],\n",
            "      dtype='object'))],\n",
            "                  verbose=False), 'lr': LogisticRegression(C=20, class_weight=None, dual=False, fit_intercept=True,\n",
            "                   intercept_scaling=1, l1_ratio=None, max_iter=100,\n",
            "                   multi_class='auto', n_jobs=None, penalty='l2',\n",
            "                   random_state=42, solver='lbfgs', tol=0.0001, verbose=0,\n",
            "                   warm_start=False), 'preprocessor_lr__n_jobs': None, 'preprocessor_lr__remainder': 'passthrough', 'preprocessor_lr__sparse_threshold': 0, 'preprocessor_lr__transformer_weights': None, 'preprocessor_lr__transformers': [('cat', Pipeline(memory=None,\n",
            "         steps=[('imputer',\n",
            "                 SimpleImputer(add_indicator=False, copy=True, fill_value=0,\n",
            "                               missing_values=nan, strategy='constant',\n",
            "                               verbose=0))],\n",
            "         verbose=False), ['Proto']), ('num', Pipeline(memory=None,\n",
            "         steps=[('imputer',\n",
            "                 SimpleImputer(add_indicator=False, copy=True, fill_value=0,\n",
            "                               missing_values=nan, strategy='constant',\n",
            "                               verbose=0)),\n",
            "                ('scaler',\n",
            "                 StandardScaler(copy=True, with_mean=True, with_std=True))],\n",
            "         verbose=False), Index(['Proto', 'SrcRate', 'DstRate', 'State_D', 'State_s', 'State_E',\n",
            "       'State_R', 'State_S', 'State_C', 'State_F', 'State_Q', 'State_P',\n",
            "       'State_T', 'State_f', 'State_O', 'State_X', 'State_I', 'State_N'],\n",
            "      dtype='object'))], 'preprocessor_lr__verbose': False, 'preprocessor_lr__cat': Pipeline(memory=None,\n",
            "         steps=[('imputer',\n",
            "                 SimpleImputer(add_indicator=False, copy=True, fill_value=0,\n",
            "                               missing_values=nan, strategy='constant',\n",
            "                               verbose=0))],\n",
            "         verbose=False), 'preprocessor_lr__num': Pipeline(memory=None,\n",
            "         steps=[('imputer',\n",
            "                 SimpleImputer(add_indicator=False, copy=True, fill_value=0,\n",
            "                               missing_values=nan, strategy='constant',\n",
            "                               verbose=0)),\n",
            "                ('scaler',\n",
            "                 StandardScaler(copy=True, with_mean=True, with_std=True))],\n",
            "         verbose=False), 'preprocessor_lr__cat__memory': None, 'preprocessor_lr__cat__steps': [('imputer', SimpleImputer(add_indicator=False, copy=True, fill_value=0, missing_values=nan,\n",
            "              strategy='constant', verbose=0))], 'preprocessor_lr__cat__verbose': False, 'preprocessor_lr__cat__imputer': SimpleImputer(add_indicator=False, copy=True, fill_value=0, missing_values=nan,\n",
            "              strategy='constant', verbose=0), 'preprocessor_lr__cat__imputer__add_indicator': False, 'preprocessor_lr__cat__imputer__copy': True, 'preprocessor_lr__cat__imputer__fill_value': 0, 'preprocessor_lr__cat__imputer__missing_values': nan, 'preprocessor_lr__cat__imputer__strategy': 'constant', 'preprocessor_lr__cat__imputer__verbose': 0, 'preprocessor_lr__num__memory': None, 'preprocessor_lr__num__steps': [('imputer', SimpleImputer(add_indicator=False, copy=True, fill_value=0, missing_values=nan,\n",
            "              strategy='constant', verbose=0)), ('scaler', StandardScaler(copy=True, with_mean=True, with_std=True))], 'preprocessor_lr__num__verbose': False, 'preprocessor_lr__num__imputer': SimpleImputer(add_indicator=False, copy=True, fill_value=0, missing_values=nan,\n",
            "              strategy='constant', verbose=0), 'preprocessor_lr__num__scaler': StandardScaler(copy=True, with_mean=True, with_std=True), 'preprocessor_lr__num__imputer__add_indicator': False, 'preprocessor_lr__num__imputer__copy': True, 'preprocessor_lr__num__imputer__fill_value': 0, 'preprocessor_lr__num__imputer__missing_values': nan, 'preprocessor_lr__num__imputer__strategy': 'constant', 'preprocessor_lr__num__imputer__verbose': 0, 'preprocessor_lr__num__scaler__copy': True, 'preprocessor_lr__num__scaler__with_mean': True, 'preprocessor_lr__num__scaler__with_std': True, 'lr__C': 20, 'lr__class_weight': None, 'lr__dual': False, 'lr__fit_intercept': True, 'lr__intercept_scaling': 1, 'lr__l1_ratio': None, 'lr__max_iter': 100, 'lr__multi_class': 'auto', 'lr__n_jobs': None, 'lr__penalty': 'l2', 'lr__random_state': 42, 'lr__solver': 'lbfgs', 'lr__tol': 0.0001, 'lr__verbose': 0, 'lr__warm_start': False}\n",
            "selected model is Random Forest.\n",
            "\n",
            "Its parameters are:\n",
            "{'memory': None, 'steps': [('preprocessor_rf', ColumnTransformer(n_jobs=None, remainder='passthrough', sparse_threshold=0,\n",
            "                  transformer_weights=None,\n",
            "                  transformers=[('cat',\n",
            "                                 Pipeline(memory=None,\n",
            "                                          steps=[('imputer',\n",
            "                                                  SimpleImputer(add_indicator=False,\n",
            "                                                                copy=True,\n",
            "                                                                fill_value=0,\n",
            "                                                                missing_values=nan,\n",
            "                                                                strategy='constant',\n",
            "                                                                verbose=0))],\n",
            "                                          verbose=False),\n",
            "                                 ['Proto']),\n",
            "                                ('num',\n",
            "                                 SimpleImputer(add_indicator=False, copy=True,\n",
            "                                               fill_value=0, missing_values=nan,\n",
            "                                               strategy='constant', verbose=0),\n",
            "                                 Index(['Proto', 'SrcRate', 'DstRate', 'State_D', 'State_s', 'State_E',\n",
            "       'State_R', 'State_S', 'State_C', 'State_F', 'State_Q', 'State_P',\n",
            "       'State_T', 'State_f', 'State_O', 'State_X', 'State_I', 'State_N'],\n",
            "      dtype='object'))],\n",
            "                  verbose=False)), ('rf', RandomForestClassifier(bootstrap=True, ccp_alpha=0.0, class_weight=None,\n",
            "                       criterion='entropy', max_depth=14, max_features='auto',\n",
            "                       max_leaf_nodes=None, max_samples=None,\n",
            "                       min_impurity_decrease=0.0, min_impurity_split=None,\n",
            "                       min_samples_leaf=1, min_samples_split=2,\n",
            "                       min_weight_fraction_leaf=0.0, n_estimators=30,\n",
            "                       n_jobs=None, oob_score=False, random_state=42, verbose=0,\n",
            "                       warm_start=False))], 'verbose': False, 'preprocessor_rf': ColumnTransformer(n_jobs=None, remainder='passthrough', sparse_threshold=0,\n",
            "                  transformer_weights=None,\n",
            "                  transformers=[('cat',\n",
            "                                 Pipeline(memory=None,\n",
            "                                          steps=[('imputer',\n",
            "                                                  SimpleImputer(add_indicator=False,\n",
            "                                                                copy=True,\n",
            "                                                                fill_value=0,\n",
            "                                                                missing_values=nan,\n",
            "                                                                strategy='constant',\n",
            "                                                                verbose=0))],\n",
            "                                          verbose=False),\n",
            "                                 ['Proto']),\n",
            "                                ('num',\n",
            "                                 SimpleImputer(add_indicator=False, copy=True,\n",
            "                                               fill_value=0, missing_values=nan,\n",
            "                                               strategy='constant', verbose=0),\n",
            "                                 Index(['Proto', 'SrcRate', 'DstRate', 'State_D', 'State_s', 'State_E',\n",
            "       'State_R', 'State_S', 'State_C', 'State_F', 'State_Q', 'State_P',\n",
            "       'State_T', 'State_f', 'State_O', 'State_X', 'State_I', 'State_N'],\n",
            "      dtype='object'))],\n",
            "                  verbose=False), 'rf': RandomForestClassifier(bootstrap=True, ccp_alpha=0.0, class_weight=None,\n",
            "                       criterion='entropy', max_depth=14, max_features='auto',\n",
            "                       max_leaf_nodes=None, max_samples=None,\n",
            "                       min_impurity_decrease=0.0, min_impurity_split=None,\n",
            "                       min_samples_leaf=1, min_samples_split=2,\n",
            "                       min_weight_fraction_leaf=0.0, n_estimators=30,\n",
            "                       n_jobs=None, oob_score=False, random_state=42, verbose=0,\n",
            "                       warm_start=False), 'preprocessor_rf__n_jobs': None, 'preprocessor_rf__remainder': 'passthrough', 'preprocessor_rf__sparse_threshold': 0, 'preprocessor_rf__transformer_weights': None, 'preprocessor_rf__transformers': [('cat', Pipeline(memory=None,\n",
            "         steps=[('imputer',\n",
            "                 SimpleImputer(add_indicator=False, copy=True, fill_value=0,\n",
            "                               missing_values=nan, strategy='constant',\n",
            "                               verbose=0))],\n",
            "         verbose=False), ['Proto']), ('num', SimpleImputer(add_indicator=False, copy=True, fill_value=0, missing_values=nan,\n",
            "              strategy='constant', verbose=0), Index(['Proto', 'SrcRate', 'DstRate', 'State_D', 'State_s', 'State_E',\n",
            "       'State_R', 'State_S', 'State_C', 'State_F', 'State_Q', 'State_P',\n",
            "       'State_T', 'State_f', 'State_O', 'State_X', 'State_I', 'State_N'],\n",
            "      dtype='object'))], 'preprocessor_rf__verbose': False, 'preprocessor_rf__cat': Pipeline(memory=None,\n",
            "         steps=[('imputer',\n",
            "                 SimpleImputer(add_indicator=False, copy=True, fill_value=0,\n",
            "                               missing_values=nan, strategy='constant',\n",
            "                               verbose=0))],\n",
            "         verbose=False), 'preprocessor_rf__num': SimpleImputer(add_indicator=False, copy=True, fill_value=0, missing_values=nan,\n",
            "              strategy='constant', verbose=0), 'preprocessor_rf__cat__memory': None, 'preprocessor_rf__cat__steps': [('imputer', SimpleImputer(add_indicator=False, copy=True, fill_value=0, missing_values=nan,\n",
            "              strategy='constant', verbose=0))], 'preprocessor_rf__cat__verbose': False, 'preprocessor_rf__cat__imputer': SimpleImputer(add_indicator=False, copy=True, fill_value=0, missing_values=nan,\n",
            "              strategy='constant', verbose=0), 'preprocessor_rf__cat__imputer__add_indicator': False, 'preprocessor_rf__cat__imputer__copy': True, 'preprocessor_rf__cat__imputer__fill_value': 0, 'preprocessor_rf__cat__imputer__missing_values': nan, 'preprocessor_rf__cat__imputer__strategy': 'constant', 'preprocessor_rf__cat__imputer__verbose': 0, 'preprocessor_rf__num__add_indicator': False, 'preprocessor_rf__num__copy': True, 'preprocessor_rf__num__fill_value': 0, 'preprocessor_rf__num__missing_values': nan, 'preprocessor_rf__num__strategy': 'constant', 'preprocessor_rf__num__verbose': 0, 'rf__bootstrap': True, 'rf__ccp_alpha': 0.0, 'rf__class_weight': None, 'rf__criterion': 'entropy', 'rf__max_depth': 14, 'rf__max_features': 'auto', 'rf__max_leaf_nodes': None, 'rf__max_samples': None, 'rf__min_impurity_decrease': 0.0, 'rf__min_impurity_split': None, 'rf__min_samples_leaf': 1, 'rf__min_samples_split': 2, 'rf__min_weight_fraction_leaf': 0.0, 'rf__n_estimators': 30, 'rf__n_jobs': None, 'rf__oob_score': False, 'rf__random_state': 42, 'rf__verbose': 0, 'rf__warm_start': False}\n",
            "selected model is Decision Tree.\n",
            "\n",
            "Its parameters are:\n",
            "{'memory': None, 'steps': [('preprocessor_DT', ColumnTransformer(n_jobs=None, remainder='passthrough', sparse_threshold=0,\n",
            "                  transformer_weights=None,\n",
            "                  transformers=[('cat',\n",
            "                                 Pipeline(memory=None,\n",
            "                                          steps=[('imputer',\n",
            "                                                  SimpleImputer(add_indicator=False,\n",
            "                                                                copy=True,\n",
            "                                                                fill_value=0,\n",
            "                                                                missing_values=nan,\n",
            "                                                                strategy='constant',\n",
            "                                                                verbose=0))],\n",
            "                                          verbose=False),\n",
            "                                 ['Proto']),\n",
            "                                ('num',\n",
            "                                 SimpleImputer(add_indicator=False, copy=True,\n",
            "                                               fill_value=0, missing_values=nan,\n",
            "                                               strategy='constant', verbose=0),\n",
            "                                 Index(['Proto', 'SrcRate', 'DstRate', 'State_D', 'State_s', 'State_E',\n",
            "       'State_R', 'State_S', 'State_C', 'State_F', 'State_Q', 'State_P',\n",
            "       'State_T', 'State_f', 'State_O', 'State_X', 'State_I', 'State_N'],\n",
            "      dtype='object'))],\n",
            "                  verbose=False)), ('DT', DecisionTreeClassifier(ccp_alpha=0.0, class_weight=None, criterion='entropy',\n",
            "                       max_depth=14, max_features=None, max_leaf_nodes=None,\n",
            "                       min_impurity_decrease=0.0, min_impurity_split=None,\n",
            "                       min_samples_leaf=1, min_samples_split=2,\n",
            "                       min_weight_fraction_leaf=0.0, presort='deprecated',\n",
            "                       random_state=42, splitter='best'))], 'verbose': False, 'preprocessor_DT': ColumnTransformer(n_jobs=None, remainder='passthrough', sparse_threshold=0,\n",
            "                  transformer_weights=None,\n",
            "                  transformers=[('cat',\n",
            "                                 Pipeline(memory=None,\n",
            "                                          steps=[('imputer',\n",
            "                                                  SimpleImputer(add_indicator=False,\n",
            "                                                                copy=True,\n",
            "                                                                fill_value=0,\n",
            "                                                                missing_values=nan,\n",
            "                                                                strategy='constant',\n",
            "                                                                verbose=0))],\n",
            "                                          verbose=False),\n",
            "                                 ['Proto']),\n",
            "                                ('num',\n",
            "                                 SimpleImputer(add_indicator=False, copy=True,\n",
            "                                               fill_value=0, missing_values=nan,\n",
            "                                               strategy='constant', verbose=0),\n",
            "                                 Index(['Proto', 'SrcRate', 'DstRate', 'State_D', 'State_s', 'State_E',\n",
            "       'State_R', 'State_S', 'State_C', 'State_F', 'State_Q', 'State_P',\n",
            "       'State_T', 'State_f', 'State_O', 'State_X', 'State_I', 'State_N'],\n",
            "      dtype='object'))],\n",
            "                  verbose=False), 'DT': DecisionTreeClassifier(ccp_alpha=0.0, class_weight=None, criterion='entropy',\n",
            "                       max_depth=14, max_features=None, max_leaf_nodes=None,\n",
            "                       min_impurity_decrease=0.0, min_impurity_split=None,\n",
            "                       min_samples_leaf=1, min_samples_split=2,\n",
            "                       min_weight_fraction_leaf=0.0, presort='deprecated',\n",
            "                       random_state=42, splitter='best'), 'preprocessor_DT__n_jobs': None, 'preprocessor_DT__remainder': 'passthrough', 'preprocessor_DT__sparse_threshold': 0, 'preprocessor_DT__transformer_weights': None, 'preprocessor_DT__transformers': [('cat', Pipeline(memory=None,\n",
            "         steps=[('imputer',\n",
            "                 SimpleImputer(add_indicator=False, copy=True, fill_value=0,\n",
            "                               missing_values=nan, strategy='constant',\n",
            "                               verbose=0))],\n",
            "         verbose=False), ['Proto']), ('num', SimpleImputer(add_indicator=False, copy=True, fill_value=0, missing_values=nan,\n",
            "              strategy='constant', verbose=0), Index(['Proto', 'SrcRate', 'DstRate', 'State_D', 'State_s', 'State_E',\n",
            "       'State_R', 'State_S', 'State_C', 'State_F', 'State_Q', 'State_P',\n",
            "       'State_T', 'State_f', 'State_O', 'State_X', 'State_I', 'State_N'],\n",
            "      dtype='object'))], 'preprocessor_DT__verbose': False, 'preprocessor_DT__cat': Pipeline(memory=None,\n",
            "         steps=[('imputer',\n",
            "                 SimpleImputer(add_indicator=False, copy=True, fill_value=0,\n",
            "                               missing_values=nan, strategy='constant',\n",
            "                               verbose=0))],\n",
            "         verbose=False), 'preprocessor_DT__num': SimpleImputer(add_indicator=False, copy=True, fill_value=0, missing_values=nan,\n",
            "              strategy='constant', verbose=0), 'preprocessor_DT__cat__memory': None, 'preprocessor_DT__cat__steps': [('imputer', SimpleImputer(add_indicator=False, copy=True, fill_value=0, missing_values=nan,\n",
            "              strategy='constant', verbose=0))], 'preprocessor_DT__cat__verbose': False, 'preprocessor_DT__cat__imputer': SimpleImputer(add_indicator=False, copy=True, fill_value=0, missing_values=nan,\n",
            "              strategy='constant', verbose=0), 'preprocessor_DT__cat__imputer__add_indicator': False, 'preprocessor_DT__cat__imputer__copy': True, 'preprocessor_DT__cat__imputer__fill_value': 0, 'preprocessor_DT__cat__imputer__missing_values': nan, 'preprocessor_DT__cat__imputer__strategy': 'constant', 'preprocessor_DT__cat__imputer__verbose': 0, 'preprocessor_DT__num__add_indicator': False, 'preprocessor_DT__num__copy': True, 'preprocessor_DT__num__fill_value': 0, 'preprocessor_DT__num__missing_values': nan, 'preprocessor_DT__num__strategy': 'constant', 'preprocessor_DT__num__verbose': 0, 'DT__ccp_alpha': 0.0, 'DT__class_weight': None, 'DT__criterion': 'entropy', 'DT__max_depth': 14, 'DT__max_features': None, 'DT__max_leaf_nodes': None, 'DT__min_impurity_decrease': 0.0, 'DT__min_impurity_split': None, 'DT__min_samples_leaf': 1, 'DT__min_samples_split': 2, 'DT__min_weight_fraction_leaf': 0.0, 'DT__presort': 'deprecated', 'DT__random_state': 42, 'DT__splitter': 'best'}\n",
            "selected model is MLPC.\n",
            "\n",
            "Its parameters are:\n",
            "{'memory': None, 'steps': [('preprocessor_MLPC', ColumnTransformer(n_jobs=None, remainder='passthrough', sparse_threshold=0,\n",
            "                  transformer_weights=None,\n",
            "                  transformers=[('cat',\n",
            "                                 Pipeline(memory=None,\n",
            "                                          steps=[('imputer',\n",
            "                                                  SimpleImputer(add_indicator=False,\n",
            "                                                                copy=True,\n",
            "                                                                fill_value=0,\n",
            "                                                                missing_values=nan,\n",
            "                                                                strategy='constant',\n",
            "                                                                verbose=0))],\n",
            "                                          verbose=False),\n",
            "                                 ['Proto']),\n",
            "                                ('num',\n",
            "                                 Pipeline(memory=None,\n",
            "                                          steps=[('imputer',\n",
            "                                                  SimpleImput...\n",
            "                                                                missing_values=nan,\n",
            "                                                                strategy='constant',\n",
            "                                                                verbose=0)),\n",
            "                                                 ('scaler',\n",
            "                                                  StandardScaler(copy=True,\n",
            "                                                                 with_mean=True,\n",
            "                                                                 with_std=True))],\n",
            "                                          verbose=False),\n",
            "                                 Index(['Proto', 'SrcRate', 'DstRate', 'State_D', 'State_s', 'State_E',\n",
            "       'State_R', 'State_S', 'State_C', 'State_F', 'State_Q', 'State_P',\n",
            "       'State_T', 'State_f', 'State_O', 'State_X', 'State_I', 'State_N'],\n",
            "      dtype='object'))],\n",
            "                  verbose=False)), ('MLPC', MLPClassifier(activation='logistic', alpha=0.0001, batch_size='auto',\n",
            "              beta_1=0.9, beta_2=0.999, early_stopping=False, epsilon=1e-08,\n",
            "              hidden_layer_sizes=(30, 10, 10), learning_rate='constant',\n",
            "              learning_rate_init=0.001, max_fun=15000, max_iter=100,\n",
            "              momentum=0.9, n_iter_no_change=10, nesterovs_momentum=True,\n",
            "              power_t=0.5, random_state=42, shuffle=True, solver='lbfgs',\n",
            "              tol=0.0001, validation_fraction=0.1, verbose=False,\n",
            "              warm_start=False))], 'verbose': False, 'preprocessor_MLPC': ColumnTransformer(n_jobs=None, remainder='passthrough', sparse_threshold=0,\n",
            "                  transformer_weights=None,\n",
            "                  transformers=[('cat',\n",
            "                                 Pipeline(memory=None,\n",
            "                                          steps=[('imputer',\n",
            "                                                  SimpleImputer(add_indicator=False,\n",
            "                                                                copy=True,\n",
            "                                                                fill_value=0,\n",
            "                                                                missing_values=nan,\n",
            "                                                                strategy='constant',\n",
            "                                                                verbose=0))],\n",
            "                                          verbose=False),\n",
            "                                 ['Proto']),\n",
            "                                ('num',\n",
            "                                 Pipeline(memory=None,\n",
            "                                          steps=[('imputer',\n",
            "                                                  SimpleImput...\n",
            "                                                                missing_values=nan,\n",
            "                                                                strategy='constant',\n",
            "                                                                verbose=0)),\n",
            "                                                 ('scaler',\n",
            "                                                  StandardScaler(copy=True,\n",
            "                                                                 with_mean=True,\n",
            "                                                                 with_std=True))],\n",
            "                                          verbose=False),\n",
            "                                 Index(['Proto', 'SrcRate', 'DstRate', 'State_D', 'State_s', 'State_E',\n",
            "       'State_R', 'State_S', 'State_C', 'State_F', 'State_Q', 'State_P',\n",
            "       'State_T', 'State_f', 'State_O', 'State_X', 'State_I', 'State_N'],\n",
            "      dtype='object'))],\n",
            "                  verbose=False), 'MLPC': MLPClassifier(activation='logistic', alpha=0.0001, batch_size='auto',\n",
            "              beta_1=0.9, beta_2=0.999, early_stopping=False, epsilon=1e-08,\n",
            "              hidden_layer_sizes=(30, 10, 10), learning_rate='constant',\n",
            "              learning_rate_init=0.001, max_fun=15000, max_iter=100,\n",
            "              momentum=0.9, n_iter_no_change=10, nesterovs_momentum=True,\n",
            "              power_t=0.5, random_state=42, shuffle=True, solver='lbfgs',\n",
            "              tol=0.0001, validation_fraction=0.1, verbose=False,\n",
            "              warm_start=False), 'preprocessor_MLPC__n_jobs': None, 'preprocessor_MLPC__remainder': 'passthrough', 'preprocessor_MLPC__sparse_threshold': 0, 'preprocessor_MLPC__transformer_weights': None, 'preprocessor_MLPC__transformers': [('cat', Pipeline(memory=None,\n",
            "         steps=[('imputer',\n",
            "                 SimpleImputer(add_indicator=False, copy=True, fill_value=0,\n",
            "                               missing_values=nan, strategy='constant',\n",
            "                               verbose=0))],\n",
            "         verbose=False), ['Proto']), ('num', Pipeline(memory=None,\n",
            "         steps=[('imputer',\n",
            "                 SimpleImputer(add_indicator=False, copy=True, fill_value=0,\n",
            "                               missing_values=nan, strategy='constant',\n",
            "                               verbose=0)),\n",
            "                ('scaler',\n",
            "                 StandardScaler(copy=True, with_mean=True, with_std=True))],\n",
            "         verbose=False), Index(['Proto', 'SrcRate', 'DstRate', 'State_D', 'State_s', 'State_E',\n",
            "       'State_R', 'State_S', 'State_C', 'State_F', 'State_Q', 'State_P',\n",
            "       'State_T', 'State_f', 'State_O', 'State_X', 'State_I', 'State_N'],\n",
            "      dtype='object'))], 'preprocessor_MLPC__verbose': False, 'preprocessor_MLPC__cat': Pipeline(memory=None,\n",
            "         steps=[('imputer',\n",
            "                 SimpleImputer(add_indicator=False, copy=True, fill_value=0,\n",
            "                               missing_values=nan, strategy='constant',\n",
            "                               verbose=0))],\n",
            "         verbose=False), 'preprocessor_MLPC__num': Pipeline(memory=None,\n",
            "         steps=[('imputer',\n",
            "                 SimpleImputer(add_indicator=False, copy=True, fill_value=0,\n",
            "                               missing_values=nan, strategy='constant',\n",
            "                               verbose=0)),\n",
            "                ('scaler',\n",
            "                 StandardScaler(copy=True, with_mean=True, with_std=True))],\n",
            "         verbose=False), 'preprocessor_MLPC__cat__memory': None, 'preprocessor_MLPC__cat__steps': [('imputer', SimpleImputer(add_indicator=False, copy=True, fill_value=0, missing_values=nan,\n",
            "              strategy='constant', verbose=0))], 'preprocessor_MLPC__cat__verbose': False, 'preprocessor_MLPC__cat__imputer': SimpleImputer(add_indicator=False, copy=True, fill_value=0, missing_values=nan,\n",
            "              strategy='constant', verbose=0), 'preprocessor_MLPC__cat__imputer__add_indicator': False, 'preprocessor_MLPC__cat__imputer__copy': True, 'preprocessor_MLPC__cat__imputer__fill_value': 0, 'preprocessor_MLPC__cat__imputer__missing_values': nan, 'preprocessor_MLPC__cat__imputer__strategy': 'constant', 'preprocessor_MLPC__cat__imputer__verbose': 0, 'preprocessor_MLPC__num__memory': None, 'preprocessor_MLPC__num__steps': [('imputer', SimpleImputer(add_indicator=False, copy=True, fill_value=0, missing_values=nan,\n",
            "              strategy='constant', verbose=0)), ('scaler', StandardScaler(copy=True, with_mean=True, with_std=True))], 'preprocessor_MLPC__num__verbose': False, 'preprocessor_MLPC__num__imputer': SimpleImputer(add_indicator=False, copy=True, fill_value=0, missing_values=nan,\n",
            "              strategy='constant', verbose=0), 'preprocessor_MLPC__num__scaler': StandardScaler(copy=True, with_mean=True, with_std=True), 'preprocessor_MLPC__num__imputer__add_indicator': False, 'preprocessor_MLPC__num__imputer__copy': True, 'preprocessor_MLPC__num__imputer__fill_value': 0, 'preprocessor_MLPC__num__imputer__missing_values': nan, 'preprocessor_MLPC__num__imputer__strategy': 'constant', 'preprocessor_MLPC__num__imputer__verbose': 0, 'preprocessor_MLPC__num__scaler__copy': True, 'preprocessor_MLPC__num__scaler__with_mean': True, 'preprocessor_MLPC__num__scaler__with_std': True, 'MLPC__activation': 'logistic', 'MLPC__alpha': 0.0001, 'MLPC__batch_size': 'auto', 'MLPC__beta_1': 0.9, 'MLPC__beta_2': 0.999, 'MLPC__early_stopping': False, 'MLPC__epsilon': 1e-08, 'MLPC__hidden_layer_sizes': (30, 10, 10), 'MLPC__learning_rate': 'constant', 'MLPC__learning_rate_init': 0.001, 'MLPC__max_fun': 15000, 'MLPC__max_iter': 100, 'MLPC__momentum': 0.9, 'MLPC__n_iter_no_change': 10, 'MLPC__nesterovs_momentum': True, 'MLPC__power_t': 0.5, 'MLPC__random_state': 42, 'MLPC__shuffle': True, 'MLPC__solver': 'lbfgs', 'MLPC__tol': 0.0001, 'MLPC__validation_fraction': 0.1, 'MLPC__verbose': False, 'MLPC__warm_start': False}\n"
          ]
        }
      ]
    },
    {
      "cell_type": "markdown",
      "metadata": {
        "id": "3Cc1kNa7nuDq"
      },
      "source": [
        "### Creating models with best choosen params and comparing theme"
      ]
    },
    {
      "cell_type": "code",
      "metadata": {
        "id": "Ni95X9qzaAmB"
      },
      "source": [
        "# x=all_data.drop(['class','SrcAddr','SrcMac', 'DstMac','DstAddr','Sport','Dport'],axis=1)\n",
        "# y=all_data['class']\n",
        "\n",
        "# x=x.drop(['sMeanPktSz','dMeanPktSz','Dur'],axis=1)\n",
        "\n",
        "# LE=LabelEncoder()\n",
        "# protos=LE.fit_transform(x['Proto'])\n",
        "# x['Proto']=protos"
      ],
      "execution_count": null,
      "outputs": []
    },
    {
      "cell_type": "code",
      "metadata": {
        "colab": {
          "base_uri": "https://localhost:8080/",
          "height": 226
        },
        "id": "9of59sAIH7SR",
        "outputId": "83718aaa-e56d-4270-a845-835e92c9a79f"
      },
      "source": [
        "x.head()"
      ],
      "execution_count": null,
      "outputs": [
        {
          "data": {
            "text/html": [
              "<div>\n",
              "<style scoped>\n",
              "    .dataframe tbody tr th:only-of-type {\n",
              "        vertical-align: middle;\n",
              "    }\n",
              "\n",
              "    .dataframe tbody tr th {\n",
              "        vertical-align: top;\n",
              "    }\n",
              "\n",
              "    .dataframe thead th {\n",
              "        text-align: right;\n",
              "    }\n",
              "</style>\n",
              "<table border=\"1\" class=\"dataframe\">\n",
              "  <thead>\n",
              "    <tr style=\"text-align: right;\">\n",
              "      <th></th>\n",
              "      <th>SrcRate</th>\n",
              "      <th>DstRate</th>\n",
              "      <th>State_X</th>\n",
              "      <th>State_R</th>\n",
              "      <th>State_O</th>\n",
              "      <th>State_D</th>\n",
              "      <th>State_C</th>\n",
              "      <th>State_N</th>\n",
              "      <th>State_Q</th>\n",
              "      <th>State_f</th>\n",
              "      <th>State_P</th>\n",
              "      <th>State_T</th>\n",
              "      <th>State_E</th>\n",
              "      <th>State_F</th>\n",
              "      <th>State_S</th>\n",
              "      <th>State_I</th>\n",
              "      <th>State_s</th>\n",
              "    </tr>\n",
              "  </thead>\n",
              "  <tbody>\n",
              "    <tr>\n",
              "      <th>8805</th>\n",
              "      <td>0.000000</td>\n",
              "      <td>0.0</td>\n",
              "      <td>0</td>\n",
              "      <td>0</td>\n",
              "      <td>0</td>\n",
              "      <td>0</td>\n",
              "      <td>0</td>\n",
              "      <td>0</td>\n",
              "      <td>0</td>\n",
              "      <td>0</td>\n",
              "      <td>0</td>\n",
              "      <td>0</td>\n",
              "      <td>1</td>\n",
              "      <td>0</td>\n",
              "      <td>0</td>\n",
              "      <td>0</td>\n",
              "      <td>0</td>\n",
              "    </tr>\n",
              "    <tr>\n",
              "      <th>12360</th>\n",
              "      <td>0.000000</td>\n",
              "      <td>0.0</td>\n",
              "      <td>0</td>\n",
              "      <td>0</td>\n",
              "      <td>0</td>\n",
              "      <td>0</td>\n",
              "      <td>0</td>\n",
              "      <td>1</td>\n",
              "      <td>0</td>\n",
              "      <td>0</td>\n",
              "      <td>0</td>\n",
              "      <td>1</td>\n",
              "      <td>0</td>\n",
              "      <td>0</td>\n",
              "      <td>0</td>\n",
              "      <td>1</td>\n",
              "      <td>0</td>\n",
              "    </tr>\n",
              "    <tr>\n",
              "      <th>1277</th>\n",
              "      <td>0.000000</td>\n",
              "      <td>0.0</td>\n",
              "      <td>0</td>\n",
              "      <td>0</td>\n",
              "      <td>0</td>\n",
              "      <td>0</td>\n",
              "      <td>0</td>\n",
              "      <td>0</td>\n",
              "      <td>0</td>\n",
              "      <td>0</td>\n",
              "      <td>0</td>\n",
              "      <td>0</td>\n",
              "      <td>0</td>\n",
              "      <td>0</td>\n",
              "      <td>0</td>\n",
              "      <td>0</td>\n",
              "      <td>1</td>\n",
              "    </tr>\n",
              "    <tr>\n",
              "      <th>11237</th>\n",
              "      <td>32.413586</td>\n",
              "      <td>0.0</td>\n",
              "      <td>0</td>\n",
              "      <td>1</td>\n",
              "      <td>0</td>\n",
              "      <td>0</td>\n",
              "      <td>0</td>\n",
              "      <td>0</td>\n",
              "      <td>1</td>\n",
              "      <td>0</td>\n",
              "      <td>0</td>\n",
              "      <td>0</td>\n",
              "      <td>1</td>\n",
              "      <td>0</td>\n",
              "      <td>0</td>\n",
              "      <td>0</td>\n",
              "      <td>0</td>\n",
              "    </tr>\n",
              "    <tr>\n",
              "      <th>8752</th>\n",
              "      <td>0.000000</td>\n",
              "      <td>0.0</td>\n",
              "      <td>0</td>\n",
              "      <td>0</td>\n",
              "      <td>0</td>\n",
              "      <td>0</td>\n",
              "      <td>0</td>\n",
              "      <td>0</td>\n",
              "      <td>0</td>\n",
              "      <td>0</td>\n",
              "      <td>0</td>\n",
              "      <td>0</td>\n",
              "      <td>0</td>\n",
              "      <td>0</td>\n",
              "      <td>0</td>\n",
              "      <td>0</td>\n",
              "      <td>1</td>\n",
              "    </tr>\n",
              "  </tbody>\n",
              "</table>\n",
              "</div>"
            ],
            "text/plain": [
              "         SrcRate  DstRate State_X State_R  ... State_F State_S State_I State_s\n",
              "8805    0.000000      0.0       0       0  ...       0       0       0       0\n",
              "12360   0.000000      0.0       0       0  ...       0       0       1       0\n",
              "1277    0.000000      0.0       0       0  ...       0       0       0       1\n",
              "11237  32.413586      0.0       0       1  ...       0       0       0       0\n",
              "8752    0.000000      0.0       0       0  ...       0       0       0       1\n",
              "\n",
              "[5 rows x 17 columns]"
            ]
          },
          "execution_count": 241,
          "metadata": {},
          "output_type": "execute_result"
        }
      ]
    },
    {
      "cell_type": "code",
      "metadata": {
        "id": "hpA_fyF3aTQ2"
      },
      "source": [
        "\n",
        "cat_cols=['Proto'] \n",
        "num_cols=(x.drop(cat_cols,axis=1)).columns \n",
        "\n",
        "num_cols=x.columns\n",
        "\n",
        "#if classification is just for two classes(normal/anomalies),\n",
        "#this property should be \"2\" ,otherwise it should be 10\n",
        "# -> just for MLPC last layer nodes\n",
        "num_class=10\n",
        "\n",
        "\n",
        "non_tree_preprocessor = ColumnTransformer(transformers=[\n",
        "    ('cat', categorical_transformer, cat_cols), \n",
        "    ('num', non_tree_numeric_transformer, num_cols)\n",
        "    ],remainder='passthrough', sparse_threshold=0)\n",
        "    \n",
        "\n",
        "tree_preprocessor = ColumnTransformer(transformers=[\n",
        "    ('cat', categorical_transformer, cat_cols), \n",
        "    ('num', tree_numeric_transformer, num_cols)\n",
        "    ],remainder='passthrough', sparse_threshold=0)\n",
        "\n",
        "seed=42\n",
        "\n",
        "lr_c=20\n",
        "lr_max_iter=100\n",
        "\n",
        "rf_max_depth=14\n",
        "rf_criterion='entropy'\n",
        "rf_n_estimators=30\n",
        "\n",
        "DT_max_depth=14\n",
        "DT_criterion='entropy'\n",
        "\n",
        "MLPC_max_iter=100\n",
        "MLPC_activation='logistic'\n",
        "MLPC_solver='lbfgs'\n",
        "MLPC_hidden_layer_sizes=(3,10,num_class)\n",
        "\n",
        "# Pipeline of ML classifier's pipielines\n",
        "pipelines = {\n",
        "    'lr': Pipeline(steps=[('preprocessor_lr', non_tree_preprocessor),('lr',LogisticRegression(random_state=seed,C=lr_c,max_iter=lr_max_iter))]),\n",
        "    'rf': Pipeline(steps=[('preprocessor_rf',tree_preprocessor),('rf', RandomForestClassifier(random_state=seed,criterion=rf_criterion,max_depth=16,n_estimators=rf_n_estimators))]),\n",
        "    'DT': Pipeline(steps=[('preprocessor_DT',tree_preprocessor),('DT', DecisionTreeClassifier(random_state=seed,criterion=DT_criterion,max_depth=DT_max_depth))]),\n",
        "    'MLPC': Pipeline(steps=[('preprocessor_MLPC', non_tree_preprocessor),('MLPC',MLPClassifier(random_state=seed,\n",
        "                                                                                               max_iter=MLPC_max_iter,solver=MLPC_solver,\n",
        "                                                                                               activation=MLPC_activation,hidden_layer_sizes=MLPC_hidden_layer_sizes ))])\n",
        "}\n"
      ],
      "execution_count": null,
      "outputs": []
    },
    {
      "cell_type": "code",
      "metadata": {
        "colab": {
          "base_uri": "https://localhost:8080/",
          "height": 132
        },
        "id": "mZ00-xM4P9m-",
        "outputId": "d61714e6-b1dd-4fb2-b604-8f1fa50ba773"
      },
      "source": [
        "x.head(2)"
      ],
      "execution_count": null,
      "outputs": [
        {
          "output_type": "execute_result",
          "data": {
            "text/html": [
              "<div>\n",
              "<style scoped>\n",
              "    .dataframe tbody tr th:only-of-type {\n",
              "        vertical-align: middle;\n",
              "    }\n",
              "\n",
              "    .dataframe tbody tr th {\n",
              "        vertical-align: top;\n",
              "    }\n",
              "\n",
              "    .dataframe thead th {\n",
              "        text-align: right;\n",
              "    }\n",
              "</style>\n",
              "<table border=\"1\" class=\"dataframe\">\n",
              "  <thead>\n",
              "    <tr style=\"text-align: right;\">\n",
              "      <th></th>\n",
              "      <th>Proto</th>\n",
              "      <th>SrcRate</th>\n",
              "      <th>DstRate</th>\n",
              "      <th>State_C</th>\n",
              "      <th>State_O</th>\n",
              "      <th>State_R</th>\n",
              "      <th>State_X</th>\n",
              "      <th>State_T</th>\n",
              "      <th>State_P</th>\n",
              "      <th>State_s</th>\n",
              "      <th>State_D</th>\n",
              "      <th>State_N</th>\n",
              "      <th>State_f</th>\n",
              "      <th>State_I</th>\n",
              "      <th>State_S</th>\n",
              "      <th>State_E</th>\n",
              "      <th>State_Q</th>\n",
              "      <th>State_F</th>\n",
              "    </tr>\n",
              "  </thead>\n",
              "  <tbody>\n",
              "    <tr>\n",
              "      <th>0</th>\n",
              "      <td>3</td>\n",
              "      <td>198.798035</td>\n",
              "      <td>168.213715</td>\n",
              "      <td>0</td>\n",
              "      <td>0</td>\n",
              "      <td>1</td>\n",
              "      <td>0</td>\n",
              "      <td>0</td>\n",
              "      <td>0</td>\n",
              "      <td>1</td>\n",
              "      <td>0</td>\n",
              "      <td>0</td>\n",
              "      <td>1</td>\n",
              "      <td>0</td>\n",
              "      <td>1</td>\n",
              "      <td>1</td>\n",
              "      <td>0</td>\n",
              "      <td>0</td>\n",
              "    </tr>\n",
              "    <tr>\n",
              "      <th>1</th>\n",
              "      <td>3</td>\n",
              "      <td>0.000000</td>\n",
              "      <td>0.000000</td>\n",
              "      <td>0</td>\n",
              "      <td>0</td>\n",
              "      <td>0</td>\n",
              "      <td>0</td>\n",
              "      <td>0</td>\n",
              "      <td>0</td>\n",
              "      <td>1</td>\n",
              "      <td>0</td>\n",
              "      <td>0</td>\n",
              "      <td>0</td>\n",
              "      <td>0</td>\n",
              "      <td>0</td>\n",
              "      <td>0</td>\n",
              "      <td>0</td>\n",
              "      <td>0</td>\n",
              "    </tr>\n",
              "  </tbody>\n",
              "</table>\n",
              "</div>"
            ],
            "text/plain": [
              "   Proto     SrcRate     DstRate State_C  ... State_S State_E State_Q State_F\n",
              "0      3  198.798035  168.213715       0  ...       1       1       0       0\n",
              "1      3    0.000000    0.000000       0  ...       0       0       0       0\n",
              "\n",
              "[2 rows x 18 columns]"
            ]
          },
          "metadata": {},
          "execution_count": 17
        }
      ]
    },
    {
      "cell_type": "code",
      "metadata": {
        "colab": {
          "base_uri": "https://localhost:8080/"
        },
        "id": "hclJEalUeB4b",
        "outputId": "64299d58-9eda-4df7-afc2-c3ac64ac130a"
      },
      "source": [
        "y.value_counts()"
      ],
      "execution_count": null,
      "outputs": [
        {
          "output_type": "execute_result",
          "data": {
            "text/plain": [
              "2    2174\n",
              "7    1792\n",
              "1    1658\n",
              "4    1596\n",
              "5    1562\n",
              "9    1448\n",
              "0     893\n",
              "8     561\n",
              "6     416\n",
              "3     301\n",
              "Name: class, dtype: int64"
            ]
          },
          "metadata": {},
          "execution_count": 18
        }
      ]
    },
    {
      "cell_type": "code",
      "metadata": {
        "colab": {
          "base_uri": "https://localhost:8080/",
          "height": 281,
          "referenced_widgets": [
            "34c2e8da77114ca4b1be0c9cbff57d2d",
            "6a296807ec384a77be1ac739c279f276",
            "e5a1bc0340d14a5397fe202f4bac86d8",
            "3e62523ecf0f42e99387a3b0f1d5a730",
            "71a11f1b2a3844c88483089b4fb5b84e",
            "f152e4817a754f99b72c430eadef3bf3",
            "6ce9c62f0e16498aa0b729d7bba64232",
            "ed190bf392934579af42f00aca68c0f3",
            "355944b5b9d441fc8801a99a08858274",
            "a954051fcd40420c94f0ad2f69b37f82",
            "070637514fd04642957a708ea360f28b"
          ]
        },
        "id": "2mAt2h8pn-C_",
        "outputId": "53d7141b-0098-4aba-e27d-18f569bd3bc6"
      },
      "source": [
        "# Start the cross_val process\n",
        "\n",
        "results_df=pd.DataFrame(columns=['model','score','training time'])\n",
        "\n",
        "model_names = {\"lr\": \"Logistic Regression\" ,\n",
        "               \"rf\":\"Random Forest\",\n",
        "               \"DT\":\"Decision Tree\",\n",
        "               \"MLPC\":\"MLPC\"}\n",
        "\n",
        "results_row=0\n",
        "\n",
        "\n",
        "for key, pipeline in tqdm(pipelines.items()):\n",
        "\n",
        "    print(key)\n",
        "\n",
        "    cv=KFold(n_splits=5,shuffle=True)\n",
        "\n",
        "    \n",
        "    model=pipeline\n",
        "\n",
        "    t1=datetime.datetime.now()\n",
        "\n",
        "    score=cross_val_score(model,X=x,y=y,cv=cv,n_jobs=2,scoring=scoring_multi).mean()\n",
        "\n",
        "    t2=datetime.datetime.now()\n",
        "\n",
        "    time=t2-t1\n",
        "\n",
        "    results_df.loc[results_row]=[\n",
        "        model_names[key],\n",
        "        score,\n",
        "        time.total_seconds()\n",
        "        ]\n",
        "    results_row+=1\n",
        "\n",
        "results_df =results_df.round(4)\n",
        "display(results_df)"
      ],
      "execution_count": null,
      "outputs": [
        {
          "output_type": "display_data",
          "data": {
            "application/vnd.jupyter.widget-view+json": {
              "model_id": "34c2e8da77114ca4b1be0c9cbff57d2d",
              "version_minor": 0,
              "version_major": 2
            },
            "text/plain": [
              "  0%|          | 0/4 [00:00<?, ?it/s]"
            ]
          },
          "metadata": {}
        },
        {
          "output_type": "stream",
          "name": "stdout",
          "text": [
            "lr\n",
            "rf\n",
            "DT\n",
            "MLPC\n"
          ]
        },
        {
          "output_type": "display_data",
          "data": {
            "text/html": [
              "<div>\n",
              "<style scoped>\n",
              "    .dataframe tbody tr th:only-of-type {\n",
              "        vertical-align: middle;\n",
              "    }\n",
              "\n",
              "    .dataframe tbody tr th {\n",
              "        vertical-align: top;\n",
              "    }\n",
              "\n",
              "    .dataframe thead th {\n",
              "        text-align: right;\n",
              "    }\n",
              "</style>\n",
              "<table border=\"1\" class=\"dataframe\">\n",
              "  <thead>\n",
              "    <tr style=\"text-align: right;\">\n",
              "      <th></th>\n",
              "      <th>model</th>\n",
              "      <th>score</th>\n",
              "      <th>training time</th>\n",
              "    </tr>\n",
              "  </thead>\n",
              "  <tbody>\n",
              "    <tr>\n",
              "      <th>0</th>\n",
              "      <td>Logistic Regression</td>\n",
              "      <td>0.7466</td>\n",
              "      <td>3.9121</td>\n",
              "    </tr>\n",
              "    <tr>\n",
              "      <th>1</th>\n",
              "      <td>Random Forest</td>\n",
              "      <td>0.8011</td>\n",
              "      <td>1.3913</td>\n",
              "    </tr>\n",
              "    <tr>\n",
              "      <th>2</th>\n",
              "      <td>Decision Tree</td>\n",
              "      <td>0.7995</td>\n",
              "      <td>0.3552</td>\n",
              "    </tr>\n",
              "    <tr>\n",
              "      <th>3</th>\n",
              "      <td>MLPC</td>\n",
              "      <td>0.4840</td>\n",
              "      <td>7.7457</td>\n",
              "    </tr>\n",
              "  </tbody>\n",
              "</table>\n",
              "</div>"
            ],
            "text/plain": [
              "                 model   score  training time\n",
              "0  Logistic Regression  0.7466         3.9121\n",
              "1        Random Forest  0.8011         1.3913\n",
              "2        Decision Tree  0.7995         0.3552\n",
              "3                 MLPC  0.4840         7.7457"
            ]
          },
          "metadata": {}
        }
      ]
    },
    {
      "cell_type": "markdown",
      "metadata": {
        "id": "Q6j3Rz9_QY8S"
      },
      "source": [
        "## As we can see in above table, the Decision Tree works good. It can be a better choice for SparkML too (we should check it of course). So we will just use DT model for feature selection"
      ]
    },
    {
      "cell_type": "markdown",
      "metadata": {
        "id": "IKMIWbTnwDkK"
      },
      "source": [
        "## Feature Selection using best model's(DT) feature_importance(if it has such method)"
      ]
    },
    {
      "cell_type": "code",
      "metadata": {
        "id": "x8B_lNd7WOK5"
      },
      "source": [
        "\n",
        "X_train, X_test, y_train, y_test = train_test_split( x, y, test_size=0.3, random_state=42,stratify=y)\n",
        "\n"
      ],
      "execution_count": null,
      "outputs": []
    },
    {
      "cell_type": "code",
      "metadata": {
        "colab": {
          "base_uri": "https://localhost:8080/",
          "height": 1000
        },
        "id": "IlPOsdGCvpEh",
        "outputId": "d45ff993-8200-48ef-e687-3b8fc520fb38"
      },
      "source": [
        "DT=DecisionTreeClassifier(random_state=seed,criterion='entropy',max_depth=16)\n",
        "DT.fit(X_train,y_train)\n",
        "\n",
        "print(f'score: {DT.score(X_test,y_test)}')\n",
        "importance = DT.feature_importances_\n",
        "# summarize feature importance\n",
        "for i,v in enumerate(importance):\n",
        "\tprint('Feature: %0d, Score: %.5f' % (i,v))\n",
        "# plot feature importance\n",
        "\n",
        "plt.figure(figsize=(15,12))\n",
        "fig=sns.barplot([x for x in range(len(importance))], importance)\n",
        "fig.set_xticks(np.linspace(0,x.columns.size,x.columns.size+1))\n",
        "fig.axes.set_xticklabels(x.columns, rotation=70)\n"
      ],
      "execution_count": null,
      "outputs": [
        {
          "name": "stdout",
          "output_type": "stream",
          "text": [
            "score: 0.9763504434291858\n",
            "Feature: 0, Score: 0.14847\n",
            "Feature: 1, Score: 0.43960\n",
            "Feature: 2, Score: 0.06827\n",
            "Feature: 3, Score: 0.01386\n",
            "Feature: 4, Score: 0.04314\n",
            "Feature: 5, Score: 0.04360\n",
            "Feature: 6, Score: 0.00000\n",
            "Feature: 7, Score: 0.00457\n",
            "Feature: 8, Score: 0.08183\n",
            "Feature: 9, Score: 0.06176\n",
            "Feature: 10, Score: 0.00000\n",
            "Feature: 11, Score: 0.00000\n",
            "Feature: 12, Score: 0.00116\n",
            "Feature: 13, Score: 0.00000\n",
            "Feature: 14, Score: 0.01654\n",
            "Feature: 15, Score: 0.00918\n",
            "Feature: 16, Score: 0.06800\n"
          ]
        },
        {
          "data": {
            "text/plain": [
              "[Text(0, 0, 'SrcRate'),\n",
              " Text(0, 0, 'DstRate'),\n",
              " Text(0, 0, 'State_s'),\n",
              " Text(0, 0, 'State_T'),\n",
              " Text(0, 0, 'State_E'),\n",
              " Text(0, 0, 'State_S'),\n",
              " Text(0, 0, 'State_X'),\n",
              " Text(0, 0, 'State_N'),\n",
              " Text(0, 0, 'State_C'),\n",
              " Text(0, 0, 'State_F'),\n",
              " Text(0, 0, 'State_P'),\n",
              " Text(0, 0, 'State_I'),\n",
              " Text(0, 0, 'State_D'),\n",
              " Text(0, 0, 'State_O'),\n",
              " Text(0, 0, 'State_f'),\n",
              " Text(0, 0, 'State_R'),\n",
              " Text(0, 0, 'State_Q')]"
            ]
          },
          "execution_count": 44,
          "metadata": {},
          "output_type": "execute_result"
        },
        {
          "data": {
            "image/png": "[encoded data removed]",
            "text/plain": [
              "<Figure size 1080x864 with 1 Axes>"
            ]
          },
          "metadata": {},
          "output_type": "display_data"
        }
      ]
    },
    {
      "cell_type": "markdown",
      "metadata": {
        "id": "P5Ow_kJjpGPd"
      },
      "source": [
        "## NOTE : After many iterations we choos above features (SrcRate,DstRate,State)"
      ]
    },
    {
      "cell_type": "markdown",
      "metadata": {
        "id": "qiXtJkSAGLp8"
      },
      "source": [
        "### Here we save our new dataset for using in SparkML"
      ]
    },
    {
      "cell_type": "code",
      "metadata": {
        "id": "WQcRD6BPEov0"
      },
      "source": [
        "\n",
        "data=all_data.drop(['sMeanPktSz','dMeanPktSz','Dur'],axis=1)"
      ],
      "execution_count": null,
      "outputs": []
    },
    {
      "cell_type": "code",
      "metadata": {
        "colab": {
          "base_uri": "https://localhost:8080/",
          "height": 206
        },
        "id": "AM_7WDweE4u1",
        "outputId": "9e56c0eb-ddbe-43f9-86d0-c2fc867af326"
      },
      "source": [
        "data.head()"
      ],
      "execution_count": null,
      "outputs": [
        {
          "data": {
            "text/html": [
              "<div>\n",
              "<style scoped>\n",
              "    .dataframe tbody tr th:only-of-type {\n",
              "        vertical-align: middle;\n",
              "    }\n",
              "\n",
              "    .dataframe tbody tr th {\n",
              "        vertical-align: top;\n",
              "    }\n",
              "\n",
              "    .dataframe thead th {\n",
              "        text-align: right;\n",
              "    }\n",
              "</style>\n",
              "<table border=\"1\" class=\"dataframe\">\n",
              "  <thead>\n",
              "    <tr style=\"text-align: right;\">\n",
              "      <th></th>\n",
              "      <th>SrcAddr</th>\n",
              "      <th>DstAddr</th>\n",
              "      <th>SrcMac</th>\n",
              "      <th>DstMac</th>\n",
              "      <th>Sport</th>\n",
              "      <th>Dport</th>\n",
              "      <th>State</th>\n",
              "      <th>Proto</th>\n",
              "      <th>SrcRate</th>\n",
              "      <th>DstRate</th>\n",
              "      <th>class</th>\n",
              "    </tr>\n",
              "  </thead>\n",
              "  <tbody>\n",
              "    <tr>\n",
              "      <th>0</th>\n",
              "      <td>192.168.0.16</td>\n",
              "      <td>192.168.0.13</td>\n",
              "      <td>48:4b:aa:2c:d8:f9</td>\n",
              "      <td>bc:1c:81:4b:ae:ba</td>\n",
              "      <td>49790</td>\n",
              "      <td>9010</td>\n",
              "      <td>sSEfR</td>\n",
              "      <td>tcp</td>\n",
              "      <td>198.798035</td>\n",
              "      <td>168.213715</td>\n",
              "      <td>0</td>\n",
              "    </tr>\n",
              "    <tr>\n",
              "      <th>1</th>\n",
              "      <td>192.168.0.15</td>\n",
              "      <td>192.168.0.13</td>\n",
              "      <td>f0:18:98:5e:ff:9f</td>\n",
              "      <td>bc:1c:81:4b:ae:ba</td>\n",
              "      <td>52143.0</td>\n",
              "      <td>7004.0</td>\n",
              "      <td>s</td>\n",
              "      <td>tcp</td>\n",
              "      <td>0.000000</td>\n",
              "      <td>0.000000</td>\n",
              "      <td>7</td>\n",
              "    </tr>\n",
              "    <tr>\n",
              "      <th>2</th>\n",
              "      <td>192.168.0.15</td>\n",
              "      <td>192.168.0.13</td>\n",
              "      <td>f0:18:98:5e:ff:9f</td>\n",
              "      <td>bc:1c:81:4b:ae:ba</td>\n",
              "      <td>52143.0</td>\n",
              "      <td>9415.0</td>\n",
              "      <td>s</td>\n",
              "      <td>tcp</td>\n",
              "      <td>0.000000</td>\n",
              "      <td>0.000000</td>\n",
              "      <td>7</td>\n",
              "    </tr>\n",
              "    <tr>\n",
              "      <th>3</th>\n",
              "      <td>222.24.23.68</td>\n",
              "      <td>192.168.0.13</td>\n",
              "      <td>88:36:6c:f2:ce:a7</td>\n",
              "      <td>bc:1c:81:4b:ae:ba</td>\n",
              "      <td>3484.0</td>\n",
              "      <td>554.0</td>\n",
              "      <td>s</td>\n",
              "      <td>tcp</td>\n",
              "      <td>0.000000</td>\n",
              "      <td>0.000000</td>\n",
              "      <td>1</td>\n",
              "    </tr>\n",
              "    <tr>\n",
              "      <th>4</th>\n",
              "      <td>192.168.0.13</td>\n",
              "      <td>210.89.164.90</td>\n",
              "      <td>bc:1c:81:4b:ae:ba</td>\n",
              "      <td>88:36:6c:d7:1c:56</td>\n",
              "      <td>51994.0</td>\n",
              "      <td>8899.0</td>\n",
              "      <td>REQ</td>\n",
              "      <td>udp</td>\n",
              "      <td>172.410049</td>\n",
              "      <td>0.000000</td>\n",
              "      <td>5</td>\n",
              "    </tr>\n",
              "  </tbody>\n",
              "</table>\n",
              "</div>"
            ],
            "text/plain": [
              "        SrcAddr        DstAddr  ...     DstRate class\n",
              "0  192.168.0.16   192.168.0.13  ...  168.213715     0\n",
              "1  192.168.0.15   192.168.0.13  ...    0.000000     7\n",
              "2  192.168.0.15   192.168.0.13  ...    0.000000     7\n",
              "3  222.24.23.68   192.168.0.13  ...    0.000000     1\n",
              "4  192.168.0.13  210.89.164.90  ...    0.000000     5\n",
              "\n",
              "[5 rows x 11 columns]"
            ]
          },
          "execution_count": 26,
          "metadata": {},
          "output_type": "execute_result"
        }
      ]
    },
    {
      "cell_type": "code",
      "metadata": {
        "id": "bI1qNqdoF9dL"
      },
      "source": [
        "data.to_csv(\"all_data.csv\",index=False)"
      ],
      "execution_count": null,
      "outputs": []
    },
    {
      "cell_type": "markdown",
      "metadata": {
        "id": "PW_M0mn6R2qd"
      },
      "source": [
        "## Lets check Correlations (if its needed)\n"
      ]
    },
    {
      "cell_type": "code",
      "metadata": {
        "colab": {
          "base_uri": "https://localhost:8080/",
          "height": 606
        },
        "id": "FkVW3nXq9RPL",
        "outputId": "6d9e3aba-a344-4a9b-8dd1-c9e19607a5d0"
      },
      "source": [
        "from string import ascii_letters\n",
        "import numpy as np\n",
        "import pandas as pd\n",
        "import seaborn as sns\n",
        "import matplotlib.pyplot as plt\n",
        "corr=all_data.corr()\n",
        "# Generate a mask for the upper triangle\n",
        "mask = np.triu(np.ones_like(corr, dtype=bool))\n",
        "\n",
        "# Set up the matplotlib figure\n",
        "f, ax = plt.subplots(figsize=(11, 9))\n",
        "\n",
        "# Generate a custom diverging colormap\n",
        "cmap = sns.diverging_palette(230, 20, as_cmap=True)\n",
        "\n",
        "# Draw the heatmap with the mask and correct aspect ratio\n",
        "sns.heatmap(corr, mask=mask, cmap=cmap, vmax=.3, center=0,\n",
        "            square=True, linewidths=.5, cbar_kws={\"shrink\": .5})"
      ],
      "execution_count": null,
      "outputs": [
        {
          "data": {
            "text/plain": [
              "<matplotlib.axes._subplots.AxesSubplot at 0x7f916147c450>"
            ]
          },
          "execution_count": 25,
          "metadata": {},
          "output_type": "execute_result"
        },
        {
          "data": {
            "image/png": "[encoded data removed]",
            "text/plain": [
              "<Figure size 792x648 with 2 Axes>"
            ]
          },
          "metadata": {},
          "output_type": "display_data"
        }
      ]
    },
    {
      "cell_type": "markdown",
      "metadata": {
        "id": "-rqXjzIrPnQi"
      },
      "source": [
        "## Lets plot our Tree"
      ]
    },
    {
      "cell_type": "code",
      "metadata": {
        "colab": {
          "base_uri": "https://localhost:8080/",
          "height": 249
        },
        "id": "oswhvlhkMkbd",
        "outputId": "2206e4c3-cff8-4deb-d070-d1b894d0d234"
      },
      "source": [
        "from sklearn import tree\n",
        "\n",
        "classes = ['Normal','syn_flooding','ack_flooding',\n",
        "          'host_bruteforce','http_flooding','udp_flooding',\n",
        "          'arp_spoofing','port_scanning','scan_os',\n",
        "          'scan_host_discovery']\n",
        "\n",
        "plt.figure(figsize=(150,40))\n",
        "tree.plot_tree(DT, fontsize=10,feature_names=x.columns,  \n",
        "                   class_names=classes,\n",
        "                   filled=True)\n",
        "plt.savefig('tree_high_dpi', dpi=350)\n"
      ],
      "execution_count": null,
      "outputs": [
        {
          "output_type": "error",
          "ename": "NameError",
          "evalue": "ignored",
          "traceback": [
            "\u001b[0;31m---------------------------------------------------------------------------\u001b[0m",
            "\u001b[0;31mNameError\u001b[0m                                 Traceback (most recent call last)",
            "\u001b[0;32m<ipython-input-1-1c9d4607679a>\u001b[0m in \u001b[0;36m<module>\u001b[0;34m()\u001b[0m\n\u001b[1;32m      6\u001b[0m           'scan_host_discovery']\n\u001b[1;32m      7\u001b[0m \u001b[0;34m\u001b[0m\u001b[0m\n\u001b[0;32m----> 8\u001b[0;31m \u001b[0mplt\u001b[0m\u001b[0;34m.\u001b[0m\u001b[0mfigure\u001b[0m\u001b[0;34m(\u001b[0m\u001b[0mfigsize\u001b[0m\u001b[0;34m=\u001b[0m\u001b[0;34m(\u001b[0m\u001b[0;36m150\u001b[0m\u001b[0;34m,\u001b[0m\u001b[0;36m40\u001b[0m\u001b[0;34m)\u001b[0m\u001b[0;34m)\u001b[0m\u001b[0;34m\u001b[0m\u001b[0;34m\u001b[0m\u001b[0m\n\u001b[0m\u001b[1;32m      9\u001b[0m tree.plot_tree(DT, fontsize=10,feature_names=x.columns,  \n\u001b[1;32m     10\u001b[0m                    \u001b[0mclass_names\u001b[0m\u001b[0;34m=\u001b[0m\u001b[0mclasses\u001b[0m\u001b[0;34m,\u001b[0m\u001b[0;34m\u001b[0m\u001b[0;34m\u001b[0m\u001b[0m\n",
            "\u001b[0;31mNameError\u001b[0m: name 'plt' is not defined"
          ]
        }
      ]
    },
    {
      "cell_type": "markdown",
      "metadata": {
        "id": "u_jiSH4z1y5p"
      },
      "source": [
        ""
      ]
    },
    {
      "cell_type": "code",
      "metadata": {
        "id": "X-wl60Vh1Zv5"
      },
      "source": [
        "def calc_auc_roc(y, prob_pred):\n",
        "  return roc_auc_score(y, prob_pred)"
      ],
      "execution_count": null,
      "outputs": []
    },
    {
      "cell_type": "code",
      "metadata": {
        "id": "gc47UGPEPds0"
      },
      "source": [
        "def calc_accuracy(y, prob_pred):\n",
        "  return accuracy_score(y, prob_pred,normalize=False)"
      ],
      "execution_count": null,
      "outputs": []
    },
    {
      "cell_type": "code",
      "metadata": {
        "id": "aX3iNxBZnTKc"
      },
      "source": [
        "x=all_data.drop(['class','SrcAddr','SrcMac', 'DstMac','DstAddr','Sport','Dport'],axis=1)\n",
        "y=all_data['class']"
      ],
      "execution_count": null,
      "outputs": []
    },
    {
      "cell_type": "code",
      "metadata": {
        "id": "5Sbq4Cy5mfhi"
      },
      "source": [
        "data=one_hot_scale_imputer(x,_,_)"
      ],
      "execution_count": null,
      "outputs": []
    },
    {
      "cell_type": "code",
      "metadata": {
        "colab": {
          "base_uri": "https://localhost:8080/",
          "height": 226
        },
        "id": "Ars9zEDJnF1X",
        "outputId": "4a7fd970-21dc-4ba7-f6d9-0e64f7748894"
      },
      "source": [
        "data.head()"
      ],
      "execution_count": null,
      "outputs": [
        {
          "data": {
            "text/html": [
              "<div>\n",
              "<style scoped>\n",
              "    .dataframe tbody tr th:only-of-type {\n",
              "        vertical-align: middle;\n",
              "    }\n",
              "\n",
              "    .dataframe tbody tr th {\n",
              "        vertical-align: top;\n",
              "    }\n",
              "\n",
              "    .dataframe thead th {\n",
              "        text-align: right;\n",
              "    }\n",
              "</style>\n",
              "<table border=\"1\" class=\"dataframe\">\n",
              "  <thead>\n",
              "    <tr style=\"text-align: right;\">\n",
              "      <th></th>\n",
              "      <th>Proto_arp</th>\n",
              "      <th>Proto_icmp</th>\n",
              "      <th>Proto_igmp</th>\n",
              "      <th>Proto_tcp</th>\n",
              "      <th>Proto_udp</th>\n",
              "      <th>Proto_unas</th>\n",
              "      <th>Proto_unknown</th>\n",
              "      <th>State_T_0</th>\n",
              "      <th>State_T_1</th>\n",
              "      <th>State_N_0</th>\n",
              "      <th>State_N_1</th>\n",
              "      <th>State_R_0</th>\n",
              "      <th>State_R_1</th>\n",
              "      <th>State_F_0</th>\n",
              "      <th>State_F_1</th>\n",
              "      <th>State_I_0</th>\n",
              "      <th>State_I_1</th>\n",
              "      <th>State_f_0</th>\n",
              "      <th>State_f_1</th>\n",
              "      <th>State_Q_0</th>\n",
              "      <th>State_Q_1</th>\n",
              "      <th>State_s_0</th>\n",
              "      <th>State_s_1</th>\n",
              "      <th>State_D_0</th>\n",
              "      <th>State_D_1</th>\n",
              "      <th>State_C_0</th>\n",
              "      <th>State_C_1</th>\n",
              "      <th>State_S_0</th>\n",
              "      <th>State_S_1</th>\n",
              "      <th>State_X_0</th>\n",
              "      <th>State_X_1</th>\n",
              "      <th>State_E_0</th>\n",
              "      <th>State_E_1</th>\n",
              "      <th>State_P_0</th>\n",
              "      <th>State_P_1</th>\n",
              "      <th>State_O_0</th>\n",
              "      <th>State_O_1</th>\n",
              "      <th>Dur</th>\n",
              "      <th>SrcRate</th>\n",
              "      <th>DstRate</th>\n",
              "      <th>SrcWin</th>\n",
              "      <th>DstWin</th>\n",
              "      <th>sMeanPktSz</th>\n",
              "      <th>dMeanPktSz</th>\n",
              "      <th>sTtl</th>\n",
              "      <th>dTtl</th>\n",
              "      <th>sHops</th>\n",
              "      <th>dHops</th>\n",
              "    </tr>\n",
              "  </thead>\n",
              "  <tbody>\n",
              "    <tr>\n",
              "      <th>0</th>\n",
              "      <td>-0.314022</td>\n",
              "      <td>-0.032234</td>\n",
              "      <td>-0.047737</td>\n",
              "      <td>0.474335</td>\n",
              "      <td>-0.310495</td>\n",
              "      <td>-0.033736</td>\n",
              "      <td>-0.039174</td>\n",
              "      <td>0.346883</td>\n",
              "      <td>-0.346883</td>\n",
              "      <td>0.356642</td>\n",
              "      <td>-0.356642</td>\n",
              "      <td>0.291249</td>\n",
              "      <td>-0.291249</td>\n",
              "      <td>0.076266</td>\n",
              "      <td>-0.076266</td>\n",
              "      <td>0.346794</td>\n",
              "      <td>-0.346794</td>\n",
              "      <td>0.172252</td>\n",
              "      <td>-0.172252</td>\n",
              "      <td>0.245831</td>\n",
              "      <td>-0.245831</td>\n",
              "      <td>-0.949852</td>\n",
              "      <td>0.949852</td>\n",
              "      <td>0.007031</td>\n",
              "      <td>-0.007031</td>\n",
              "      <td>0.114762</td>\n",
              "      <td>-0.114762</td>\n",
              "      <td>0.173616</td>\n",
              "      <td>-0.173616</td>\n",
              "      <td>0.007031</td>\n",
              "      <td>-0.007031</td>\n",
              "      <td>0.807964</td>\n",
              "      <td>-0.807964</td>\n",
              "      <td>0.113875</td>\n",
              "      <td>-0.113875</td>\n",
              "      <td>0.080418</td>\n",
              "      <td>-0.080418</td>\n",
              "      <td>-0.421865</td>\n",
              "      <td>-0.171331</td>\n",
              "      <td>-0.052661</td>\n",
              "      <td>-0.090069</td>\n",
              "      <td>-0.011966</td>\n",
              "      <td>0.079670</td>\n",
              "      <td>-0.130365</td>\n",
              "      <td>-0.353988</td>\n",
              "      <td>-0.143062</td>\n",
              "      <td>1.557699</td>\n",
              "      <td>-0.122153</td>\n",
              "    </tr>\n",
              "    <tr>\n",
              "      <th>1</th>\n",
              "      <td>3.184489</td>\n",
              "      <td>-0.032234</td>\n",
              "      <td>-0.047737</td>\n",
              "      <td>-2.108213</td>\n",
              "      <td>-0.310495</td>\n",
              "      <td>-0.033736</td>\n",
              "      <td>-0.039174</td>\n",
              "      <td>-2.882816</td>\n",
              "      <td>2.882816</td>\n",
              "      <td>-2.803930</td>\n",
              "      <td>2.803930</td>\n",
              "      <td>0.291249</td>\n",
              "      <td>-0.291249</td>\n",
              "      <td>0.076266</td>\n",
              "      <td>-0.076266</td>\n",
              "      <td>-2.883560</td>\n",
              "      <td>2.883560</td>\n",
              "      <td>0.172252</td>\n",
              "      <td>-0.172252</td>\n",
              "      <td>0.245831</td>\n",
              "      <td>-0.245831</td>\n",
              "      <td>1.052796</td>\n",
              "      <td>-1.052796</td>\n",
              "      <td>0.007031</td>\n",
              "      <td>-0.007031</td>\n",
              "      <td>0.114762</td>\n",
              "      <td>-0.114762</td>\n",
              "      <td>0.173616</td>\n",
              "      <td>-0.173616</td>\n",
              "      <td>0.007031</td>\n",
              "      <td>-0.007031</td>\n",
              "      <td>0.807964</td>\n",
              "      <td>-0.807964</td>\n",
              "      <td>0.113875</td>\n",
              "      <td>-0.113875</td>\n",
              "      <td>0.080418</td>\n",
              "      <td>-0.080418</td>\n",
              "      <td>-0.207573</td>\n",
              "      <td>-0.165222</td>\n",
              "      <td>-0.052661</td>\n",
              "      <td>-0.090069</td>\n",
              "      <td>-0.011966</td>\n",
              "      <td>-0.225957</td>\n",
              "      <td>-0.130365</td>\n",
              "      <td>-2.000561</td>\n",
              "      <td>-0.143062</td>\n",
              "      <td>-0.389580</td>\n",
              "      <td>-0.122153</td>\n",
              "    </tr>\n",
              "    <tr>\n",
              "      <th>2</th>\n",
              "      <td>-0.314022</td>\n",
              "      <td>-0.032234</td>\n",
              "      <td>-0.047737</td>\n",
              "      <td>-2.108213</td>\n",
              "      <td>3.220665</td>\n",
              "      <td>-0.033736</td>\n",
              "      <td>-0.039174</td>\n",
              "      <td>-2.882816</td>\n",
              "      <td>2.882816</td>\n",
              "      <td>-2.803930</td>\n",
              "      <td>2.803930</td>\n",
              "      <td>0.291249</td>\n",
              "      <td>-0.291249</td>\n",
              "      <td>0.076266</td>\n",
              "      <td>-0.076266</td>\n",
              "      <td>-2.883560</td>\n",
              "      <td>2.883560</td>\n",
              "      <td>0.172252</td>\n",
              "      <td>-0.172252</td>\n",
              "      <td>0.245831</td>\n",
              "      <td>-0.245831</td>\n",
              "      <td>1.052796</td>\n",
              "      <td>-1.052796</td>\n",
              "      <td>0.007031</td>\n",
              "      <td>-0.007031</td>\n",
              "      <td>0.114762</td>\n",
              "      <td>-0.114762</td>\n",
              "      <td>0.173616</td>\n",
              "      <td>-0.173616</td>\n",
              "      <td>0.007031</td>\n",
              "      <td>-0.007031</td>\n",
              "      <td>0.807964</td>\n",
              "      <td>-0.807964</td>\n",
              "      <td>0.113875</td>\n",
              "      <td>-0.113875</td>\n",
              "      <td>0.080418</td>\n",
              "      <td>-0.080418</td>\n",
              "      <td>0.649866</td>\n",
              "      <td>0.542003</td>\n",
              "      <td>-0.052661</td>\n",
              "      <td>-0.090069</td>\n",
              "      <td>-0.011966</td>\n",
              "      <td>-0.164832</td>\n",
              "      <td>-0.130365</td>\n",
              "      <td>2.132015</td>\n",
              "      <td>-0.143062</td>\n",
              "      <td>-0.389580</td>\n",
              "      <td>-0.122153</td>\n",
              "    </tr>\n",
              "    <tr>\n",
              "      <th>3</th>\n",
              "      <td>3.184489</td>\n",
              "      <td>-0.032234</td>\n",
              "      <td>-0.047737</td>\n",
              "      <td>-2.108213</td>\n",
              "      <td>-0.310495</td>\n",
              "      <td>-0.033736</td>\n",
              "      <td>-0.039174</td>\n",
              "      <td>-2.882816</td>\n",
              "      <td>2.882816</td>\n",
              "      <td>-2.803930</td>\n",
              "      <td>2.803930</td>\n",
              "      <td>0.291249</td>\n",
              "      <td>-0.291249</td>\n",
              "      <td>0.076266</td>\n",
              "      <td>-0.076266</td>\n",
              "      <td>-2.883560</td>\n",
              "      <td>2.883560</td>\n",
              "      <td>0.172252</td>\n",
              "      <td>-0.172252</td>\n",
              "      <td>0.245831</td>\n",
              "      <td>-0.245831</td>\n",
              "      <td>1.052796</td>\n",
              "      <td>-1.052796</td>\n",
              "      <td>0.007031</td>\n",
              "      <td>-0.007031</td>\n",
              "      <td>0.114762</td>\n",
              "      <td>-0.114762</td>\n",
              "      <td>0.173616</td>\n",
              "      <td>-0.173616</td>\n",
              "      <td>0.007031</td>\n",
              "      <td>-0.007031</td>\n",
              "      <td>0.807964</td>\n",
              "      <td>-0.807964</td>\n",
              "      <td>0.113875</td>\n",
              "      <td>-0.113875</td>\n",
              "      <td>0.080418</td>\n",
              "      <td>-0.080418</td>\n",
              "      <td>-0.421865</td>\n",
              "      <td>-0.171331</td>\n",
              "      <td>-0.052661</td>\n",
              "      <td>-0.090069</td>\n",
              "      <td>-0.011966</td>\n",
              "      <td>-0.225957</td>\n",
              "      <td>-0.130365</td>\n",
              "      <td>-2.000561</td>\n",
              "      <td>-0.143062</td>\n",
              "      <td>-0.389580</td>\n",
              "      <td>-0.122153</td>\n",
              "    </tr>\n",
              "    <tr>\n",
              "      <th>4</th>\n",
              "      <td>-0.314022</td>\n",
              "      <td>-0.032234</td>\n",
              "      <td>-0.047737</td>\n",
              "      <td>0.474335</td>\n",
              "      <td>-0.310495</td>\n",
              "      <td>-0.033736</td>\n",
              "      <td>-0.039174</td>\n",
              "      <td>0.346883</td>\n",
              "      <td>-0.346883</td>\n",
              "      <td>0.356642</td>\n",
              "      <td>-0.356642</td>\n",
              "      <td>0.291249</td>\n",
              "      <td>-0.291249</td>\n",
              "      <td>0.076266</td>\n",
              "      <td>-0.076266</td>\n",
              "      <td>0.346794</td>\n",
              "      <td>-0.346794</td>\n",
              "      <td>0.172252</td>\n",
              "      <td>-0.172252</td>\n",
              "      <td>0.245831</td>\n",
              "      <td>-0.245831</td>\n",
              "      <td>1.052796</td>\n",
              "      <td>-1.052796</td>\n",
              "      <td>0.007031</td>\n",
              "      <td>-0.007031</td>\n",
              "      <td>0.114762</td>\n",
              "      <td>-0.114762</td>\n",
              "      <td>0.173616</td>\n",
              "      <td>-0.173616</td>\n",
              "      <td>0.007031</td>\n",
              "      <td>-0.007031</td>\n",
              "      <td>-1.237679</td>\n",
              "      <td>1.237679</td>\n",
              "      <td>0.113875</td>\n",
              "      <td>-0.113875</td>\n",
              "      <td>0.080418</td>\n",
              "      <td>-0.080418</td>\n",
              "      <td>-0.421865</td>\n",
              "      <td>-0.171331</td>\n",
              "      <td>-0.052661</td>\n",
              "      <td>-0.058389</td>\n",
              "      <td>-0.011966</td>\n",
              "      <td>-0.339476</td>\n",
              "      <td>-0.130365</td>\n",
              "      <td>0.065727</td>\n",
              "      <td>-0.143062</td>\n",
              "      <td>-0.389580</td>\n",
              "      <td>-0.122153</td>\n",
              "    </tr>\n",
              "  </tbody>\n",
              "</table>\n",
              "</div>"
            ],
            "text/plain": [
              "   Proto_arp  Proto_icmp  Proto_igmp  ...      dTtl     sHops     dHops\n",
              "0  -0.314022   -0.032234   -0.047737  ... -0.143062  1.557699 -0.122153\n",
              "1   3.184489   -0.032234   -0.047737  ... -0.143062 -0.389580 -0.122153\n",
              "2  -0.314022   -0.032234   -0.047737  ... -0.143062 -0.389580 -0.122153\n",
              "3   3.184489   -0.032234   -0.047737  ... -0.143062 -0.389580 -0.122153\n",
              "4  -0.314022   -0.032234   -0.047737  ... -0.143062 -0.389580 -0.122153\n",
              "\n",
              "[5 rows x 48 columns]"
            ]
          },
          "execution_count": 25,
          "metadata": {
            "tags": []
          },
          "output_type": "execute_result"
        }
      ]
    },
    {
      "cell_type": "code",
      "metadata": {
        "colab": {
          "base_uri": "https://localhost:8080/"
        },
        "id": "LQcJ0DAVxZjN",
        "outputId": "12ab6fda-4d1d-465f-d2ff-a7b15a940239"
      },
      "source": [
        "# !pip install pca\n",
        "# clear_output()\n",
        "# Import libraries\n",
        "import numpy as np\n",
        "import pandas as pd\n",
        "from pca import pca\n",
        "\n",
        "\n",
        "# Initialize\n",
        "model = pca(n_components=0.99)\n",
        "# Fit transform\n",
        "out = model.fit_transform(data)\n",
        "\n",
        "# Print the top features. The results show that f1 is best, followed by f2 etc\n",
        "print(out['topfeat'][:30])\n"
      ],
      "execution_count": null,
      "outputs": [
        {
          "name": "stdout",
          "output_type": "stream",
          "text": [
            "[pca] >Processing dataframe..\n",
            "[pca] >The PCA reduction is performed to capture [99.0%] explained variance using the [48] columns of the input data.\n",
            "[pca] >Fitting using PCA..\n",
            "[pca] >Computing loadings and PCs..\n",
            "[pca] >Computing explained variance..\n",
            "[pca] >Number of components is [24] that covers the [99.00%] explained variance.\n",
            "[pca] >Outlier detection using Hotelling T2 test with alpha=[0.05] and n_components=[24]\n",
            "[pca] >Outlier detection using SPE/DmodX with n_std=[2]\n",
            "      PC        feature   loading  type\n",
            "0    PC1      State_N_1  0.341632  best\n",
            "1    PC2      State_R_0 -0.312045  best\n",
            "2    PC3           dTtl  0.284427  best\n",
            "3    PC4      State_D_0 -0.487745  best\n",
            "4    PC5      State_O_0  0.360300  best\n",
            "5    PC6      State_P_0  0.321274  best\n",
            "6    PC7      State_s_0 -0.378560  best\n",
            "7    PC8        DstRate  0.451797  best\n",
            "8    PC9      State_f_0  0.503376  best\n",
            "9   PC10     sMeanPktSz  0.595245  best\n",
            "10  PC11     Proto_igmp -0.479359  best\n",
            "11  PC12  Proto_unknown -0.564045  best\n",
            "12  PC13         DstWin  0.949739  best\n",
            "13  PC14        SrcRate  0.730772  best\n",
            "14  PC15         SrcWin -0.500673  best\n",
            "15  PC16     Proto_icmp  0.659579  best\n",
            "16  PC17     Proto_icmp  0.513777  best\n",
            "17  PC18     sMeanPktSz  0.650850  best\n",
            "18  PC19        DstRate  0.584915  best\n",
            "19  PC20          sHops -0.391158  best\n",
            "20  PC21          dHops  0.524349  best\n",
            "21  PC22            Dur -0.882494  best\n",
            "22  PC23     dMeanPktSz -0.570712  best\n",
            "23  PC24           sTtl -0.436113  best\n",
            "24  PC25      State_R_0 -0.430325  best\n",
            "25  PC26          dHops  0.493491  best\n",
            "26  PC27           dTtl -0.398863  best\n",
            "27  PC28           dTtl -0.461713  best\n",
            "28  PC29      State_N_1  0.436251  best\n",
            "29  PC30      State_T_0 -0.366201  best\n"
          ]
        }
      ]
    },
    {
      "cell_type": "code",
      "metadata": {
        "colab": {
          "base_uri": "https://localhost:8080/",
          "height": 586
        },
        "id": "rBvRlNWn8orj",
        "outputId": "98bc0f76-9809-4827-a868-68c32a3c889e"
      },
      "source": [
        "model.plot()"
      ],
      "execution_count": null,
      "outputs": [
        {
          "data": {
            "image/png": "[encoded data removed]",
            "text/plain": [
              "<Figure size 720x576 with 1 Axes>"
            ]
          },
          "metadata": {
            "tags": []
          },
          "output_type": "display_data"
        },
        {
          "data": {
            "text/plain": [
              "(<Figure size 720x576 with 1 Axes>,\n",
              " <matplotlib.axes._subplots.AxesSubplot at 0x7f5f47c6ef50>)"
            ]
          },
          "execution_count": 68,
          "metadata": {
            "tags": []
          },
          "output_type": "execute_result"
        },
        {
          "data": {
            "text/plain": [
              "<Figure size 432x288 with 0 Axes>"
            ]
          },
          "metadata": {
            "tags": []
          },
          "output_type": "display_data"
        }
      ]
    },
    {
      "cell_type": "code",
      "metadata": {
        "id": "yMMr1hmrqVda"
      },
      "source": [
        "def one_hot_scale_imputer(data,categorical_columns,numerical_columns):\n",
        "    \n",
        "#     We apply OHE when:\n",
        "\n",
        "#     1.When the values that are close to each other in the label \n",
        "#       encoding correspond to target values that aren't close (non - linear data).\n",
        "#     2.When the categorical feature is not ordinal (dog,cat,mouse).\n",
        "\n",
        "\n",
        "    categorical_columns = selector(dtype_include=object)(data)\n",
        "    data_categorical = data[categorical_columns]\n",
        "\n",
        "    numerical_columns = selector(dtype_include=np.number)(data)\n",
        "    data_numerical = data[numerical_columns]\n",
        "\n",
        "\n",
        "    categorical_imputer=SimpleImputer(strategy='constant',fill_value=\"\")\n",
        "    data_categorical=categorical_imputer.fit_transform(data_categorical)\n",
        "\n",
        "    encoder = OneHotEncoder(handle_unknown=\"ignore\", sparse=False)\n",
        "    data_categorical = encoder.fit_transform(data_categorical)\n",
        "\n",
        "\n",
        "    numerical_imputer=SimpleImputer(strategy='constant',fill_value=0)\n",
        "    data_numerical=numerical_imputer.fit_transform(data_numerical)\n",
        "\n",
        "\n",
        "    data_numerical = pd.DataFrame(data_numerical, columns=numerical_columns)\n",
        "\n",
        "\n",
        "\n",
        "    feature_names = encoder.get_feature_names(input_features=categorical_columns)\n",
        "    data_categorical = pd.DataFrame(data_categorical, columns=feature_names)\n",
        "\n",
        "\n",
        "\n",
        "    all_data=data_categorical.join(data_numerical)\n",
        "\n",
        "    scaler=StandardScaler()\n",
        "\n",
        "    data=pd.DataFrame(data=scaler.fit_transform(all_data),columns=all_data.columns)\n",
        "    return data\n",
        "    \n",
        "    "
      ],
      "execution_count": null,
      "outputs": []
    },
    {
      "cell_type": "markdown",
      "metadata": {
        "id": "x-3n6uSQdtPw"
      },
      "source": [
        "# Test [IOT-Bot-DATASET](https://research.unsw.edu.au/projects/bot-iot-dataset) "
      ]
    },
    {
      "cell_type": "markdown",
      "metadata": {
        "id": "3MDXQst_CjBv"
      },
      "source": [
        "### download :"
      ]
    },
    {
      "cell_type": "code",
      "metadata": {
        "id": "uj1mcvwzzO3S"
      },
      "source": [
        "# installing axel first\n",
        "!apt install axel\n",
        "clear_output()"
      ],
      "execution_count": null,
      "outputs": []
    },
    {
      "cell_type": "code",
      "metadata": {
        "id": "TuHbkCPZkPa1"
      },
      "source": [
        "# pcap files links\n",
        "\n",
        "!axel -n 10 --output='http_dos.pcap' 'https://cloudstor.aarnet.edu.au/plus/s/umT99TnxvbpkkoE/download?path=%2FPCAPs%2FDoS%2FDoS_HTTP&files=IoT_Dataset_HTTP_DoS__00006_20180604153831.pcap'\n",
        "!axel -n 10 --output='service_scan.pcap' 'https://cloudstor.aarnet.edu.au/plus/s/umT99TnxvbpkkoE/download?path=%2FPCAPs%2FScan%2FService&files=IoT_Dataset_ServiceScan__00002_20180515105815.pcap'\n",
        "!axel -n 10 --output='http_dos_2.pcap' 'https://cloudstor.aarnet.edu.au/plus/s/umT99TnxvbpkkoE/download?path=%2FPCAPs%2FDoS%2FDoS_HTTP&files=IoT_Dataset_HTTP_DoS__00003_20180604151522.pcap&downloadStartSecret=33u25udssvf'\n",
        "!axel -n 10 --output='udp_dos.pcap' 'https://cloudstor.aarnet.edu.au/plus/s/umT99TnxvbpkkoE/download?path=%2FPCAPs%2FDoS%2FDoS_UDP&files=IoT_Dataset_UDP_DoS__00003_20180604140300.pcap'\n",
        "!axel -n 10 --output='os_scan.pcap' 'https://cloudstor.aarnet.edu.au/plus/s/umT99TnxvbpkkoE/download?path=%2FPCAPs%2FScan%2FOS%2F2&files=IoT_Dataset_OSScan__00002_20180521193225.pcap'\n",
        "clear_output()\n",
        "\n"
      ],
      "execution_count": null,
      "outputs": []
    },
    {
      "cell_type": "markdown",
      "metadata": {
        "id": "idgbG0WqCdCG"
      },
      "source": [
        "### or mount from GDrive :"
      ]
    },
    {
      "cell_type": "code",
      "metadata": {
        "colab": {
          "base_uri": "https://localhost:8080/"
        },
        "id": "U1nROl5-zWJR",
        "outputId": "b042982a-c019-4d84-8c06-e56b119004f2"
      },
      "source": [
        "drive.mount('/gdrive')"
      ],
      "execution_count": null,
      "outputs": [
        {
          "output_type": "stream",
          "name": "stdout",
          "text": [
            "Mounted at /gdrive\n"
          ]
        }
      ]
    },
    {
      "cell_type": "code",
      "metadata": {
        "colab": {
          "base_uri": "https://localhost:8080/"
        },
        "id": "TRStV_4mzYbA",
        "outputId": "e7f2ef12-fde7-4739-9409-2817229a5683"
      },
      "source": [
        "cd  /content"
      ],
      "execution_count": null,
      "outputs": [
        {
          "output_type": "stream",
          "name": "stdout",
          "text": [
            "/content\n"
          ]
        }
      ]
    },
    {
      "cell_type": "code",
      "metadata": {
        "id": "0TLUOtXOzaXK"
      },
      "source": [
        "!cp '../../gdrive/MyDrive/pcaps.zip' '/content/sample_data/' "
      ],
      "execution_count": null,
      "outputs": []
    },
    {
      "cell_type": "code",
      "metadata": {
        "colab": {
          "base_uri": "https://localhost:8080/"
        },
        "id": "VrnwChJpwOyI",
        "outputId": "18deb1f7-824e-4062-c88c-5b57c6a2f0fb"
      },
      "source": [
        "cd /content/sample_data/"
      ],
      "execution_count": null,
      "outputs": [
        {
          "output_type": "stream",
          "name": "stdout",
          "text": [
            "/content/sample_data\n"
          ]
        }
      ]
    },
    {
      "cell_type": "code",
      "metadata": {
        "id": "Qyp_m8lXzvpr"
      },
      "source": [
        "!unzip  'pcaps.zip'"
      ],
      "execution_count": null,
      "outputs": []
    },
    {
      "cell_type": "code",
      "metadata": {
        "id": "w6Co-lw70OSK"
      },
      "source": [
        "!gunzip -r 'pcaps'"
      ],
      "execution_count": null,
      "outputs": []
    },
    {
      "cell_type": "code",
      "metadata": {
        "colab": {
          "base_uri": "https://localhost:8080/"
        },
        "id": "gmGfIIc-0e89",
        "outputId": "a417e244-9759-4390-b83b-4d4e1d299a53"
      },
      "source": [
        "cd /content/sample_data/pcaps"
      ],
      "execution_count": null,
      "outputs": [
        {
          "output_type": "stream",
          "name": "stdout",
          "text": [
            "/content/sample_data/pcaps\n"
          ]
        }
      ]
    },
    {
      "cell_type": "code",
      "metadata": {
        "colab": {
          "base_uri": "https://localhost:8080/"
        },
        "id": "Tk-WrDDSw45M",
        "outputId": "8fa38e84-8e94-4f4c-d6db-d26bb72bfcd6"
      },
      "source": [
        "g('/content/sample_data/pcaps/*.pcap')"
      ],
      "execution_count": null,
      "outputs": [
        {
          "output_type": "execute_result",
          "data": {
            "text/plain": [
              "['/content/sample_data/pcaps/http_dos_2.pcap',\n",
              " '/content/sample_data/pcaps/udp_dos.pcap',\n",
              " '/content/sample_data/pcaps/http_dos.pcap',\n",
              " '/content/sample_data/pcaps/os_scan.pcap',\n",
              " '/content/sample_data/pcaps/service_scan.pcap']"
            ]
          },
          "metadata": {},
          "execution_count": 10
        }
      ]
    },
    {
      "cell_type": "code",
      "metadata": {
        "colab": {
          "base_uri": "https://localhost:8080/",
          "height": 49,
          "referenced_widgets": [
            "b005a51924f64961817c2c3f9d841f2a",
            "f74edaea5b8b485a98d5143077f50c4b",
            "2d7b9a6787be498194186fb45e7ecb84",
            "1b9065d56aaa423486cfc198396eca85",
            "98153e148e0d4850b843da42c8f773d0",
            "172759338c344fa29072f2fed0db1437",
            "73395987e56c46568da3ac763c688e8f",
            "832a9c4d957b41efbf40bb2863ee5b7c",
            "9a401614935946ea8f04b795eee766f7",
            "6aebfcd2f020460bbc14ccf8341ab28f",
            "e500b4c30c8d4c28b0dbef4b1ba83239"
          ]
        },
        "id": "5k-ldfFHdzNC",
        "outputId": "c40b5360-5c46-488c-91e4-2a996279f0f4"
      },
      "source": [
        "import os\n",
        "from glob import glob as g\n",
        "import pandas as pd\n",
        "from tqdm.notebook import tqdm\n",
        "\n",
        "pcaps = g('/content/sample_data/pcaps/*.pcap')\n",
        "\n",
        "\n",
        "for file in tqdm(pcaps):\n",
        "\n",
        "  name=(file.split('/')[-1]).split('.')[0]\n",
        "\n",
        "  pcap_file=f\"{name}.pcap\"\n",
        "  argus_file=f\"{name}.argus\"\n",
        "  csv_file=f\"{name}.csv\"\n",
        "  csv_directory_path=\"/content/sample_data/pcaps/\"\n",
        "  output_path=os.path.join(csv_directory_path ,csv_file ) \n",
        "\n",
        "  !argus -r $pcap_file -m -w $argus_file\n",
        "\n",
        "  !ra -r $argus_file -z -s \\\n",
        "  saddr daddr  smac dmac sport dport state \\\n",
        "  proto srate drate \\\n",
        "  -c , > $output_path\n",
        "\n",
        "  !rm $argus_file\n",
        "  # stos dtos"
      ],
      "execution_count": null,
      "outputs": [
        {
          "output_type": "display_data",
          "data": {
            "application/vnd.jupyter.widget-view+json": {
              "model_id": "b005a51924f64961817c2c3f9d841f2a",
              "version_minor": 0,
              "version_major": 2
            },
            "text/plain": [
              "  0%|          | 0/5 [00:00<?, ?it/s]"
            ]
          },
          "metadata": {}
        }
      ]
    },
    {
      "cell_type": "code",
      "metadata": {
        "id": "5Midkn6LRQaQ"
      },
      "source": [
        "from sklearn.utils import shuffle\n",
        "# udp_dos=http_dos.append(http_dos_2)\n",
        "udp_dos=shuffle(udp_dos)\n",
        "\n",
        "# TEST=TEST.drop(['dMeanPktSz','sMeanPktSz','Dur'],axis=1)\n",
        "udp_dos.to_csv(\"udp_dos.csv\",index=False)"
      ],
      "execution_count": null,
      "outputs": []
    },
    {
      "cell_type": "code",
      "metadata": {
        "colab": {
          "base_uri": "https://localhost:8080/"
        },
        "id": "9L0iw-lH__67",
        "outputId": "ebfb5ba7-2b81-4009-f12f-6434971ca268"
      },
      "source": [
        "!zip udp_dos.zip 'udp_dos.csv'"
      ],
      "execution_count": null,
      "outputs": [
        {
          "output_type": "stream",
          "name": "stdout",
          "text": [
            "  adding: udp_dos.csv (deflated 88%)\n"
          ]
        }
      ]
    },
    {
      "cell_type": "code",
      "metadata": {
        "id": "MIfluUXJ0KR1",
        "colab": {
          "base_uri": "https://localhost:8080/"
        },
        "outputId": "1120e94c-90d2-4f3a-bff6-cb388259982f"
      },
      "source": [
        "cd /content/sample_data/pcaps"
      ],
      "execution_count": null,
      "outputs": [
        {
          "output_type": "stream",
          "name": "stdout",
          "text": [
            "/content/sample_data/pcaps\n"
          ]
        }
      ]
    },
    {
      "cell_type": "code",
      "metadata": {
        "colab": {
          "base_uri": "https://localhost:8080/"
        },
        "id": "CuyQEX733xTG",
        "outputId": "9f712542-5c5f-499d-e036-66af33d59ec4"
      },
      "source": [
        "os_scan=pd.read_csv('os_scan.csv')\n",
        "service_scan=pd.read_csv('service_scan.csv')\n",
        "udp_dos=pd.read_csv('udp_dos.csv')\n",
        "http_dos=pd.read_csv('http_dos.csv')\n",
        "http_dos_2=pd.read_csv('http_dos_2.csv')\n",
        "\n",
        "print('os_scan',os_scan.shape)\n",
        "print('service_scan',service_scan.shape)\n",
        "print('udp_dos',udp_dos.shape)\n",
        "print('http_dos',http_dos.shape)\n",
        "print('http_dos_2',http_dos_2.shape)"
      ],
      "execution_count": null,
      "outputs": [
        {
          "output_type": "stream",
          "name": "stdout",
          "text": [
            "os_scan (40417, 10)\n",
            "service_scan (9571, 10)\n",
            "udp_dos (1305812, 10)\n",
            "http_dos (763, 10)\n",
            "http_dos_2 (24049, 10)\n"
          ]
        }
      ]
    }
  ]
}